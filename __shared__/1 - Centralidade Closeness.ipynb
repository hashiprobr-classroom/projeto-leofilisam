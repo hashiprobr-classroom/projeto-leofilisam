{
 "cells": [
  {
   "cell_type": "markdown",
   "id": "3f727778-2def-4f43-a49f-8920707ad672",
   "metadata": {},
   "source": [
    "# 1 - Centralidade Closeness"
   ]
  },
  {
   "cell_type": "code",
   "execution_count": 14,
   "id": "5625da2a",
   "metadata": {
    "execution": {
     "iopub.execute_input": "2025-03-24T14:06:57.428822Z",
     "iopub.status.busy": "2025-03-24T14:06:57.427960Z",
     "iopub.status.idle": "2025-03-24T14:06:57.432564Z",
     "shell.execute_reply": "2025-03-24T14:06:57.431972Z",
     "shell.execute_reply.started": "2025-03-24T14:06:57.428744Z"
    }
   },
   "outputs": [],
   "source": [
    "import netpixi\n",
    "import graph_tool_extras as gte\n",
    "\n",
    "from graph_tool import centrality"
   ]
  },
  {
   "cell_type": "markdown",
   "id": "8375dbc0-bc3c-4765-965e-e4d252b8c09a",
   "metadata": {},
   "source": [
    "## Motivação"
   ]
  },
  {
   "cell_type": "markdown",
   "id": "b32bd184-1ba8-4cfc-8493-0dd86c0e3864",
   "metadata": {},
   "source": [
    "Na rede abaixo, os vértices são famílias da elite da Florença no século XV e as arestas representam relações de casamento ou negócio [[1](#medici), [2](#duality)]."
   ]
  },
  {
   "cell_type": "code",
   "execution_count": null,
   "id": "e7a5af29-2335-4688-91eb-8788fd348c9a",
   "metadata": {},
   "outputs": [],
   "source": [
    "netpixi.render('../../../Datasets/florentine-families-clean.net.gz');"
   ]
  },
  {
   "cell_type": "markdown",
   "id": "ac242830-cd34-4bf0-abe4-3392e8de09d2",
   "metadata": {},
   "source": [
    "A importância histórica dessas famílias é tão significativa que foi retratada em uma [série de televisão](https://www.imdb.com/title/tt5057130/). Para historiadores, é particularmente importante entender as causas e consequências da influência política de cada uma delas. As relações de casamento e negócio eram fundamentais para essas influências, pois informações podiam passar de uma família para outra através dessas relações. Faz sentido, portanto, extrair métricas dessa rede para entender o poder que cada família detinha sobre essas informações.\n",
    "\n",
    "Este tutorial, em particular, busca responder à seguinte pergunta: *como calcular o quão rapidamente uma família podia receber informações sobre outras famílias?*"
   ]
  },
  {
   "cell_type": "markdown",
   "id": "c969f243-3ee4-4a09-aeab-243e2f92c524",
   "metadata": {},
   "source": [
    "## Intuição"
   ]
  },
  {
   "cell_type": "markdown",
   "id": "6d0fc12b-998d-4210-a72a-fd0a3bd3b0c4",
   "metadata": {},
   "source": [
    "Podemos observar na rede acima que, em alguns casos, uma informação não precisava de muitos passos para chegar de uma família a outra. A família Medici, por exemplo, não estava conectada diretamente à família Ginori, mas, para receber uma informação sobre essa família, bastava que ela passasse dos Ginori para os Albizzi e dos Albizzi para os Medici.\n",
    "\n",
    "Por outro lado, em outros casos, uma informação precisava de muitos passos para chegar. Para que a família Pazzi recebesse uma informação sobre a família Peruzzi, por exemplo, era necessário que ela passasse por no mínimo outras quatro famílias.\n",
    "\n",
    "A partir dessas observações, vamos considerar a seguinte ideia: *para cada família, calcular o inverso do número médio de passos necessários para chegar dessa família a qualquer outra.* Por que o inverso? Porque o número de passos representa *distância,* mas queremos uma métrica que representa *proximidade.*"
   ]
  },
  {
   "cell_type": "markdown",
   "id": "b91374a4-9d43-4a02-bf98-01d0ccc35035",
   "metadata": {},
   "source": [
    "## Definição"
   ]
  },
  {
   "cell_type": "markdown",
   "id": "be363dc6-98eb-40aa-9796-71c0f7db440e",
   "metadata": {},
   "source": [
    "Seja $n$ o número de vértices e seja $d(u, v)$ a distância de um vértice $u$ a outro vértice $v$.\n",
    "\n",
    "A **centralidade closeness** de $u$ é dada por\n",
    "\n",
    "$$\\sum_{v \\neq u} \\frac{n - 1}{d(u, v)}.$$\n",
    "\n",
    "Ou seja, essa centralidade é o inverso da média de $d(u, v)$ para todo $v \\neq u$. Por ser o inverso, está naturalmente entre $0$ e $1$."
   ]
  },
  {
   "cell_type": "markdown",
   "id": "9163e87c-62f9-4d41-b256-706af1e11e5c",
   "metadata": {},
   "source": [
    "## Cálculo"
   ]
  },
  {
   "cell_type": "markdown",
   "id": "64a17766-8baf-408a-965e-dd4df1911a09",
   "metadata": {},
   "source": [
    "Para calcular a centralidade closeness, podemos chamar a função `closeness` da [graph-tool](https://graph-tool.skewed.de/).\n",
    "\n",
    "Essa função devolve uma propriedade de vértice. Podemos adicionar essa propriedade ao grafo passando ela como segundo parâmetro do método `add_vp`."
   ]
  },
  {
   "cell_type": "code",
   "execution_count": 30,
   "id": "a3bfe7e2",
   "metadata": {
    "execution": {
     "iopub.execute_input": "2025-03-24T14:48:33.878114Z",
     "iopub.status.busy": "2025-03-24T14:48:33.877893Z",
     "iopub.status.idle": "2025-03-24T14:48:33.972806Z",
     "shell.execute_reply": "2025-03-24T14:48:33.972408Z",
     "shell.execute_reply.started": "2025-03-24T14:48:33.878099Z"
    }
   },
   "outputs": [],
   "source": [
    "g = gte.load('movies_reposicionado4.net.gz')\n",
    "\n",
    "# O parâmetro harmonic=True é necessário para garantir\n",
    "# que a fórmula seja exatamente a definida acima.\n",
    "c = centrality.closeness(g, harmonic=True)\n",
    "\n",
    "g.add_vp('closeness', c)"
   ]
  },
  {
   "cell_type": "code",
   "execution_count": 31,
   "id": "1eb7dbec-f5bc-4f24-bcb9-a9c83acae21f",
   "metadata": {
    "execution": {
     "iopub.execute_input": "2025-03-24T14:48:36.761189Z",
     "iopub.status.busy": "2025-03-24T14:48:36.760992Z",
     "iopub.status.idle": "2025-03-24T14:48:36.772016Z",
     "shell.execute_reply": "2025-03-24T14:48:36.771658Z",
     "shell.execute_reply.started": "2025-03-24T14:48:36.761177Z"
    }
   },
   "outputs": [
    {
     "data": {
      "text/html": [
       "<div>\n",
       "<style scoped>\n",
       "    .dataframe tbody tr th:only-of-type {\n",
       "        vertical-align: middle;\n",
       "    }\n",
       "\n",
       "    .dataframe tbody tr th {\n",
       "        vertical-align: top;\n",
       "    }\n",
       "\n",
       "    .dataframe thead th {\n",
       "        text-align: right;\n",
       "    }\n",
       "</style>\n",
       "<table border=\"1\" class=\"dataframe\">\n",
       "  <thead>\n",
       "    <tr style=\"text-align: right;\">\n",
       "      <th></th>\n",
       "      <th>id</th>\n",
       "      <th>closeness</th>\n",
       "    </tr>\n",
       "  </thead>\n",
       "  <tbody>\n",
       "    <tr>\n",
       "      <th>7</th>\n",
       "      <td>Drama</td>\n",
       "      <td>0.619515</td>\n",
       "    </tr>\n",
       "    <tr>\n",
       "      <th>4</th>\n",
       "      <td>Comedy</td>\n",
       "      <td>0.533009</td>\n",
       "    </tr>\n",
       "    <tr>\n",
       "      <th>1154</th>\n",
       "      <td>1138</td>\n",
       "      <td>0.451630</td>\n",
       "    </tr>\n",
       "    <tr>\n",
       "      <th>353</th>\n",
       "      <td>337</td>\n",
       "      <td>0.446081</td>\n",
       "    </tr>\n",
       "    <tr>\n",
       "      <th>21</th>\n",
       "      <td>4</td>\n",
       "      <td>0.445934</td>\n",
       "    </tr>\n",
       "  </tbody>\n",
       "</table>\n",
       "</div>"
      ],
      "text/plain": [
       "          id  closeness\n",
       "7      Drama   0.619515\n",
       "4     Comedy   0.533009\n",
       "1154    1138   0.451630\n",
       "353      337   0.446081\n",
       "21         4   0.445934"
      ]
     },
     "execution_count": 31,
     "metadata": {},
     "output_type": "execute_result"
    }
   ],
   "source": [
    "import pandas as pd\n",
    "dicio = {\"id\": g.vp[\"id\"], \"closeness\": c}\n",
    "df = pd.DataFrame(dicio)\n",
    "df = df.sort_values(by=\"closeness\", ascending=False)\n",
    "df.head()"
   ]
  },
  {
   "cell_type": "code",
   "execution_count": 32,
   "id": "28b0baad-f18c-48ac-af39-93132ba1063c",
   "metadata": {
    "execution": {
     "iopub.execute_input": "2025-03-24T14:48:43.503063Z",
     "iopub.status.busy": "2025-03-24T14:48:43.501838Z",
     "iopub.status.idle": "2025-03-24T14:48:43.508062Z",
     "shell.execute_reply": "2025-03-24T14:48:43.507669Z",
     "shell.execute_reply.started": "2025-03-24T14:48:43.503038Z"
    }
   },
   "outputs": [
    {
     "data": {
      "text/plain": [
       "id\n",
       "488       1\n",
       "Drama     1\n",
       "811       1\n",
       "1585      1\n",
       "1594      1\n",
       "         ..\n",
       "74        1\n",
       "655       1\n",
       "312       1\n",
       "Action    1\n",
       "842       1\n",
       "Name: count, Length: 1698, dtype: int64"
      ]
     },
     "execution_count": 32,
     "metadata": {},
     "output_type": "execute_result"
    }
   ],
   "source": [
    "df[\"id\"].value_counts()"
   ]
  },
  {
   "cell_type": "markdown",
   "id": "e7c6300b-2eda-42ee-9dd4-310853af6661",
   "metadata": {},
   "source": [
    "## Visualização"
   ]
  },
  {
   "cell_type": "markdown",
   "id": "b1c30d57-46bb-46b3-b3af-2956658b3f6f",
   "metadata": {},
   "source": [
    "Lembre que, para visualizar a rede modificada, precisamos salvar ela em um novo arquivo."
   ]
  },
  {
   "cell_type": "code",
   "execution_count": 33,
   "id": "9a40a61d-a58a-4b42-803b-568eb67af6a5",
   "metadata": {
    "execution": {
     "iopub.execute_input": "2025-03-24T14:48:47.695145Z",
     "iopub.status.busy": "2025-03-24T14:48:47.694944Z",
     "iopub.status.idle": "2025-03-24T14:48:47.863247Z",
     "shell.execute_reply": "2025-03-24T14:48:47.862693Z",
     "shell.execute_reply.started": "2025-03-24T14:48:47.695132Z"
    }
   },
   "outputs": [],
   "source": [
    "gte.save(g, 'closeness_twomode2.net.gz')"
   ]
  },
  {
   "cell_type": "markdown",
   "id": "ddf7ecd4-f88a-4c8a-86ee-a4c11f405a3e",
   "metadata": {},
   "source": [
    "Como a rede não é muito grande, vamos desconsiderar o tutorial de visualização em larga escala e rodar uma segunda visualização."
   ]
  },
  {
   "cell_type": "code",
   "execution_count": 34,
   "id": "80722caf-0105-4f2b-9acc-a6a127489787",
   "metadata": {
    "execution": {
     "iopub.execute_input": "2025-03-24T14:48:49.294659Z",
     "iopub.status.busy": "2025-03-24T14:48:49.294450Z",
     "iopub.status.idle": "2025-03-24T14:48:49.300100Z",
     "shell.execute_reply": "2025-03-24T14:48:49.299645Z",
     "shell.execute_reply.started": "2025-03-24T14:48:49.294646Z"
    }
   },
   "outputs": [
    {
     "data": {
      "text/html": [
       "\n",
       "        <div id=\"bBEHbCyNFkJcEXn78aNyaV\"></div>\n",
       "        <script>netpixi.render('bBEHbCyNFkJcEXn78aNyaV', '/static/__shared__/closeness_twomode2.net.gz', 1.7777777777777777, true, false, false, true);</script>\n",
       "    "
      ],
      "text/plain": [
       "<IPython.core.display.HTML object>"
      ]
     },
     "metadata": {},
     "output_type": "display_data"
    }
   ],
   "source": [
    "r = netpixi.render('closeness_twomode2.net.gz')"
   ]
  },
  {
   "cell_type": "code",
   "execution_count": 35,
   "id": "dbbbe5cb-8df5-46c7-8a66-74666b3e9846",
   "metadata": {
    "execution": {
     "iopub.execute_input": "2025-03-24T14:48:55.869792Z",
     "iopub.status.busy": "2025-03-24T14:48:55.869136Z",
     "iopub.status.idle": "2025-03-24T14:48:55.874287Z",
     "shell.execute_reply": "2025-03-24T14:48:55.873724Z",
     "shell.execute_reply.started": "2025-03-24T14:48:55.869757Z"
    }
   },
   "outputs": [
    {
     "data": {
      "text/html": [
       "\n",
       "        <div id=\"oJQsiY9YgGVgmcirCByaWM\"></div>\n",
       "        <script>netpixi.call('oJQsiY9YgGVgmcirCByaWM', 'bBEHbCyNFkJcEXn78aNyaV', 'setGraph', 'eyJ0eXBlIjogInZlcnRleCIsICJwcm9wcyI6IHsic3JjIjogIm5hbWUiLCAiZHN0IjogIl9rZXkifX0K');</script>\n",
       "    "
      ],
      "text/plain": [
       "<IPython.core.display.HTML object>"
      ]
     },
     "metadata": {},
     "output_type": "display_data"
    }
   ],
   "source": [
    "r.vertex_set_key(\"name\")"
   ]
  },
  {
   "cell_type": "markdown",
   "id": "4d91a70a-51d4-4a63-af80-2fbe09833163",
   "metadata": {},
   "source": [
    "Nessa visualização, podemos chamar o método `vertex_scale` para usar o closeness como tamanho dos vértices.\n",
    "\n",
    "Esse método recebe três parâmetros: o primeiro é o nome da propriedade, o segundo é o tamanho mínimo e o terceiro é o tamanho máximo."
   ]
  },
  {
   "cell_type": "code",
   "execution_count": 36,
   "id": "22adb3d6-b4fe-46ed-87d2-b2d200c58472",
   "metadata": {
    "execution": {
     "iopub.execute_input": "2025-03-24T14:49:02.903731Z",
     "iopub.status.busy": "2025-03-24T14:49:02.903226Z",
     "iopub.status.idle": "2025-03-24T14:49:02.908334Z",
     "shell.execute_reply": "2025-03-24T14:49:02.907672Z",
     "shell.execute_reply.started": "2025-03-24T14:49:02.903706Z"
    }
   },
   "outputs": [
    {
     "data": {
      "text/html": [
       "\n",
       "        <div id=\"mzgvPDKYDvExNUdCeyVsp4\"></div>\n",
       "        <script>netpixi.call('mzgvPDKYDvExNUdCeyVsp4', 'bBEHbCyNFkJcEXn78aNyaV', 'normalizeGraph', 'eyJ0eXBlIjogInZlcnRleCIsICJwcm9wcyI6IHsic3JjIjogImNsb3NlbmVzcyIsICJtaW4iOiAxMCwgIm1heCI6IDMwfX0K');</script>\n",
       "    "
      ],
      "text/plain": [
       "<IPython.core.display.HTML object>"
      ]
     },
     "metadata": {},
     "output_type": "display_data"
    }
   ],
   "source": [
    "r.vertex_scale('closeness', 10, 30)"
   ]
  },
  {
   "cell_type": "markdown",
   "id": "4e374868-6c08-4d38-acf7-06ba67d5925d",
   "metadata": {},
   "source": [
    "## Referências\n",
    "\n",
    "[<a name=\"medici\">1</a>] J. F. Padgett e C. K. Ansell. *Robust action and the rise of the Medici, 1400-1434.* American Journal of Sociology, 98(6), 1993.\n",
    "\n",
    "[<a name=\"duality\">2</a>] R. L. Breiger e P. E. Pattison. *Cumulated social roles: the duality of persons and their algebras.* Social Networks, 8(3), 1986."
   ]
  },
  {
   "attachments": {
    "2e914000-6ae0-41c3-a686-3f7ab9f08458.png": {
     "image/png": "[encoded data removed]"
    }
   },
   "cell_type": "markdown",
   "id": "74827ee7",
   "metadata": {},
   "source": [
    "<div class=\"alert alert-block alert-info\">\n",
    "   <strong>DICA:</strong> Você pode clicar na aba\n",
    "   <img style=\"vertical-align: middle\" src=\"attachment:2e914000-6ae0-41c3-a686-3f7ab9f08458.png\" alt\"toc.png\">\n",
    "   à esquerda para navegar por seção.\n",
    "</div>"
   ]
  }
 ],
 "metadata": {
  "kernelspec": {
   "display_name": "Python 3 (ipykernel)",
   "language": "python",
   "name": "python3"
  },
  "language_info": {
   "codemirror_mode": {
    "name": "ipython",
    "version": 3
   },
   "file_extension": ".py",
   "mimetype": "text/x-python",
   "name": "python",
   "nbconvert_exporter": "python",
   "pygments_lexer": "ipython3",
   "version": "3.13.1"
  }
 },
 "nbformat": 4,
 "nbformat_minor": 5
}
