{
 "cells": [
  {
   "cell_type": "markdown",
   "id": "a6ca8ee4-b317-420a-988d-ebd369379e21",
   "metadata": {},
   "source": [
    "# 2 - Centralidade Betweenness"
   ]
  },
  {
   "cell_type": "code",
   "execution_count": 6,
   "id": "5625da2a",
   "metadata": {
    "execution": {
     "iopub.execute_input": "2025-03-24T14:07:07.954057Z",
     "iopub.status.busy": "2025-03-24T14:07:07.953082Z",
     "iopub.status.idle": "2025-03-24T14:07:07.960834Z",
     "shell.execute_reply": "2025-03-24T14:07:07.959981Z",
     "shell.execute_reply.started": "2025-03-24T14:07:07.953962Z"
    }
   },
   "outputs": [],
   "source": [
    "import netpixi\n",
    "import graph_tool_extras as gte\n",
    "\n",
    "from graph_tool import centrality"
   ]
  },
  {
   "cell_type": "markdown",
   "id": "2d5b4885-e0e3-4181-9414-c90786a6ae94",
   "metadata": {},
   "source": [
    "## Motivação"
   ]
  },
  {
   "cell_type": "markdown",
   "id": "96bbebea-8081-4e0b-9b2c-e5da9abd19aa",
   "metadata": {},
   "source": [
    "Na rede abaixo, os vértices são famílias da elite da Florença no século XV e as arestas representam relações de casamento ou negócio [[1](#medici), [2](#duality)]."
   ]
  },
  {
   "cell_type": "code",
   "execution_count": null,
   "id": "d7ba0923-e451-4a82-be03-a7b1e265ee08",
   "metadata": {},
   "outputs": [],
   "source": [
    "netpixi.render('../../../Datasets/florentine-families-clean.net.gz');"
   ]
  },
  {
   "cell_type": "markdown",
   "id": "f4ac0f92-e28f-45a3-9349-158a1e32259d",
   "metadata": {},
   "source": [
    "Particularmente no tutorial de closeness, vimos que faz sentido extrair métricas dessa rede para entender a influência política de cada família, pois informações podiam passar de uma para outra através das relações de casamento ou negócio.\n",
    "\n",
    "Este tutorial, em particular, busca responder à seguinte pergunta: *como calcular o quão importante uma família era para essa passagem de informações?*"
   ]
  },
  {
   "cell_type": "markdown",
   "id": "869b3614-dbe0-4298-b454-3b6cb5f6b71b",
   "metadata": {},
   "source": [
    "## Intuição"
   ]
  },
  {
   "cell_type": "markdown",
   "id": "f54007fc-9205-4729-9cc4-99fa506b3fd6",
   "metadata": {},
   "source": [
    "Podemos observar na rede acima que algumas famílias eram *intermediadoras,* ou seja, necessárias para que uma informação chegasse de uma família a outra. Para que a família Barbadori recebesse uma informação sobre a família Salviati, por exemplo, era necessário que ela passasse pela família Medici.\n",
    "\n",
    "Por outro lado, outras famílias *nunca* eram necessárias para que uma informação chegasse. A família Lamberteschi, por exemplo.\n",
    "\n",
    "A partir dessas observações, vamos considerar a seguinte ideia: *para cada família, calcular a quantidade relativa de caminhos que passam por ela.*"
   ]
  },
  {
   "cell_type": "markdown",
   "id": "44266c59-4c8f-461b-bd4d-ab28d40b1400",
   "metadata": {},
   "source": [
    "## Definição"
   ]
  },
  {
   "cell_type": "markdown",
   "id": "78d8889a-c1e8-4185-9b14-5e98823c5368",
   "metadata": {},
   "source": [
    "Seja $n$ o número de vértices.\n",
    "\n",
    "Seja $g(u, w)$ o número de geodésicas de um vértice $u$ a outro vértice $w$.\n",
    "\n",
    "Seja $g(u, v, w)$ o número de geodésicas de $u$ a $w$ que passam por um vértice $v$ tal que $u \\neq v$ e $w \\neq v$.\n",
    "\n",
    "Seja $p$ um número tal que\n",
    "\n",
    "$$\n",
    "p = \\frac{(n - 1) \\cdot (n - 2)}{2}\\textrm{ se o grafo é não-dirigido}\n",
    "\\hspace{4em}\n",
    "p = (n - 1) \\cdot (n - 2)\\textrm{ se o grafo é dirigido}\n",
    "$$\n",
    "\n",
    "A **centralidade betweenness** de $v$ é dada por\n",
    "\n",
    "$$\\sum_{u \\neq v, w \\neq v} \\frac{g(u, v, w)}{p \\cdot g(u, w)}.$$\n",
    "\n",
    "Ou seja, para todo par $(u, w)$, contamos o número de geodésicas de $u$ a $w$ que passam por $v$ e dividimos pelo número total de geodésicas de $u$ a $w$.\n",
    "\n",
    "A divisão por $p$ garante que a soma está entre $0$ e $1$, pois esse número é o total de pares."
   ]
  },
  {
   "cell_type": "markdown",
   "id": "a2c9fac1-9f71-4f4f-84b1-0bbdcb146dec",
   "metadata": {},
   "source": [
    "## Cálculo"
   ]
  },
  {
   "cell_type": "markdown",
   "id": "a01686e8-d49a-44c6-b4ce-2d4bdf3fb1db",
   "metadata": {},
   "source": [
    "Para calcular a centralidade betweenness, podemos chamar a função `betweenness` da [graph-tool](https://graph-tool.skewed.de/).\n",
    "\n",
    "Essa função devolve uma propriedade de vértice. Podemos adicionar essa propriedade ao grafo passando ela como segundo parâmetro do método `add_vp`."
   ]
  },
  {
   "cell_type": "code",
   "execution_count": 7,
   "id": "bcb5cf0f-6340-4d77-99be-b7f938255885",
   "metadata": {
    "execution": {
     "iopub.execute_input": "2025-03-24T14:07:41.278392Z",
     "iopub.status.busy": "2025-03-24T14:07:41.278162Z",
     "iopub.status.idle": "2025-03-24T14:07:41.362704Z",
     "shell.execute_reply": "2025-03-24T14:07:41.362271Z",
     "shell.execute_reply.started": "2025-03-24T14:07:41.278378Z"
    }
   },
   "outputs": [],
   "source": [
    "g = gte.load('movies_reposicionado2.net.gz')\n",
    "\n",
    "# Na verdade, o método devolve duas propriedades,\n",
    "# mas estamos interessados apenas na primeira.\n",
    "c, _ = centrality.betweenness(g)\n",
    "\n",
    "g.add_vp('betweenness', c)"
   ]
  },
  {
   "cell_type": "markdown",
   "id": "1ddcbfe5-8e1e-4b00-bfc7-22ab8c8a7894",
   "metadata": {},
   "source": [
    "## Visualização"
   ]
  },
  {
   "cell_type": "markdown",
   "id": "7564d0c6-120a-4fd4-bc67-c4dc407a14ce",
   "metadata": {},
   "source": [
    "Lembre que, para visualizar a rede modificada, precisamos salvar ela em um novo arquivo."
   ]
  },
  {
   "cell_type": "code",
   "execution_count": 8,
   "id": "dfff1ccf-dfab-44fc-9528-2cfe559a5e9a",
   "metadata": {
    "execution": {
     "iopub.execute_input": "2025-03-24T14:07:42.315404Z",
     "iopub.status.busy": "2025-03-24T14:07:42.315122Z",
     "iopub.status.idle": "2025-03-24T14:07:42.463809Z",
     "shell.execute_reply": "2025-03-24T14:07:42.463273Z",
     "shell.execute_reply.started": "2025-03-24T14:07:42.315388Z"
    }
   },
   "outputs": [],
   "source": [
    "gte.save(g, 'betweenness_twomode.net.gz')"
   ]
  },
  {
   "cell_type": "markdown",
   "id": "52e9d319-1bcf-4141-a27b-77de4e4aad30",
   "metadata": {},
   "source": [
    "Como a rede não é muito grande, vamos desconsiderar o tutorial de visualização em larga escala e rodar uma segunda visualização."
   ]
  },
  {
   "cell_type": "code",
   "execution_count": null,
   "id": "4e40f0cf-337f-452b-8cf3-0964caf7ad78",
   "metadata": {
    "scrolled": true
   },
   "outputs": [],
   "source": [
    "r = netpixi.render('betweenness_twomode.net.gz')"
   ]
  },
  {
   "cell_type": "markdown",
   "id": "a8697b9a-647f-46c8-92d3-6ee5a4e2752f",
   "metadata": {},
   "source": [
    "Nessa visualização, podemos chamar o método `vertex_scale` para usar o betweenness como tamanho dos vértices.\n",
    "\n",
    "Esse método recebe três parâmetros: o primeiro é o nome da propriedade, o segundo é o tamanho mínimo e o terceiro é o tamanho máximo."
   ]
  },
  {
   "cell_type": "code",
   "execution_count": 10,
   "id": "7b18fe4f-4b23-4e9f-a445-fd7ce260d42e",
   "metadata": {
    "execution": {
     "iopub.execute_input": "2025-03-24T14:07:51.201927Z",
     "iopub.status.busy": "2025-03-24T14:07:51.201369Z",
     "iopub.status.idle": "2025-03-24T14:07:51.212188Z",
     "shell.execute_reply": "2025-03-24T14:07:51.211299Z",
     "shell.execute_reply.started": "2025-03-24T14:07:51.201883Z"
    }
   },
   "outputs": [
    {
     "data": {
      "text/html": [
       "\n",
       "        <div id=\"BR2rVJG64iJJEagik5EwuJ\"></div>\n",
       "        <script>netpixi.call('BR2rVJG64iJJEagik5EwuJ', 'gBUv5a5v4bETRirMFrTFqX', 'normalizeGraph', 'eyJ0eXBlIjogInZlcnRleCIsICJwcm9wcyI6IHsic3JjIjogImJldHdlZW5uZXNzIiwgIm1pbiI6IDEwLCAibWF4IjogMzB9fQo=');</script>\n",
       "    "
      ],
      "text/plain": [
       "<IPython.core.display.HTML object>"
      ]
     },
     "metadata": {},
     "output_type": "display_data"
    }
   ],
   "source": [
    "r.vertex_scale('betweenness', 10, 30)"
   ]
  },
  {
   "cell_type": "markdown",
   "id": "fa764522-6e0b-4cf2-9839-42427345edef",
   "metadata": {},
   "source": [
    "Note que um vértice pode ter alto closeness e alto betweenness ao mesmo tempo, mas não necessariamente. No [tutorial anterior](2%20-%20Centralidade%20Closeness.ipynb), vimos que as famílias Medici, Ridolfi e Tornabuoni têm closeness alto. Neste tutorial, vemos que a família Medici tem betweenness alto, mas as famílias Ridolfi e Tornabuoni têm betweenness baixo."
   ]
  },
  {
   "cell_type": "markdown",
   "id": "b2b7f7d2-7970-4793-b3fc-de7179bf597f",
   "metadata": {},
   "source": [
    "## Referências\n",
    "\n",
    "[<a name=\"medici\">1</a>] J. F. Padgett e C. K. Ansell. *Robust action and the rise of the Medici, 1400-1434.* American Journal of Sociology, 98(6), 1993.\n",
    "\n",
    "[<a name=\"duality\">2</a>] R. L. Breiger e P. E. Pattison. *Cumulated social roles: the duality of persons and their algebras.* Social Networks, 8(3), 1986."
   ]
  },
  {
   "attachments": {
    "b28e3c8b-7c50-44fc-8c53-ea5ad22e8edb.png": {
     "image/png": "[encoded data removed]"
    }
   },
   "cell_type": "markdown",
   "id": "74827ee7",
   "metadata": {},
   "source": [
    "<div class=\"alert alert-block alert-info\">\n",
    "   <strong>DICA:</strong> Você pode clicar na aba\n",
    "   <img style=\"vertical-align: middle\" src=\"attachment:b28e3c8b-7c50-44fc-8c53-ea5ad22e8edb.png\" alt\"toc.png\">\n",
    "   à esquerda para navegar por seção.\n",
    "</div>"
   ]
  }
 ],
 "metadata": {
  "kernelspec": {
   "display_name": "Python 3 (ipykernel)",
   "language": "python",
   "name": "python3"
  },
  "language_info": {
   "codemirror_mode": {
    "name": "ipython",
    "version": 3
   },
   "file_extension": ".py",
   "mimetype": "text/x-python",
   "name": "python",
   "nbconvert_exporter": "python",
   "pygments_lexer": "ipython3",
   "version": "3.13.1"
  }
 },
 "nbformat": 4,
 "nbformat_minor": 5
}
