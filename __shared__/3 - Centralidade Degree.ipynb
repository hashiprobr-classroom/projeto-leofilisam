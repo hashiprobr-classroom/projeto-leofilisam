{
 "cells": [
  {
   "cell_type": "markdown",
   "id": "f6be3408-780a-4117-a26a-154db700e3c3",
   "metadata": {
    "execution": {
     "iopub.execute_input": "2023-09-06T14:09:20.342952Z",
     "iopub.status.busy": "2023-09-06T14:09:20.341909Z",
     "iopub.status.idle": "2023-09-06T14:09:20.377912Z",
     "shell.execute_reply": "2023-09-06T14:09:20.373828Z",
     "shell.execute_reply.started": "2023-09-06T14:09:20.342871Z"
    }
   },
   "source": [
    "# 3 - Centralidade Degree"
   ]
  },
  {
   "cell_type": "code",
   "execution_count": 7,
   "id": "5625da2a",
   "metadata": {
    "execution": {
     "iopub.execute_input": "2025-03-24T14:08:19.765360Z",
     "iopub.status.busy": "2025-03-24T14:08:19.764674Z",
     "iopub.status.idle": "2025-03-24T14:08:19.772181Z",
     "shell.execute_reply": "2025-03-24T14:08:19.771089Z",
     "shell.execute_reply.started": "2025-03-24T14:08:19.765311Z"
    }
   },
   "outputs": [],
   "source": [
    "import netpixi\n",
    "import graph_tool_extras as gte"
   ]
  },
  {
   "cell_type": "markdown",
   "id": "e77b4a69-c2ea-46bf-903b-61246a92f718",
   "metadata": {},
   "source": [
    "## Motivação"
   ]
  },
  {
   "cell_type": "markdown",
   "id": "6830097c-3c1c-4335-b6e4-69d359080b01",
   "metadata": {},
   "source": [
    "Na rede abaixo, os vértices são famílias da elite da Florença no século XV e as arestas representam relações de casamento ou negócio [[1](#medici), [2](#duality)]."
   ]
  },
  {
   "cell_type": "code",
   "execution_count": null,
   "id": "555de333-da4b-49e7-a8cc-08b3675a854c",
   "metadata": {},
   "outputs": [],
   "source": [
    "netpixi.render('../../../Datasets/florentine-families-clean.net.gz');"
   ]
  },
  {
   "cell_type": "markdown",
   "id": "d7836d0e-417c-4295-a076-6d65206b02c0",
   "metadata": {},
   "source": [
    "Particularmente no tutorial de closeness, vimos que faz sentido extrair métricas dessa rede para entender a influência política de cada família, pois informações podiam passar de uma para outra através das relações de casamento ou negócio.\n",
    "\n",
    "Já no tutorial de betweenness, vimos que parte dessa passagem dependia de intermediadoras.\n",
    "\n",
    "Este tutorial, em particular, busca responder à seguinte pergunta: *como calcular o quanto uma família podia receber informações diretamente, sem a necessidade de intermediadoras?*"
   ]
  },
  {
   "cell_type": "markdown",
   "id": "e5168e21-cb30-49ad-8b3e-908696d463d9",
   "metadata": {},
   "source": [
    "## Intuição"
   ]
  },
  {
   "cell_type": "markdown",
   "id": "fc3359c0-2759-4413-91cf-2f30897012e3",
   "metadata": {},
   "source": [
    "Podemos observar na rede acima que algumas famílias têm mais conexões que outras.\n",
    "\n",
    "A família Medici, por exemplo, têm seis conexões, enquanto a família Acciaiuoli tem apenas uma.\n",
    "\n",
    "A partir dessas observações, vamos considerar a seguinte ideia: *para cada família, calcular sua quantidade relativa de conexões.*"
   ]
  },
  {
   "cell_type": "markdown",
   "id": "fe97c6d2-4a03-4e07-94fa-859bce045364",
   "metadata": {},
   "source": [
    "## Definição"
   ]
  },
  {
   "cell_type": "markdown",
   "id": "18f4a898-0f44-4590-8bfd-65c34771202e",
   "metadata": {},
   "source": [
    "Seja $n$ o número de vértices.\n",
    "\n",
    "Dado um vértice $v$:\n",
    "* o **degree** de $v$ é seu número de vizinhos;\n",
    "* o **in-degree** de $v$ é seu número de predecessores;\n",
    "* o **out-degree** de $v$ é seu número de sucessores.\n",
    "\n",
    "Uma **centralidade degree** de $v$ é dada por:\n",
    "\n",
    "$$\\frac{\\delta(v)}{n - 1},$$\n",
    "\n",
    "onde $\\delta(v)$ é um dos três degrees acima. A divisão por $n-1$ garante que ela está entre $0$ e $1$."
   ]
  },
  {
   "cell_type": "markdown",
   "id": "529095c6-a79c-4646-ba5d-d0a95b945fb4",
   "metadata": {},
   "source": [
    "## Cálculo"
   ]
  },
  {
   "cell_type": "markdown",
   "id": "0796ec6a-6232-4905-88ee-b8fe3088c98d",
   "metadata": {},
   "source": [
    "Para calcular as centralidades degree, podemos chamar as funções `total_degree`, `in_degree` e `out_degree`.\n",
    "\n",
    "Essas funções devolvem uma propriedade de vértice. Podemos adicionar essa propriedade ao grafo passando ela como segundo parâmetro do método `add_vp`."
   ]
  },
  {
   "cell_type": "code",
   "execution_count": 8,
   "id": "740b1a89-c4f4-4930-8c1f-309a49d7fcf9",
   "metadata": {
    "execution": {
     "iopub.execute_input": "2025-03-24T14:08:36.934587Z",
     "iopub.status.busy": "2025-03-24T14:08:36.934038Z",
     "iopub.status.idle": "2025-03-24T14:08:36.999121Z",
     "shell.execute_reply": "2025-03-24T14:08:36.998755Z",
     "shell.execute_reply.started": "2025-03-24T14:08:36.934568Z"
    }
   },
   "outputs": [],
   "source": [
    "g = gte.load('movies_reposicionado2.net.gz')\n",
    "\n",
    "c = gte.total_degree(g)\n",
    "\n",
    "g.add_vp('degree', c)"
   ]
  },
  {
   "cell_type": "markdown",
   "id": "470c9a69-0908-47dc-b1a8-a47968128d69",
   "metadata": {},
   "source": [
    "## Visualização"
   ]
  },
  {
   "cell_type": "markdown",
   "id": "64ce9461-1950-4a7e-b4d7-a060a1f343c3",
   "metadata": {},
   "source": [
    "Lembre que, para visualizar a rede modificada, precisamos salvar ela em um novo arquivo."
   ]
  },
  {
   "cell_type": "code",
   "execution_count": 9,
   "id": "85595748-804d-4cf7-925a-ed2b75c57013",
   "metadata": {
    "execution": {
     "iopub.execute_input": "2025-03-24T14:08:37.557570Z",
     "iopub.status.busy": "2025-03-24T14:08:37.557355Z",
     "iopub.status.idle": "2025-03-24T14:08:37.711220Z",
     "shell.execute_reply": "2025-03-24T14:08:37.710760Z",
     "shell.execute_reply.started": "2025-03-24T14:08:37.557557Z"
    }
   },
   "outputs": [],
   "source": [
    "gte.save(g, 'degree_twomode.net.gz')"
   ]
  },
  {
   "cell_type": "markdown",
   "id": "0bab2c0e-1e90-48ab-bc0d-de515c73a573",
   "metadata": {},
   "source": [
    "Como a rede não é muito grande, vamos desconsiderar o tutorial de visualização em larga escala e rodar uma segunda visualização."
   ]
  },
  {
   "cell_type": "code",
   "execution_count": null,
   "id": "144840c6-cb0c-44b8-aded-f686ee9248df",
   "metadata": {},
   "outputs": [],
   "source": [
    "r = netpixi.render('degree_twomode.net.gz')"
   ]
  },
  {
   "cell_type": "markdown",
   "id": "99eed4f1-f2c3-4c5b-b39e-f9857c9dcc7f",
   "metadata": {},
   "source": [
    "Nessa visualização, podemos chamar o método `vertex_scale` para usar o degree como tamanho dos vértices.\n",
    "\n",
    "Esse método recebe três parâmetros: o primeiro é o nome da propriedade, o segundo é o tamanho mínimo e o terceiro é o tamanho máximo."
   ]
  },
  {
   "cell_type": "code",
   "execution_count": 11,
   "id": "3da6d875-5e2f-438e-917e-52684582684c",
   "metadata": {
    "execution": {
     "iopub.execute_input": "2025-03-24T14:08:38.948656Z",
     "iopub.status.busy": "2025-03-24T14:08:38.948111Z",
     "iopub.status.idle": "2025-03-24T14:08:38.958822Z",
     "shell.execute_reply": "2025-03-24T14:08:38.957832Z",
     "shell.execute_reply.started": "2025-03-24T14:08:38.948616Z"
    }
   },
   "outputs": [
    {
     "data": {
      "text/html": [
       "\n",
       "        <div id=\"nuWMWF9KvGJrBHie8CTQHF\"></div>\n",
       "        <script>netpixi.call('nuWMWF9KvGJrBHie8CTQHF', '3XcQLmmaTtP4siGGyNgECc', 'normalizeGraph', 'eyJ0eXBlIjogInZlcnRleCIsICJwcm9wcyI6IHsic3JjIjogImRlZ3JlZSIsICJtaW4iOiAxMCwgIm1heCI6IDMwfX0K');</script>\n",
       "    "
      ],
      "text/plain": [
       "<IPython.core.display.HTML object>"
      ]
     },
     "metadata": {},
     "output_type": "display_data"
    }
   ],
   "source": [
    "r.vertex_scale('degree', 10, 30)"
   ]
  },
  {
   "cell_type": "markdown",
   "id": "e885e87c",
   "metadata": {},
   "source": [
    "<div class=\"alert alert-block alert-warning\">\n",
    "\n",
    "  **AVISO:** Tecnicamente, uma centralidade degree não é uma métrica de rede, pois o cálculo não depende da construção da rede.\n",
    "\n",
    "</div>"
   ]
  },
  {
   "cell_type": "markdown",
   "id": "60390a3d-53ec-483d-9390-12cc32c7c6c5",
   "metadata": {},
   "source": [
    "## Referências\n",
    "\n",
    "[<a name=\"medici\">1</a>] J. F. Padgett e C. K. Ansell. *Robust action and the rise of the Medici, 1400-1434.* American Journal of Sociology, 98(6), 1993.\n",
    "\n",
    "[<a name=\"duality\">2</a>] R. L. Breiger e P. E. Pattison. *Cumulated social roles: the duality of persons and their algebras.* Social Networks, 8(3), 1986."
   ]
  },
  {
   "attachments": {
    "4c61db89-8cbd-44d0-94a0-0fab1ecdf5b4.png": {
     "image/png": "[encoded data removed]"
    }
   },
   "cell_type": "markdown",
   "id": "74827ee7",
   "metadata": {},
   "source": [
    "<div class=\"alert alert-block alert-info\">\n",
    "   <strong>DICA:</strong> Você pode clicar na aba\n",
    "   <img style=\"vertical-align: middle\" src=\"attachment:4c61db89-8cbd-44d0-94a0-0fab1ecdf5b4.png\" alt\"toc.png\">\n",
    "   à esquerda para navegar por seção.\n",
    "</div>"
   ]
  }
 ],
 "metadata": {
  "kernelspec": {
   "display_name": "Python 3 (ipykernel)",
   "language": "python",
   "name": "python3"
  },
  "language_info": {
   "codemirror_mode": {
    "name": "ipython",
    "version": 3
   },
   "file_extension": ".py",
   "mimetype": "text/x-python",
   "name": "python",
   "nbconvert_exporter": "python",
   "pygments_lexer": "ipython3",
   "version": "3.13.1"
  }
 },
 "nbformat": 4,
 "nbformat_minor": 5
}
