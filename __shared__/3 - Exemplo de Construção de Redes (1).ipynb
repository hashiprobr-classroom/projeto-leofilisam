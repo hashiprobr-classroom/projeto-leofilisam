{
 "cells": [
  {
   "cell_type": "markdown",
   "id": "118a1114-874f-4d58-8f28-c8ffa70c3d26",
   "metadata": {},
   "source": [
    "# 3 - Exemplo de Construção de Redes"
   ]
  },
  {
   "cell_type": "code",
   "execution_count": 60,
   "id": "15aa2641-b0de-4e45-aba8-764d69c65ce5",
   "metadata": {
    "execution": {
     "iopub.execute_input": "2025-03-24T14:05:07.958087Z",
     "iopub.status.busy": "2025-03-24T14:05:07.957776Z",
     "iopub.status.idle": "2025-03-24T14:05:07.961480Z",
     "shell.execute_reply": "2025-03-24T14:05:07.960935Z",
     "shell.execute_reply.started": "2025-03-24T14:05:07.958071Z"
    }
   },
   "outputs": [],
   "source": [
    "import graph_tool_extras as gte\n",
    "import pandas as pd\n",
    "import csv"
   ]
  },
  {
   "cell_type": "markdown",
   "id": "f03f43c5-fb24-4a55-96a4-f18471c63aa5",
   "metadata": {},
   "source": [
    "## Introdução"
   ]
  },
  {
   "cell_type": "markdown",
   "id": "d597472b-884c-40c7-8751-9302a57b2cd4",
   "metadata": {},
   "source": [
    "Para conduzir este notebook, vamos considerar o objetivo de construir uma rede baseada em partidas do *Campeonato Brasileiro de Futebol.*\n",
    "\n",
    "Em particular, vamos considerar o arquivo abaixo, que pertence ao dataset [Campeonato Brasileiro de futebol](https://www.kaggle.com/datasets/adaoduque/campeonato-brasileiro-de-futebol), disponível no [Kaggle](https://www.kaggle.com/)."
   ]
  },
  {
   "cell_type": "code",
   "execution_count": 61,
   "id": "113e55fa-d6cd-44e3-ba05-e0c06dfbb966",
   "metadata": {
    "execution": {
     "iopub.execute_input": "2025-03-24T14:05:08.675122Z",
     "iopub.status.busy": "2025-03-24T14:05:08.674615Z",
     "iopub.status.idle": "2025-03-24T14:05:08.678509Z",
     "shell.execute_reply": "2025-03-24T14:05:08.677916Z",
     "shell.execute_reply.started": "2025-03-24T14:05:08.675092Z"
    }
   },
   "outputs": [],
   "source": [
    "PATH = 'df_final.csv'"
   ]
  },
  {
   "cell_type": "markdown",
   "id": "bd65cc91-e28e-43f7-9d7b-0d0559dc1a15",
   "metadata": {},
   "source": [
    "## Leitura dos dados em memória"
   ]
  },
  {
   "cell_type": "markdown",
   "id": "a783c854-2537-44bd-96d9-3de979f94197",
   "metadata": {
    "execution": {
     "iopub.execute_input": "2023-07-31T17:27:33.396597Z",
     "iopub.status.busy": "2023-07-31T17:27:33.395874Z",
     "iopub.status.idle": "2023-07-31T17:27:33.410028Z",
     "shell.execute_reply": "2023-07-31T17:27:33.406720Z",
     "shell.execute_reply.started": "2023-07-31T17:27:33.396552Z"
    }
   },
   "source": [
    "Na melhor das situações, o arquivo é pequeno o suficiente para caber em memória e está em um formato suportado pelo [pandas](https://pandas.pydata.org/), como é justamente o caso do CSV."
   ]
  },
  {
   "cell_type": "code",
   "execution_count": 62,
   "id": "c5222841-fb43-4f52-9dbe-717edf099060",
   "metadata": {
    "execution": {
     "iopub.execute_input": "2025-03-24T14:05:09.284388Z",
     "iopub.status.busy": "2025-03-24T14:05:09.284163Z",
     "iopub.status.idle": "2025-03-24T14:05:09.450432Z",
     "shell.execute_reply": "2025-03-24T14:05:09.449905Z",
     "shell.execute_reply.started": "2025-03-24T14:05:09.284375Z"
    }
   },
   "outputs": [],
   "source": [
    "df = pd.read_csv(PATH)"
   ]
  },
  {
   "cell_type": "code",
   "execution_count": 63,
   "id": "f2d0fdfa-dff3-4aa2-aca4-08900c90a835",
   "metadata": {
    "execution": {
     "iopub.execute_input": "2025-03-24T14:05:09.468414Z",
     "iopub.status.busy": "2025-03-24T14:05:09.468196Z",
     "iopub.status.idle": "2025-03-24T14:05:09.473327Z",
     "shell.execute_reply": "2025-03-24T14:05:09.472885Z",
     "shell.execute_reply.started": "2025-03-24T14:05:09.468400Z"
    }
   },
   "outputs": [
    {
     "data": {
      "text/plain": [
       "100000"
      ]
     },
     "execution_count": 63,
     "metadata": {},
     "output_type": "execute_result"
    }
   ],
   "source": [
    "len(df)"
   ]
  },
  {
   "cell_type": "markdown",
   "id": "efc35fd7-7164-4e77-947d-993834e01236",
   "metadata": {
    "execution": {
     "iopub.execute_input": "2023-07-31T17:35:16.113932Z",
     "iopub.status.busy": "2023-07-31T17:35:16.113379Z",
     "iopub.status.idle": "2023-07-31T17:35:16.128196Z",
     "shell.execute_reply": "2023-07-31T17:35:16.125535Z",
     "shell.execute_reply.started": "2023-07-31T17:35:16.113890Z"
    }
   },
   "source": [
    "Nesse caso, podemos usar o método `head` para examinar as primeiras linhas e entender a organização dos dados."
   ]
  },
  {
   "cell_type": "code",
   "execution_count": 64,
   "id": "c90bf9a0-a7df-4262-bc14-aba426b983cc",
   "metadata": {
    "execution": {
     "iopub.execute_input": "2025-03-24T14:05:09.833969Z",
     "iopub.status.busy": "2025-03-24T14:05:09.833560Z",
     "iopub.status.idle": "2025-03-24T14:05:09.849477Z",
     "shell.execute_reply": "2025-03-24T14:05:09.848922Z",
     "shell.execute_reply.started": "2025-03-24T14:05:09.833953Z"
    }
   },
   "outputs": [
    {
     "data": {
      "text/html": [
       "<div>\n",
       "<style scoped>\n",
       "    .dataframe tbody tr th:only-of-type {\n",
       "        vertical-align: middle;\n",
       "    }\n",
       "\n",
       "    .dataframe tbody tr th {\n",
       "        vertical-align: top;\n",
       "    }\n",
       "\n",
       "    .dataframe thead th {\n",
       "        text-align: right;\n",
       "    }\n",
       "</style>\n",
       "<table border=\"1\" class=\"dataframe\">\n",
       "  <thead>\n",
       "    <tr style=\"text-align: right;\">\n",
       "      <th></th>\n",
       "      <th>user_id</th>\n",
       "      <th>movie_id</th>\n",
       "      <th>rating</th>\n",
       "      <th>timestamp</th>\n",
       "      <th>title</th>\n",
       "      <th>release_date</th>\n",
       "      <th>IMDb_URL</th>\n",
       "      <th>genres</th>\n",
       "      <th>age</th>\n",
       "      <th>gender</th>\n",
       "      <th>occupation</th>\n",
       "      <th>zip_code</th>\n",
       "    </tr>\n",
       "  </thead>\n",
       "  <tbody>\n",
       "    <tr>\n",
       "      <th>0</th>\n",
       "      <td>196</td>\n",
       "      <td>242</td>\n",
       "      <td>3</td>\n",
       "      <td>881250949</td>\n",
       "      <td>Kolya (1996)</td>\n",
       "      <td>24-Jan-1997</td>\n",
       "      <td>http://us.imdb.com/M/title-exact?Kolya%20(1996)</td>\n",
       "      <td>Comedy</td>\n",
       "      <td>49</td>\n",
       "      <td>M</td>\n",
       "      <td>writer</td>\n",
       "      <td>55105</td>\n",
       "    </tr>\n",
       "    <tr>\n",
       "      <th>1</th>\n",
       "      <td>186</td>\n",
       "      <td>302</td>\n",
       "      <td>3</td>\n",
       "      <td>891717742</td>\n",
       "      <td>L.A. Confidential (1997)</td>\n",
       "      <td>01-Jan-1997</td>\n",
       "      <td>http://us.imdb.com/M/title-exact?L%2EA%2E+Conf...</td>\n",
       "      <td>Crime|Film-Noir|Mystery|Thriller</td>\n",
       "      <td>39</td>\n",
       "      <td>F</td>\n",
       "      <td>executive</td>\n",
       "      <td>00000</td>\n",
       "    </tr>\n",
       "    <tr>\n",
       "      <th>2</th>\n",
       "      <td>22</td>\n",
       "      <td>377</td>\n",
       "      <td>1</td>\n",
       "      <td>878887116</td>\n",
       "      <td>Heavyweights (1994)</td>\n",
       "      <td>01-Jan-1994</td>\n",
       "      <td>http://us.imdb.com/M/title-exact?Heavyweights%...</td>\n",
       "      <td>Children|Comedy</td>\n",
       "      <td>25</td>\n",
       "      <td>M</td>\n",
       "      <td>writer</td>\n",
       "      <td>40206</td>\n",
       "    </tr>\n",
       "    <tr>\n",
       "      <th>3</th>\n",
       "      <td>244</td>\n",
       "      <td>51</td>\n",
       "      <td>2</td>\n",
       "      <td>880606923</td>\n",
       "      <td>Legends of the Fall (1994)</td>\n",
       "      <td>01-Jan-1994</td>\n",
       "      <td>http://us.imdb.com/M/title-exact?Legends%20of%...</td>\n",
       "      <td>Drama|Romance|War|Western</td>\n",
       "      <td>28</td>\n",
       "      <td>M</td>\n",
       "      <td>technician</td>\n",
       "      <td>80525</td>\n",
       "    </tr>\n",
       "    <tr>\n",
       "      <th>4</th>\n",
       "      <td>166</td>\n",
       "      <td>346</td>\n",
       "      <td>1</td>\n",
       "      <td>886397596</td>\n",
       "      <td>Jackie Brown (1997)</td>\n",
       "      <td>01-Jan-1997</td>\n",
       "      <td>http://us.imdb.com/M/title-exact?imdb-title-11...</td>\n",
       "      <td>Crime|Drama</td>\n",
       "      <td>47</td>\n",
       "      <td>M</td>\n",
       "      <td>educator</td>\n",
       "      <td>55113</td>\n",
       "    </tr>\n",
       "  </tbody>\n",
       "</table>\n",
       "</div>"
      ],
      "text/plain": [
       "   user_id  movie_id  rating  timestamp                       title  \\\n",
       "0      196       242       3  881250949                Kolya (1996)   \n",
       "1      186       302       3  891717742    L.A. Confidential (1997)   \n",
       "2       22       377       1  878887116         Heavyweights (1994)   \n",
       "3      244        51       2  880606923  Legends of the Fall (1994)   \n",
       "4      166       346       1  886397596         Jackie Brown (1997)   \n",
       "\n",
       "  release_date                                           IMDb_URL  \\\n",
       "0  24-Jan-1997    http://us.imdb.com/M/title-exact?Kolya%20(1996)   \n",
       "1  01-Jan-1997  http://us.imdb.com/M/title-exact?L%2EA%2E+Conf...   \n",
       "2  01-Jan-1994  http://us.imdb.com/M/title-exact?Heavyweights%...   \n",
       "3  01-Jan-1994  http://us.imdb.com/M/title-exact?Legends%20of%...   \n",
       "4  01-Jan-1997  http://us.imdb.com/M/title-exact?imdb-title-11...   \n",
       "\n",
       "                             genres  age gender  occupation zip_code  \n",
       "0                            Comedy   49      M      writer    55105  \n",
       "1  Crime|Film-Noir|Mystery|Thriller   39      F   executive    00000  \n",
       "2                   Children|Comedy   25      M      writer    40206  \n",
       "3         Drama|Romance|War|Western   28      M  technician    80525  \n",
       "4                       Crime|Drama   47      M    educator    55113  "
      ]
     },
     "execution_count": 64,
     "metadata": {},
     "output_type": "execute_result"
    }
   ],
   "source": [
    "df.drop(columns=[\"Unnamed: 0\"], inplace=True)\n",
    "df.head()"
   ]
  },
  {
   "cell_type": "code",
   "execution_count": 65,
   "id": "953f1210-138a-4735-b6c8-995c1f4625d9",
   "metadata": {
    "execution": {
     "iopub.execute_input": "2025-03-24T14:05:10.011604Z",
     "iopub.status.busy": "2025-03-24T14:05:10.011396Z",
     "iopub.status.idle": "2025-03-24T14:05:10.027348Z",
     "shell.execute_reply": "2025-03-24T14:05:10.026893Z",
     "shell.execute_reply.started": "2025-03-24T14:05:10.011590Z"
    }
   },
   "outputs": [],
   "source": [
    "df = df.loc[df[\"genres\"] != \"unknown\", :]"
   ]
  },
  {
   "cell_type": "code",
   "execution_count": 66,
   "id": "41ba7d08-d276-4a6d-b3ee-282abad4a606",
   "metadata": {
    "execution": {
     "iopub.execute_input": "2025-03-24T14:05:10.201268Z",
     "iopub.status.busy": "2025-03-24T14:05:10.200943Z",
     "iopub.status.idle": "2025-03-24T14:05:10.210387Z",
     "shell.execute_reply": "2025-03-24T14:05:10.209896Z",
     "shell.execute_reply.started": "2025-03-24T14:05:10.201250Z"
    }
   },
   "outputs": [
    {
     "data": {
      "text/html": [
       "<div>\n",
       "<style scoped>\n",
       "    .dataframe tbody tr th:only-of-type {\n",
       "        vertical-align: middle;\n",
       "    }\n",
       "\n",
       "    .dataframe tbody tr th {\n",
       "        vertical-align: top;\n",
       "    }\n",
       "\n",
       "    .dataframe thead th {\n",
       "        text-align: right;\n",
       "    }\n",
       "</style>\n",
       "<table border=\"1\" class=\"dataframe\">\n",
       "  <thead>\n",
       "    <tr style=\"text-align: right;\">\n",
       "      <th></th>\n",
       "      <th>user_id</th>\n",
       "      <th>movie_id</th>\n",
       "      <th>rating</th>\n",
       "      <th>timestamp</th>\n",
       "      <th>title</th>\n",
       "      <th>release_date</th>\n",
       "      <th>IMDb_URL</th>\n",
       "      <th>genres</th>\n",
       "      <th>age</th>\n",
       "      <th>gender</th>\n",
       "      <th>occupation</th>\n",
       "      <th>zip_code</th>\n",
       "    </tr>\n",
       "  </thead>\n",
       "  <tbody>\n",
       "    <tr>\n",
       "      <th>0</th>\n",
       "      <td>196</td>\n",
       "      <td>242</td>\n",
       "      <td>3</td>\n",
       "      <td>881250949</td>\n",
       "      <td>Kolya (1996)</td>\n",
       "      <td>24-Jan-1997</td>\n",
       "      <td>http://us.imdb.com/M/title-exact?Kolya%20(1996)</td>\n",
       "      <td>Comedy</td>\n",
       "      <td>49</td>\n",
       "      <td>M</td>\n",
       "      <td>writer</td>\n",
       "      <td>55105</td>\n",
       "    </tr>\n",
       "    <tr>\n",
       "      <th>1</th>\n",
       "      <td>186</td>\n",
       "      <td>302</td>\n",
       "      <td>3</td>\n",
       "      <td>891717742</td>\n",
       "      <td>L.A. Confidential (1997)</td>\n",
       "      <td>01-Jan-1997</td>\n",
       "      <td>http://us.imdb.com/M/title-exact?L%2EA%2E+Conf...</td>\n",
       "      <td>Crime|Film-Noir|Mystery|Thriller</td>\n",
       "      <td>39</td>\n",
       "      <td>F</td>\n",
       "      <td>executive</td>\n",
       "      <td>00000</td>\n",
       "    </tr>\n",
       "    <tr>\n",
       "      <th>2</th>\n",
       "      <td>22</td>\n",
       "      <td>377</td>\n",
       "      <td>1</td>\n",
       "      <td>878887116</td>\n",
       "      <td>Heavyweights (1994)</td>\n",
       "      <td>01-Jan-1994</td>\n",
       "      <td>http://us.imdb.com/M/title-exact?Heavyweights%...</td>\n",
       "      <td>Children|Comedy</td>\n",
       "      <td>25</td>\n",
       "      <td>M</td>\n",
       "      <td>writer</td>\n",
       "      <td>40206</td>\n",
       "    </tr>\n",
       "    <tr>\n",
       "      <th>3</th>\n",
       "      <td>244</td>\n",
       "      <td>51</td>\n",
       "      <td>2</td>\n",
       "      <td>880606923</td>\n",
       "      <td>Legends of the Fall (1994)</td>\n",
       "      <td>01-Jan-1994</td>\n",
       "      <td>http://us.imdb.com/M/title-exact?Legends%20of%...</td>\n",
       "      <td>Drama|Romance|War|Western</td>\n",
       "      <td>28</td>\n",
       "      <td>M</td>\n",
       "      <td>technician</td>\n",
       "      <td>80525</td>\n",
       "    </tr>\n",
       "    <tr>\n",
       "      <th>4</th>\n",
       "      <td>166</td>\n",
       "      <td>346</td>\n",
       "      <td>1</td>\n",
       "      <td>886397596</td>\n",
       "      <td>Jackie Brown (1997)</td>\n",
       "      <td>01-Jan-1997</td>\n",
       "      <td>http://us.imdb.com/M/title-exact?imdb-title-11...</td>\n",
       "      <td>Crime|Drama</td>\n",
       "      <td>47</td>\n",
       "      <td>M</td>\n",
       "      <td>educator</td>\n",
       "      <td>55113</td>\n",
       "    </tr>\n",
       "  </tbody>\n",
       "</table>\n",
       "</div>"
      ],
      "text/plain": [
       "   user_id  movie_id  rating  timestamp                       title  \\\n",
       "0      196       242       3  881250949                Kolya (1996)   \n",
       "1      186       302       3  891717742    L.A. Confidential (1997)   \n",
       "2       22       377       1  878887116         Heavyweights (1994)   \n",
       "3      244        51       2  880606923  Legends of the Fall (1994)   \n",
       "4      166       346       1  886397596         Jackie Brown (1997)   \n",
       "\n",
       "  release_date                                           IMDb_URL  \\\n",
       "0  24-Jan-1997    http://us.imdb.com/M/title-exact?Kolya%20(1996)   \n",
       "1  01-Jan-1997  http://us.imdb.com/M/title-exact?L%2EA%2E+Conf...   \n",
       "2  01-Jan-1994  http://us.imdb.com/M/title-exact?Heavyweights%...   \n",
       "3  01-Jan-1994  http://us.imdb.com/M/title-exact?Legends%20of%...   \n",
       "4  01-Jan-1997  http://us.imdb.com/M/title-exact?imdb-title-11...   \n",
       "\n",
       "                             genres  age gender  occupation zip_code  \n",
       "0                            Comedy   49      M      writer    55105  \n",
       "1  Crime|Film-Noir|Mystery|Thriller   39      F   executive    00000  \n",
       "2                   Children|Comedy   25      M      writer    40206  \n",
       "3         Drama|Romance|War|Western   28      M  technician    80525  \n",
       "4                       Crime|Drama   47      M    educator    55113  "
      ]
     },
     "execution_count": 66,
     "metadata": {},
     "output_type": "execute_result"
    }
   ],
   "source": [
    "df.head()"
   ]
  },
  {
   "cell_type": "code",
   "execution_count": 67,
   "id": "3c8a6138-815b-402a-bb2c-edd339bb1d1d",
   "metadata": {
    "execution": {
     "iopub.execute_input": "2025-03-24T14:05:10.375129Z",
     "iopub.status.busy": "2025-03-24T14:05:10.374793Z",
     "iopub.status.idle": "2025-03-24T14:05:10.381540Z",
     "shell.execute_reply": "2025-03-24T14:05:10.380922Z",
     "shell.execute_reply.started": "2025-03-24T14:05:10.375113Z"
    }
   },
   "outputs": [
    {
     "data": {
      "text/plain": [
       "0         242\n",
       "1         302\n",
       "2         377\n",
       "3          51\n",
       "4         346\n",
       "         ... \n",
       "99995     476\n",
       "99996     204\n",
       "99997    1090\n",
       "99998     225\n",
       "99999     203\n",
       "Name: movie_id, Length: 99990, dtype: int64"
      ]
     },
     "execution_count": 67,
     "metadata": {},
     "output_type": "execute_result"
    }
   ],
   "source": [
    "df.movie_id"
   ]
  },
  {
   "cell_type": "markdown",
   "id": "62ccef99-1467-4b6d-b276-49cb95f2e44c",
   "metadata": {},
   "source": [
    "É possível, no entanto, que o arquivo esteja em um formato que nenhuma biblioteca suporta. Nesse caso, podemos usar os métodos `readline` e `readlines` do Python..."
   ]
  },
  {
   "cell_type": "code",
   "execution_count": 68,
   "id": "b0472b17-5e68-4a33-ad51-aa7a3b98ea6f",
   "metadata": {
    "execution": {
     "iopub.execute_input": "2025-03-24T14:05:10.976234Z",
     "iopub.status.busy": "2025-03-24T14:05:10.975975Z",
     "iopub.status.idle": "2025-03-24T14:05:11.004389Z",
     "shell.execute_reply": "2025-03-24T14:05:11.003908Z",
     "shell.execute_reply.started": "2025-03-24T14:05:10.976210Z"
    }
   },
   "outputs": [],
   "source": [
    "with open(PATH) as file:\n",
    "\n",
    "    # Ignora a primeira linha, pois ela é o cabeçalho.\n",
    "    file.readline()\n",
    "\n",
    "    # Armazena as linhas seguintes como lista de strings.\n",
    "    lines = file.readlines()"
   ]
  },
  {
   "cell_type": "markdown",
   "id": "3b47f4fd-8604-4334-bda4-dc74c3dcca49",
   "metadata": {},
   "source": [
    "...mas isso apenas separa o arquivo em linhas. "
   ]
  },
  {
   "cell_type": "code",
   "execution_count": 69,
   "id": "e63422a2-3473-427b-8008-fecf6b112e2a",
   "metadata": {
    "execution": {
     "iopub.execute_input": "2025-03-24T14:05:11.360937Z",
     "iopub.status.busy": "2025-03-24T14:05:11.360664Z",
     "iopub.status.idle": "2025-03-24T14:05:11.364430Z",
     "shell.execute_reply": "2025-03-24T14:05:11.363893Z",
     "shell.execute_reply.started": "2025-03-24T14:05:11.360921Z"
    }
   },
   "outputs": [
    {
     "name": "stdout",
     "output_type": "stream",
     "text": [
      "0,196,242,3,881250949,Kolya (1996),24-Jan-1997,http://us.imdb.com/M/title-exact?Kolya%20(1996),Comedy,49,M,writer,55105\n",
      "\n",
      "1,186,302,3,891717742,L.A. Confidential (1997),01-Jan-1997,http://us.imdb.com/M/title-exact?L%2EA%2E+Confidential+(1997),Crime|Film-Noir|Mystery|Thriller,39,F,executive,00000\n",
      "\n",
      "2,22,377,1,878887116,Heavyweights (1994),01-Jan-1994,http://us.imdb.com/M/title-exact?Heavyweights%20(1994),Children|Comedy,25,M,writer,40206\n",
      "\n",
      "3,244,51,2,880606923,Legends of the Fall (1994),01-Jan-1994,http://us.imdb.com/M/title-exact?Legends%20of%20the%20Fall%20(1994),Drama|Romance|War|Western,28,M,technician,80525\n",
      "\n",
      "4,166,346,1,886397596,Jackie Brown (1997),01-Jan-1997,http://us.imdb.com/M/title-exact?imdb-title-119396,Crime|Drama,47,M,educator,55113\n",
      "\n"
     ]
    }
   ],
   "source": [
    "# Para não sobrecarregar este notebook, vamos usar um\n",
    "# slice para imprimir apenas as cinco primeiras linhas.\n",
    "for line in lines[:5]:\n",
    "    print(line)"
   ]
  },
  {
   "cell_type": "markdown",
   "id": "c2e022ea-6d66-41be-9140-615fc5f7b9d7",
   "metadata": {},
   "source": [
    "Para extrair dados dessas linhas, devemos entender o formato delas e implementar um *parsing* do zero."
   ]
  },
  {
   "cell_type": "code",
   "execution_count": 70,
   "id": "77bfdc6c-6206-4df0-9157-ed54b90a9368",
   "metadata": {
    "execution": {
     "iopub.execute_input": "2025-03-24T14:05:11.963340Z",
     "iopub.status.busy": "2025-03-24T14:05:11.962763Z",
     "iopub.status.idle": "2025-03-24T14:05:11.967409Z",
     "shell.execute_reply": "2025-03-24T14:05:11.966902Z",
     "shell.execute_reply.started": "2025-03-24T14:05:11.963313Z"
    }
   },
   "outputs": [
    {
     "name": "stdout",
     "output_type": "stream",
     "text": [
      "4 8125094 olya (1996\n",
      "0 9171774 .A. Confidential (1997\n",
      "7 7888711 eavyweights (1994\n",
      " 8060692 egends of the Fall (1994\n",
      "4 8639759 ackie Brown (1997\n"
     ]
    }
   ],
   "source": [
    "# Para não sobrecarregar este notebook, vamos usar um\n",
    "# slice para imprimir apenas as cinco primeiras linhas.\n",
    "for line in lines[:5]:\n",
    "\n",
    "    # Separa a linha em partes, usando\n",
    "    # o caractere ',' como separador.\n",
    "    parts = line.split(',')\n",
    "\n",
    "    # Ignora o primeiro e último caracteres\n",
    "    # de cada parte, para eliminar as aspas.\n",
    "    parts = [part[1:-1] for part in parts]\n",
    "\n",
    "    # Imprime a data, o mandante e o visitante.\n",
    "    print(parts[2], parts[4], parts[5])"
   ]
  },
  {
   "cell_type": "markdown",
   "id": "efa3f118-e7f3-451e-b429-14c567a9025f",
   "metadata": {},
   "source": [
    "## Leitura dos dados em disco"
   ]
  },
  {
   "cell_type": "markdown",
   "id": "31c540be-6dc2-438c-8581-d95006602bd9",
   "metadata": {},
   "source": [
    "Em muitas situações, por outro lado, o arquivo é grande demais para caber em memória. Nesses casos, é necessário processar esse arquivo linha por linha, sem nunca carregá-lo inteiro.\n",
    "\n",
    "Dependendo do formato, o *parsing* dessas linhas pode ser feito por uma biblioteca. Novamente, esse é justamente o caso do CSV: podemos usar a função `reader` do módulo [csv](https://docs.python.org/3/library/csv.html)."
   ]
  },
  {
   "cell_type": "code",
   "execution_count": 71,
   "id": "715b9d98-50c1-4522-956a-2650f8792a31",
   "metadata": {
    "execution": {
     "iopub.execute_input": "2025-03-24T14:05:12.833540Z",
     "iopub.status.busy": "2025-03-24T14:05:12.833094Z",
     "iopub.status.idle": "2025-03-24T14:05:12.839486Z",
     "shell.execute_reply": "2025-03-24T14:05:12.838913Z",
     "shell.execute_reply.started": "2025-03-24T14:05:12.833522Z"
    }
   },
   "outputs": [
    {
     "name": "stdout",
     "output_type": "stream",
     "text": [
      "242 881250949 Kolya (1996)\n",
      "302 891717742 L.A. Confidential (1997)\n",
      "377 878887116 Heavyweights (1994)\n",
      "51 880606923 Legends of the Fall (1994)\n",
      "346 886397596 Jackie Brown (1997)\n"
     ]
    }
   ],
   "source": [
    "with open(PATH) as file:\n",
    "    reader = csv.reader(file)\n",
    "\n",
    "    # Para não sobrecarregar este notebook, vamos usar um contador\n",
    "    # e um break para imprimir apenas as cinco primeiras linhas.\n",
    "    i = 0\n",
    "\n",
    "    # Ignora a primeira linha, pois ela é o cabeçalho.\n",
    "    next(reader)\n",
    "\n",
    "    # Lê o arquivo linha por linha, sem carregá-lo inteiro na memória.\n",
    "    for line in reader:\n",
    "\n",
    "        # Imprime a data, o mandante e o visitante.\n",
    "        print(line[2], line[4], line[5])\n",
    "\n",
    "        # Para não sobrecarregar este notebook, vamos usar um contador\n",
    "        # e um break para imprimir apenas as cinco primeiras linhas.\n",
    "        i += 1\n",
    "        if i == 5:\n",
    "            break"
   ]
  },
  {
   "cell_type": "markdown",
   "id": "444656bf-6060-4265-b781-8abeb567d0f2",
   "metadata": {},
   "source": [
    "Na pior das situações, o arquivo é grande e está em um formato não suportado. Nessa situação, infelizmente, devemos implementar praticamente tudo do zero."
   ]
  },
  {
   "cell_type": "code",
   "execution_count": 72,
   "id": "2a34c6d8-99f4-48ec-b7ed-b90577630a20",
   "metadata": {
    "execution": {
     "iopub.execute_input": "2025-03-24T14:05:13.803313Z",
     "iopub.status.busy": "2025-03-24T14:05:13.802890Z",
     "iopub.status.idle": "2025-03-24T14:05:13.809377Z",
     "shell.execute_reply": "2025-03-24T14:05:13.808903Z",
     "shell.execute_reply.started": "2025-03-24T14:05:13.803295Z"
    }
   },
   "outputs": [
    {
     "name": "stdout",
     "output_type": "stream",
     "text": [
      "4 8125094 olya (1996\n",
      "0 9171774 .A. Confidential (1997\n",
      "7 7888711 eavyweights (1994\n",
      " 8060692 egends of the Fall (1994\n",
      "4 8639759 ackie Brown (1997\n"
     ]
    }
   ],
   "source": [
    "with open(PATH) as file:\n",
    "\n",
    "    # Para não sobrecarregar este notebook, vamos usar um contador\n",
    "    # e um break para imprimir apenas as cinco primeiras linhas.\n",
    "    i = 0\n",
    "\n",
    "    # Ignora a primeira linha, pois ela é o cabeçalho.\n",
    "    next(file)\n",
    "\n",
    "    # Lê o arquivo linha por linha, sem carregá-lo inteiro na memória.\n",
    "    for line in file:\n",
    "\n",
    "        # Transforma a linha em uma lista de partes,\n",
    "        # considerando o caractere ',' como separador.\n",
    "        parts = line.split(',')\n",
    "\n",
    "        # Ignora o primeiro e último caracteres\n",
    "        # de cada parte, para eliminar as aspas.\n",
    "        parts = [part[1:-1] for part in parts]\n",
    "\n",
    "        # Imprime a data, o mandante e o visitante.\n",
    "        print(parts[2], parts[4], parts[5])\n",
    "\n",
    "        # Para não sobrecarregar este notebook, vamos usar um contador\n",
    "        # e um break para imprimir apenas as cinco primeiras linhas.\n",
    "        i += 1\n",
    "        if i == 5:\n",
    "            break"
   ]
  },
  {
   "cell_type": "markdown",
   "id": "9cf7454d-eb89-4440-bd54-263359584c54",
   "metadata": {},
   "source": [
    "## Fazendo gráfico de distribuição"
   ]
  },
  {
   "cell_type": "code",
   "execution_count": 45,
   "id": "c7618e38-6522-4a90-9d7f-7c23039cee98",
   "metadata": {
    "execution": {
     "iopub.execute_input": "2025-03-24T13:31:05.045587Z",
     "iopub.status.busy": "2025-03-24T13:31:05.044973Z",
     "iopub.status.idle": "2025-03-24T13:31:05.743661Z",
     "shell.execute_reply": "2025-03-24T13:31:05.742658Z",
     "shell.execute_reply.started": "2025-03-24T13:31:05.045544Z"
    }
   },
   "outputs": [
    {
     "name": "stdout",
     "output_type": "stream",
     "text": [
      "     Gênero 1   Gênero 2  Contagem\n",
      "0      Action  Adventure     10305\n",
      "14     Action   Thriller     10100\n",
      "103     Drama    Romance      8017\n",
      "13     Action     Sci-Fi      7968\n",
      "70     Comedy    Romance      7542\n",
      "..        ...        ...       ...\n",
      "137   Musical    Western         0\n",
      "141   Mystery        War         0\n",
      "142   Mystery    Western         0\n",
      "149    Sci-Fi    Western         0\n",
      "151  Thriller    Western         0\n",
      "\n",
      "[153 rows x 3 columns]\n"
     ]
    },
    {
     "data": {
      "image/png": "[encoded data removed]",
      "text/plain": [
       "<Figure size 1500x800 with 1 Axes>"
      ]
     },
     "metadata": {},
     "output_type": "display_data"
    }
   ],
   "source": [
    "import pandas as pd\n",
    "import matplotlib.pyplot as plt\n",
    "import itertools\n",
    "\n",
    "# Dicionário para armazenar a contagem dos pares de gêneros\n",
    "pair_counts = {}\n",
    "\n",
    "# Conjunto para armazenar todos os gêneros encontrados\n",
    "all_genres = set()\n",
    "\n",
    "# Itera por cada filme único para contar os pares de gêneros\n",
    "for genres_str in df['genres']:\n",
    "    # Separa os gêneros e remove entradas indesejadas\n",
    "    genres = [g.strip() for g in genres_str.split('|') if g.strip() != \"(no genres listed)\"]\n",
    "    # Ordena os gêneros para garantir consistência (evitar duplicatas invertidas)\n",
    "    genres = sorted(genres)\n",
    "    \n",
    "    # Adiciona os gêneros do filme ao conjunto total\n",
    "    all_genres.update(genres)\n",
    "    \n",
    "    # Se o filme tiver pelo menos dois gêneros, gera os pares\n",
    "    if len(genres) >= 2:\n",
    "        for pair in itertools.combinations(genres, 2):\n",
    "            pair_counts[pair] = pair_counts.get(pair, 0) + 1\n",
    "\n",
    "# Gera todos os pares possíveis a partir do conjunto total de gêneros\n",
    "all_possible_pairs = list(itertools.combinations(sorted(all_genres), 2))\n",
    "\n",
    "# Cria uma lista de dicionários para incluir todos os pares,\n",
    "# atribuindo 0 para aqueles que não aparecem na contagem\n",
    "all_pairs_data = [\n",
    "    {'Gênero 1': pair[0], 'Gênero 2': pair[1], 'Contagem': pair_counts.get(pair, 0)}\n",
    "    for pair in all_possible_pairs\n",
    "]\n",
    "\n",
    "# Converte a lista para um DataFrame e ordena (por exemplo, decrescente pela contagem)\n",
    "df_all_pairs = pd.DataFrame(all_pairs_data)\n",
    "df_all_pairs = df_all_pairs.sort_values(by='Contagem', ascending=False)\n",
    "\n",
    "# Exibe todos os pares no console\n",
    "print(df_all_pairs)\n",
    "\n",
    "# Plota um gráfico de barras para visualizar todos os pares\n",
    "plt.figure(figsize=(15,8))\n",
    "plt.bar(range(len(df_all_pairs)), df_all_pairs['Contagem'], color='skyblue')\n",
    "plt.xticks(\n",
    "    range(len(df_all_pairs)), \n",
    "    [f\"{row['Gênero 1']} & {row['Gênero 2']}\" for _, row in df_all_pairs.iterrows()], \n",
    "    rotation=90, ha='center'\n",
    ")\n",
    "plt.xlabel('Pares de Gêneros')\n",
    "plt.ylabel('Número de Filmes')\n",
    "plt.title('Pares de Gêneros com Filmes em Comum (incluindo 0 ocorrências)')\n",
    "plt.tight_layout()\n",
    "plt.show()\n",
    "\n",
    "   \n",
    "    \n"
   ]
  },
  {
   "cell_type": "code",
   "execution_count": 46,
   "id": "262d7e6b-1214-4fc6-9b32-202650305724",
   "metadata": {
    "execution": {
     "iopub.execute_input": "2025-03-24T13:31:10.009035Z",
     "iopub.status.busy": "2025-03-24T13:31:10.008779Z",
     "iopub.status.idle": "2025-03-24T13:31:10.013179Z",
     "shell.execute_reply": "2025-03-24T13:31:10.012678Z",
     "shell.execute_reply.started": "2025-03-24T13:31:10.009020Z"
    }
   },
   "outputs": [
    {
     "name": "stdout",
     "output_type": "stream",
     "text": [
      "{('Crime', 'Film-Noir'): 721, ('Crime', 'Mystery'): 955, ('Crime', 'Thriller'): 3157, ('Film-Noir', 'Mystery'): 766, ('Film-Noir', 'Thriller'): 974, ('Mystery', 'Thriller'): 3270, ('Children', 'Comedy'): 3122, ('Drama', 'Romance'): 8017, ('Drama', 'War'): 5162, ('Drama', 'Western'): 520, ('Romance', 'War'): 3292, ('Romance', 'Western'): 81, ('War', 'Western'): 81, ('Crime', 'Drama'): 4067, ('Sci-Fi', 'War'): 2824, ('Action', 'Thriller'): 10100, ('Adventure', 'Children'): 1882, ('Adventure', 'Romance'): 2424, ('Children', 'Romance'): 178, ('Comedy', 'Musical'): 1826, ('Comedy', 'Romance'): 7542, ('Musical', 'Romance'): 877, ('Action', 'Adventure'): 10305, ('Action', 'Comedy'): 3176, ('Action', 'Sci-Fi'): 7968, ('Adventure', 'Comedy'): 2322, ('Adventure', 'Sci-Fi'): 5135, ('Comedy', 'Sci-Fi'): 1577, ('Action', 'Crime'): 2150, ('Adventure', 'Crime'): 826, ('Comedy', 'Crime'): 1270, ('Adventure', 'Thriller'): 2304, ('Animation', 'Children'): 2932, ('Animation', 'Comedy'): 1328, ('Animation', 'Musical'): 1868, ('Children', 'Musical'): 2492, ('Action', 'Horror'): 1285, ('Drama', 'Thriller'): 5419, ('Comedy', 'Horror'): 826, ('Drama', 'Mystery'): 1343, ('Adventure', 'Horror'): 278, ('Action', 'Romance'): 4656, ('Action', 'War'): 4527, ('Action', 'Drama'): 4443, ('Comedy', 'Drama'): 4117, ('Adventure', 'War'): 2168, ('Romance', 'Sci-Fi'): 1642, ('Children', 'Drama'): 1222, ('Children', 'Fantasy'): 807, ('Children', 'Sci-Fi'): 551, ('Drama', 'Fantasy'): 422, ('Drama', 'Sci-Fi'): 2233, ('Fantasy', 'Sci-Fi'): 656, ('Horror', 'Thriller'): 1811, ('Adventure', 'Drama'): 1714, ('Action', 'Western'): 848, ('Comedy', 'Western'): 568, ('Children', 'Mystery'): 60, ('Comedy', 'Mystery'): 429, ('Comedy', 'Thriller'): 1030, ('Drama', 'Musical'): 950, ('Action', 'Mystery'): 1023, ('Mystery', 'Romance'): 492, ('Romance', 'Thriller'): 2521, ('Adventure', 'Musical'): 496, ('Sci-Fi', 'Thriller'): 3431, ('Crime', 'Horror'): 334, ('Horror', 'Mystery'): 288, ('Action', 'Musical'): 404, ('Musical', 'Thriller'): 84, ('Thriller', 'War'): 846, ('Mystery', 'Sci-Fi'): 439, ('Adventure', 'Mystery'): 386, ('Drama', 'Horror'): 369, ('Comedy', 'Fantasy'): 494, ('Animation', 'Sci-Fi'): 181, ('Action', 'Children'): 206, ('Action', 'Fantasy'): 276, ('Adventure', 'Fantasy'): 535, ('Comedy', 'War'): 1204, ('Animation', 'Thriller'): 194, ('Adventure', 'Animation'): 337, ('Musical', 'War'): 114, ('Film-Noir', 'Sci-Fi'): 291, ('Horror', 'Sci-Fi'): 933, ('Fantasy', 'Thriller'): 70, ('Adventure', 'Western'): 304, ('Horror', 'Romance'): 359, ('Musical', 'Sci-Fi'): 41, ('Crime', 'Romance'): 463, ('Drama', 'Film-Noir'): 162, ('Crime', 'Sci-Fi'): 237, ('Animation', 'Fantasy'): 105, ('Documentary', 'War'): 53, ('Crime', 'Fantasy'): 129, ('Documentary', 'Drama'): 57, ('Fantasy', 'Romance'): 185, ('Action', 'Animation'): 117, ('Animation', 'War'): 32, ('Children', 'Thriller'): 32, ('Children', 'War'): 32, ('Animation', 'Romance'): 71, ('Animation', 'Horror'): 73, ('Film-Noir', 'Romance'): 52, ('Children', 'Western'): 25}\n"
     ]
    }
   ],
   "source": [
    "# Cria um dicionário apenas com os pares que têm contagem maior ou igual a 2\n",
    "filtered_pair_counts = {pair: count for pair, count in pair_counts.items() if count >= 2}\n",
    "\n",
    "# Exibe o dicionário filtrado\n",
    "print(filtered_pair_counts)\n"
   ]
  },
  {
   "cell_type": "code",
   "execution_count": 47,
   "id": "0741401c-d51a-4aa5-ae35-d25f37fd2ab9",
   "metadata": {
    "execution": {
     "iopub.execute_input": "2025-03-24T13:31:14.917588Z",
     "iopub.status.busy": "2025-03-24T13:31:14.917370Z",
     "iopub.status.idle": "2025-03-24T13:31:15.200305Z",
     "shell.execute_reply": "2025-03-24T13:31:15.199635Z",
     "shell.execute_reply.started": "2025-03-24T13:31:14.917572Z"
    }
   },
   "outputs": [
    {
     "data": {
      "image/png": "[encoded data removed]",
      "text/plain": [
       "<Figure size 1000x600 with 1 Axes>"
      ]
     },
     "metadata": {},
     "output_type": "display_data"
    }
   ],
   "source": [
    "import pandas as pd\n",
    "import matplotlib.pyplot as plt\n",
    "import itertools\n",
    "from collections import Counter\n",
    "\n",
    "# Dicionário para armazenar a contagem dos pares de gêneros\n",
    "pair_counts = {}\n",
    "\n",
    "# Processa cada filme único: separa os gêneros, ordena e gera os pares\n",
    "for genres_str in df['genres']:\n",
    "    genres = [g.strip() for g in genres_str.split('|') if g.strip() != \"(no genres listed)\"]\n",
    "    genres = sorted(genres)\n",
    "    \n",
    "    if len(genres) >= 2:\n",
    "        for pair in itertools.combinations(genres, 2):\n",
    "            pair_counts[pair] = pair_counts.get(pair, 0) + 1\n",
    "\n",
    "# Cria uma distribuição: para cada número de filmes em comum, quantos pares de gêneros têm essa contagem\n",
    "distribution = Counter(pair_counts.values())\n",
    "\n",
    "# Converte a distribuição para um DataFrame\n",
    "# Aqui, 'Filmes em comum' é a quantidade de filmes que os pares compartilham\n",
    "# e 'Número de pares' é a quantidade de pares que possuem essa co-ocorrência.\n",
    "df_distribution = pd.DataFrame(list(distribution.items()), columns=['Filmes em comum', 'Número de pares'])\n",
    "# Ordena pelo número de pares (ou você pode ordenar por 'Filmes em comum')\n",
    "df_distribution = df_distribution.sort_values(by='Número de pares')\n",
    "df_distribution[\"normalize\"] = df_distribution[\"Número de pares\"] / len(df_distribution)\n",
    "\n",
    "# Plota o gráfico de barras vertical com os eixos invertidos:\n",
    "# - Eixo x: Número de pares de gêneros\n",
    "# - Eixo y: Número de filmes em comum\n",
    "plt.figure(figsize=(10,6))\n",
    "plt.bar(df_distribution['Número de pares'], df_distribution['Filmes em comum'], color='skyblue')\n",
    "plt.xlabel(\"Número de pares de gêneros\")\n",
    "plt.ylabel(\"Número de filmes em comum\")\n",
    "plt.title(\"Distribuição: Número de pares de gêneros vs. Filmes em comum\")\n",
    "plt.tight_layout()\n",
    "plt.show()\n"
   ]
  },
  {
   "cell_type": "code",
   "execution_count": 48,
   "id": "fa4caa7b-188c-4b4f-a76b-7c5b223c3eaf",
   "metadata": {
    "execution": {
     "iopub.execute_input": "2025-03-24T13:31:19.700182Z",
     "iopub.status.busy": "2025-03-24T13:31:19.699960Z",
     "iopub.status.idle": "2025-03-24T13:31:19.707107Z",
     "shell.execute_reply": "2025-03-24T13:31:19.706651Z",
     "shell.execute_reply.started": "2025-03-24T13:31:19.700168Z"
    }
   },
   "outputs": [
    {
     "data": {
      "text/html": [
       "<div>\n",
       "<style scoped>\n",
       "    .dataframe tbody tr th:only-of-type {\n",
       "        vertical-align: middle;\n",
       "    }\n",
       "\n",
       "    .dataframe tbody tr th {\n",
       "        vertical-align: top;\n",
       "    }\n",
       "\n",
       "    .dataframe thead th {\n",
       "        text-align: right;\n",
       "    }\n",
       "</style>\n",
       "<table border=\"1\" class=\"dataframe\">\n",
       "  <thead>\n",
       "    <tr style=\"text-align: right;\">\n",
       "      <th></th>\n",
       "      <th>Filmes em comum</th>\n",
       "      <th>Número de pares</th>\n",
       "      <th>normalize</th>\n",
       "    </tr>\n",
       "  </thead>\n",
       "  <tbody>\n",
       "    <tr>\n",
       "      <th>0</th>\n",
       "      <td>721</td>\n",
       "      <td>1</td>\n",
       "      <td>0.009804</td>\n",
       "    </tr>\n",
       "    <tr>\n",
       "      <th>1</th>\n",
       "      <td>955</td>\n",
       "      <td>1</td>\n",
       "      <td>0.009804</td>\n",
       "    </tr>\n",
       "    <tr>\n",
       "      <th>2</th>\n",
       "      <td>3157</td>\n",
       "      <td>1</td>\n",
       "      <td>0.009804</td>\n",
       "    </tr>\n",
       "    <tr>\n",
       "      <th>3</th>\n",
       "      <td>766</td>\n",
       "      <td>1</td>\n",
       "      <td>0.009804</td>\n",
       "    </tr>\n",
       "    <tr>\n",
       "      <th>4</th>\n",
       "      <td>974</td>\n",
       "      <td>1</td>\n",
       "      <td>0.009804</td>\n",
       "    </tr>\n",
       "  </tbody>\n",
       "</table>\n",
       "</div>"
      ],
      "text/plain": [
       "   Filmes em comum  Número de pares  normalize\n",
       "0              721                1   0.009804\n",
       "1              955                1   0.009804\n",
       "2             3157                1   0.009804\n",
       "3              766                1   0.009804\n",
       "4              974                1   0.009804"
      ]
     },
     "execution_count": 48,
     "metadata": {},
     "output_type": "execute_result"
    }
   ],
   "source": [
    "df_distribution.head()"
   ]
  },
  {
   "cell_type": "code",
   "execution_count": 49,
   "id": "fd6aa20d-12b0-448a-8583-54f60c9d10d1",
   "metadata": {
    "execution": {
     "iopub.execute_input": "2025-03-24T13:31:20.547704Z",
     "iopub.status.busy": "2025-03-24T13:31:20.547307Z",
     "iopub.status.idle": "2025-03-24T13:31:20.554149Z",
     "shell.execute_reply": "2025-03-24T13:31:20.553650Z",
     "shell.execute_reply.started": "2025-03-24T13:31:20.547676Z"
    }
   },
   "outputs": [
    {
     "data": {
      "text/plain": [
       "Número de pares\n",
       "1    99\n",
       "2     2\n",
       "3     1\n",
       "Name: count, dtype: int64"
      ]
     },
     "execution_count": 49,
     "metadata": {},
     "output_type": "execute_result"
    }
   ],
   "source": [
    "df_distribution[\"Número de pares\"].value_counts()"
   ]
  },
  {
   "cell_type": "code",
   "execution_count": 50,
   "id": "aed56f31-dda0-44e1-b8eb-72b8b696a5ea",
   "metadata": {
    "execution": {
     "iopub.execute_input": "2025-03-24T13:31:21.685559Z",
     "iopub.status.busy": "2025-03-24T13:31:21.684958Z",
     "iopub.status.idle": "2025-03-24T13:31:21.732730Z",
     "shell.execute_reply": "2025-03-24T13:31:21.731703Z",
     "shell.execute_reply.started": "2025-03-24T13:31:21.685515Z"
    }
   },
   "outputs": [
    {
     "ename": "KeyError",
     "evalue": "'year'",
     "output_type": "error",
     "traceback": [
      "\u001b[0;31m---------------------------------------------------------------------------\u001b[0m",
      "\u001b[0;31mKeyError\u001b[0m                                  Traceback (most recent call last)",
      "File \u001b[0;32m/opt/miniconda/envs/jupyterlab/lib/python3.13/site-packages/pandas/core/indexes/base.py:3805\u001b[0m, in \u001b[0;36mIndex.get_loc\u001b[0;34m(self, key)\u001b[0m\n\u001b[1;32m   3804\u001b[0m \u001b[38;5;28;01mtry\u001b[39;00m:\n\u001b[0;32m-> 3805\u001b[0m     \u001b[38;5;28;01mreturn\u001b[39;00m \u001b[38;5;28;43mself\u001b[39;49m\u001b[38;5;241;43m.\u001b[39;49m\u001b[43m_engine\u001b[49m\u001b[38;5;241;43m.\u001b[39;49m\u001b[43mget_loc\u001b[49m\u001b[43m(\u001b[49m\u001b[43mcasted_key\u001b[49m\u001b[43m)\u001b[49m\n\u001b[1;32m   3806\u001b[0m \u001b[38;5;28;01mexcept\u001b[39;00m \u001b[38;5;167;01mKeyError\u001b[39;00m \u001b[38;5;28;01mas\u001b[39;00m err:\n",
      "File \u001b[0;32mindex.pyx:167\u001b[0m, in \u001b[0;36mpandas._libs.index.IndexEngine.get_loc\u001b[0;34m()\u001b[0m\n",
      "File \u001b[0;32mindex.pyx:196\u001b[0m, in \u001b[0;36mpandas._libs.index.IndexEngine.get_loc\u001b[0;34m()\u001b[0m\n",
      "File \u001b[0;32mpandas/_libs/hashtable_class_helper.pxi:7081\u001b[0m, in \u001b[0;36mpandas._libs.hashtable.PyObjectHashTable.get_item\u001b[0;34m()\u001b[0m\n",
      "File \u001b[0;32mpandas/_libs/hashtable_class_helper.pxi:7089\u001b[0m, in \u001b[0;36mpandas._libs.hashtable.PyObjectHashTable.get_item\u001b[0;34m()\u001b[0m\n",
      "\u001b[0;31mKeyError\u001b[0m: 'year'",
      "\nThe above exception was the direct cause of the following exception:\n",
      "\u001b[0;31mKeyError\u001b[0m                                  Traceback (most recent call last)",
      "Cell \u001b[0;32mIn[50], line 1\u001b[0m\n\u001b[0;32m----> 1\u001b[0m \u001b[43mdf\u001b[49m\u001b[43m[\u001b[49m\u001b[38;5;124;43m\"\u001b[39;49m\u001b[38;5;124;43myear\u001b[39;49m\u001b[38;5;124;43m\"\u001b[39;49m\u001b[43m]\u001b[49m\u001b[38;5;241m.\u001b[39mmax()\n",
      "File \u001b[0;32m/opt/miniconda/envs/jupyterlab/lib/python3.13/site-packages/pandas/core/frame.py:4102\u001b[0m, in \u001b[0;36mDataFrame.__getitem__\u001b[0;34m(self, key)\u001b[0m\n\u001b[1;32m   4100\u001b[0m \u001b[38;5;28;01mif\u001b[39;00m \u001b[38;5;28mself\u001b[39m\u001b[38;5;241m.\u001b[39mcolumns\u001b[38;5;241m.\u001b[39mnlevels \u001b[38;5;241m>\u001b[39m \u001b[38;5;241m1\u001b[39m:\n\u001b[1;32m   4101\u001b[0m     \u001b[38;5;28;01mreturn\u001b[39;00m \u001b[38;5;28mself\u001b[39m\u001b[38;5;241m.\u001b[39m_getitem_multilevel(key)\n\u001b[0;32m-> 4102\u001b[0m indexer \u001b[38;5;241m=\u001b[39m \u001b[38;5;28;43mself\u001b[39;49m\u001b[38;5;241;43m.\u001b[39;49m\u001b[43mcolumns\u001b[49m\u001b[38;5;241;43m.\u001b[39;49m\u001b[43mget_loc\u001b[49m\u001b[43m(\u001b[49m\u001b[43mkey\u001b[49m\u001b[43m)\u001b[49m\n\u001b[1;32m   4103\u001b[0m \u001b[38;5;28;01mif\u001b[39;00m is_integer(indexer):\n\u001b[1;32m   4104\u001b[0m     indexer \u001b[38;5;241m=\u001b[39m [indexer]\n",
      "File \u001b[0;32m/opt/miniconda/envs/jupyterlab/lib/python3.13/site-packages/pandas/core/indexes/base.py:3812\u001b[0m, in \u001b[0;36mIndex.get_loc\u001b[0;34m(self, key)\u001b[0m\n\u001b[1;32m   3807\u001b[0m     \u001b[38;5;28;01mif\u001b[39;00m \u001b[38;5;28misinstance\u001b[39m(casted_key, \u001b[38;5;28mslice\u001b[39m) \u001b[38;5;129;01mor\u001b[39;00m (\n\u001b[1;32m   3808\u001b[0m         \u001b[38;5;28misinstance\u001b[39m(casted_key, abc\u001b[38;5;241m.\u001b[39mIterable)\n\u001b[1;32m   3809\u001b[0m         \u001b[38;5;129;01mand\u001b[39;00m \u001b[38;5;28many\u001b[39m(\u001b[38;5;28misinstance\u001b[39m(x, \u001b[38;5;28mslice\u001b[39m) \u001b[38;5;28;01mfor\u001b[39;00m x \u001b[38;5;129;01min\u001b[39;00m casted_key)\n\u001b[1;32m   3810\u001b[0m     ):\n\u001b[1;32m   3811\u001b[0m         \u001b[38;5;28;01mraise\u001b[39;00m InvalidIndexError(key)\n\u001b[0;32m-> 3812\u001b[0m     \u001b[38;5;28;01mraise\u001b[39;00m \u001b[38;5;167;01mKeyError\u001b[39;00m(key) \u001b[38;5;28;01mfrom\u001b[39;00m\u001b[38;5;250m \u001b[39m\u001b[38;5;21;01merr\u001b[39;00m\n\u001b[1;32m   3813\u001b[0m \u001b[38;5;28;01mexcept\u001b[39;00m \u001b[38;5;167;01mTypeError\u001b[39;00m:\n\u001b[1;32m   3814\u001b[0m     \u001b[38;5;66;03m# If we have a listlike key, _check_indexing_error will raise\u001b[39;00m\n\u001b[1;32m   3815\u001b[0m     \u001b[38;5;66;03m#  InvalidIndexError. Otherwise we fall through and re-raise\u001b[39;00m\n\u001b[1;32m   3816\u001b[0m     \u001b[38;5;66;03m#  the TypeError.\u001b[39;00m\n\u001b[1;32m   3817\u001b[0m     \u001b[38;5;28mself\u001b[39m\u001b[38;5;241m.\u001b[39m_check_indexing_error(key)\n",
      "\u001b[0;31mKeyError\u001b[0m: 'year'"
     ]
    }
   ],
   "source": [
    "df[\"year\"].max()"
   ]
  },
  {
   "cell_type": "code",
   "execution_count": 51,
   "id": "118fa739-b293-49a5-8a30-ab87df2824e2",
   "metadata": {
    "execution": {
     "iopub.execute_input": "2025-03-24T13:31:29.482523Z",
     "iopub.status.busy": "2025-03-24T13:31:29.482294Z",
     "iopub.status.idle": "2025-03-24T13:31:29.507667Z",
     "shell.execute_reply": "2025-03-24T13:31:29.506655Z",
     "shell.execute_reply.started": "2025-03-24T13:31:29.482509Z"
    }
   },
   "outputs": [
    {
     "ename": "AttributeError",
     "evalue": "Can only use .dt accessor with datetimelike values",
     "output_type": "error",
     "traceback": [
      "\u001b[0;31m---------------------------------------------------------------------------\u001b[0m",
      "\u001b[0;31mAttributeError\u001b[0m                            Traceback (most recent call last)",
      "Cell \u001b[0;32mIn[51], line 5\u001b[0m\n\u001b[1;32m      2\u001b[0m \u001b[38;5;28;01mimport\u001b[39;00m\u001b[38;5;250m \u001b[39m\u001b[38;5;21;01mmatplotlib\u001b[39;00m\u001b[38;5;21;01m.\u001b[39;00m\u001b[38;5;21;01mpyplot\u001b[39;00m\u001b[38;5;250m \u001b[39m\u001b[38;5;28;01mas\u001b[39;00m\u001b[38;5;250m \u001b[39m\u001b[38;5;21;01mplt\u001b[39;00m\n\u001b[1;32m      4\u001b[0m \u001b[38;5;66;03m# Assuming df is your DataFrame with a release_date column\u001b[39;00m\n\u001b[0;32m----> 5\u001b[0m df[\u001b[38;5;124m'\u001b[39m\u001b[38;5;124myear\u001b[39m\u001b[38;5;124m'\u001b[39m] \u001b[38;5;241m=\u001b[39m \u001b[43mdf\u001b[49m\u001b[43m[\u001b[49m\u001b[38;5;124;43m'\u001b[39;49m\u001b[38;5;124;43mrelease_date\u001b[39;49m\u001b[38;5;124;43m'\u001b[39;49m\u001b[43m]\u001b[49m\u001b[38;5;241;43m.\u001b[39;49m\u001b[43mdt\u001b[49m\u001b[38;5;241m.\u001b[39myear\n\u001b[1;32m      7\u001b[0m \u001b[38;5;66;03m# Create histogram\u001b[39;00m\n\u001b[1;32m      8\u001b[0m plt\u001b[38;5;241m.\u001b[39mfigure(figsize\u001b[38;5;241m=\u001b[39m(\u001b[38;5;241m12\u001b[39m, \u001b[38;5;241m6\u001b[39m))\n",
      "File \u001b[0;32m/opt/miniconda/envs/jupyterlab/lib/python3.13/site-packages/pandas/core/generic.py:6299\u001b[0m, in \u001b[0;36mNDFrame.__getattr__\u001b[0;34m(self, name)\u001b[0m\n\u001b[1;32m   6292\u001b[0m \u001b[38;5;28;01mif\u001b[39;00m (\n\u001b[1;32m   6293\u001b[0m     name \u001b[38;5;129;01mnot\u001b[39;00m \u001b[38;5;129;01min\u001b[39;00m \u001b[38;5;28mself\u001b[39m\u001b[38;5;241m.\u001b[39m_internal_names_set\n\u001b[1;32m   6294\u001b[0m     \u001b[38;5;129;01mand\u001b[39;00m name \u001b[38;5;129;01mnot\u001b[39;00m \u001b[38;5;129;01min\u001b[39;00m \u001b[38;5;28mself\u001b[39m\u001b[38;5;241m.\u001b[39m_metadata\n\u001b[1;32m   6295\u001b[0m     \u001b[38;5;129;01mand\u001b[39;00m name \u001b[38;5;129;01mnot\u001b[39;00m \u001b[38;5;129;01min\u001b[39;00m \u001b[38;5;28mself\u001b[39m\u001b[38;5;241m.\u001b[39m_accessors\n\u001b[1;32m   6296\u001b[0m     \u001b[38;5;129;01mand\u001b[39;00m \u001b[38;5;28mself\u001b[39m\u001b[38;5;241m.\u001b[39m_info_axis\u001b[38;5;241m.\u001b[39m_can_hold_identifiers_and_holds_name(name)\n\u001b[1;32m   6297\u001b[0m ):\n\u001b[1;32m   6298\u001b[0m     \u001b[38;5;28;01mreturn\u001b[39;00m \u001b[38;5;28mself\u001b[39m[name]\n\u001b[0;32m-> 6299\u001b[0m \u001b[38;5;28;01mreturn\u001b[39;00m \u001b[38;5;28;43mobject\u001b[39;49m\u001b[38;5;241;43m.\u001b[39;49m\u001b[38;5;21;43m__getattribute__\u001b[39;49m\u001b[43m(\u001b[49m\u001b[38;5;28;43mself\u001b[39;49m\u001b[43m,\u001b[49m\u001b[43m \u001b[49m\u001b[43mname\u001b[49m\u001b[43m)\u001b[49m\n",
      "File \u001b[0;32m/opt/miniconda/envs/jupyterlab/lib/python3.13/site-packages/pandas/core/accessor.py:224\u001b[0m, in \u001b[0;36mCachedAccessor.__get__\u001b[0;34m(self, obj, cls)\u001b[0m\n\u001b[1;32m    221\u001b[0m \u001b[38;5;28;01mif\u001b[39;00m obj \u001b[38;5;129;01mis\u001b[39;00m \u001b[38;5;28;01mNone\u001b[39;00m:\n\u001b[1;32m    222\u001b[0m     \u001b[38;5;66;03m# we're accessing the attribute of the class, i.e., Dataset.geo\u001b[39;00m\n\u001b[1;32m    223\u001b[0m     \u001b[38;5;28;01mreturn\u001b[39;00m \u001b[38;5;28mself\u001b[39m\u001b[38;5;241m.\u001b[39m_accessor\n\u001b[0;32m--> 224\u001b[0m accessor_obj \u001b[38;5;241m=\u001b[39m \u001b[38;5;28;43mself\u001b[39;49m\u001b[38;5;241;43m.\u001b[39;49m\u001b[43m_accessor\u001b[49m\u001b[43m(\u001b[49m\u001b[43mobj\u001b[49m\u001b[43m)\u001b[49m\n\u001b[1;32m    225\u001b[0m \u001b[38;5;66;03m# Replace the property with the accessor object. Inspired by:\u001b[39;00m\n\u001b[1;32m    226\u001b[0m \u001b[38;5;66;03m# https://www.pydanny.com/cached-property.html\u001b[39;00m\n\u001b[1;32m    227\u001b[0m \u001b[38;5;66;03m# We need to use object.__setattr__ because we overwrite __setattr__ on\u001b[39;00m\n\u001b[1;32m    228\u001b[0m \u001b[38;5;66;03m# NDFrame\u001b[39;00m\n\u001b[1;32m    229\u001b[0m \u001b[38;5;28mobject\u001b[39m\u001b[38;5;241m.\u001b[39m\u001b[38;5;21m__setattr__\u001b[39m(obj, \u001b[38;5;28mself\u001b[39m\u001b[38;5;241m.\u001b[39m_name, accessor_obj)\n",
      "File \u001b[0;32m/opt/miniconda/envs/jupyterlab/lib/python3.13/site-packages/pandas/core/indexes/accessors.py:643\u001b[0m, in \u001b[0;36mCombinedDatetimelikeProperties.__new__\u001b[0;34m(cls, data)\u001b[0m\n\u001b[1;32m    640\u001b[0m \u001b[38;5;28;01melif\u001b[39;00m \u001b[38;5;28misinstance\u001b[39m(data\u001b[38;5;241m.\u001b[39mdtype, PeriodDtype):\n\u001b[1;32m    641\u001b[0m     \u001b[38;5;28;01mreturn\u001b[39;00m PeriodProperties(data, orig)\n\u001b[0;32m--> 643\u001b[0m \u001b[38;5;28;01mraise\u001b[39;00m \u001b[38;5;167;01mAttributeError\u001b[39;00m(\u001b[38;5;124m\"\u001b[39m\u001b[38;5;124mCan only use .dt accessor with datetimelike values\u001b[39m\u001b[38;5;124m\"\u001b[39m)\n",
      "\u001b[0;31mAttributeError\u001b[0m: Can only use .dt accessor with datetimelike values"
     ]
    }
   ],
   "source": [
    "import pandas as pd\n",
    "import matplotlib.pyplot as plt\n",
    "\n",
    "# Assuming df is your DataFrame with a release_date column\n",
    "df['year'] = df['release_date'].dt.year\n",
    "\n",
    "# Create histogram\n",
    "plt.figure(figsize=(12, 6))\n",
    "df['year'].value_counts().sort_index().plot(kind='bar')\n",
    "plt.title('Number of Movies by Year')\n",
    "plt.xlabel('Year')\n",
    "plt.ylabel('Count')\n",
    "plt.tight_layout()\n",
    "plt.show()\n"
   ]
  },
  {
   "cell_type": "code",
   "execution_count": 52,
   "id": "54377c74-bf78-4799-9933-148cdc978b44",
   "metadata": {
    "execution": {
     "iopub.execute_input": "2025-03-24T13:31:38.975125Z",
     "iopub.status.busy": "2025-03-24T13:31:38.974667Z",
     "iopub.status.idle": "2025-03-24T13:31:39.121174Z",
     "shell.execute_reply": "2025-03-24T13:31:39.120573Z",
     "shell.execute_reply.started": "2025-03-24T13:31:38.975106Z"
    }
   },
   "outputs": [
    {
     "data": {
      "image/png": "[encoded data removed]",
      "text/plain": [
       "<Figure size 1200x600 with 1 Axes>"
      ]
     },
     "metadata": {},
     "output_type": "display_data"
    }
   ],
   "source": [
    "import pandas as pd\n",
    "import matplotlib.pyplot as plt\n",
    "\n",
    "# Converter para datetime e extrair o ano\n",
    "df[\"release_date\"] = pd.to_datetime(df[\"release_date\"], errors=\"coerce\")\n",
    "df[\"year\"] = df[\"release_date\"].dt.year\n",
    "\n",
    "# Contar filmes por ano corretamente\n",
    "film_counts = df[\"year\"].value_counts().sort_index()\n",
    "\n",
    "# Plotar o histograma\n",
    "plt.figure(figsize=(12, 6))\n",
    "plt.hist(df[\"year\"].dropna(), bins=range(int(df[\"year\"].min()), int(df[\"year\"].max()) + 1), \n",
    "         color=\"skyblue\", edgecolor=\"black\", align=\"left\")\n",
    "\n",
    "plt.xlabel(\"Ano de Lançamento\")\n",
    "plt.ylabel(\"Quantidade de Filmes\")\n",
    "plt.title(\"Distribuição de Filmes por Ano\")\n",
    "plt.xticks(rotation=45)\n",
    "plt.grid(axis=\"y\", linestyle=\"--\", alpha=0.7)\n",
    "plt.show()\n"
   ]
  },
  {
   "cell_type": "code",
   "execution_count": null,
   "id": "f45cdc29-bf82-426f-94d5-daed01d657d5",
   "metadata": {},
   "outputs": [],
   "source": []
  },
  {
   "cell_type": "code",
   "execution_count": null,
   "id": "6379815f-3d93-46d1-a3f2-f3d1e058bf84",
   "metadata": {},
   "outputs": [],
   "source": []
  },
  {
   "cell_type": "markdown",
   "id": "6da8d7d0-9df7-47f4-bfe2-fe981d1c8449",
   "metadata": {},
   "source": [
    "## Construção de um novo grafo"
   ]
  },
  {
   "cell_type": "markdown",
   "id": "e32a6cc0",
   "metadata": {},
   "source": [
    "Para construir e analisar grafos, vamos usar a biblioteca [graph-tool](https://graph-tool.skewed.de/), com alguns adicionais disponíveis no módulo `graph_tool_extras`.\n",
    "\n",
    "O uso básico dessa plataforma é simples:\n",
    "\n",
    "* para criar um grafo, basta chamar a classe `gte.Graph`; *(o parâmetro booleano `directed`, que é falso por padrão, define se ele é dirigido)*\n",
    " \n",
    "* para adicionar um vértice a esse grafo, basta chamar o método `add_vertex_by_id`, passando o identificador desse vértice; *(inteiro ou string)*\n",
    "\n",
    "* para adicionar uma aresta, basta chamar o método `add_edge_by_ids`, passando os identificadores da origem e do destino."
   ]
  },
  {
   "cell_type": "markdown",
   "id": "df057e7b-0818-4ba6-ad8f-b0c93c236bb2",
   "metadata": {},
   "source": [
    "Ou seja, para construir o primeiro exemplo do primeiro notebook, basta rodar o código abaixo."
   ]
  },
  {
   "cell_type": "code",
   "execution_count": 85,
   "id": "d9176659",
   "metadata": {
    "execution": {
     "iopub.execute_input": "2025-03-24T14:39:58.105390Z",
     "iopub.status.busy": "2025-03-24T14:39:58.105104Z",
     "iopub.status.idle": "2025-03-24T14:39:58.579565Z",
     "shell.execute_reply": "2025-03-24T14:39:58.579096Z",
     "shell.execute_reply.started": "2025-03-24T14:39:58.105369Z"
    }
   },
   "outputs": [
    {
     "data": {
      "text/plain": [
       "<Graph object, undirected, with 1698 vertices and 2891 edges, 3 internal vertex properties, at 0x7f11db6320d0>"
      ]
     },
     "execution_count": 85,
     "metadata": {},
     "output_type": "execute_result"
    }
   ],
   "source": [
    "g = gte.Graph(directed=False) # igual a gte.Graph(), pois directed é falso por padrão\n",
    "g.add_vp(\"color\")\n",
    "g.add_vp(\"name\")\n",
    "\n",
    "genres = [\n",
    "    \"Action\", \"Adventure\", \"Animation\", \"Children\", \"Comedy\", \"Crime\",\n",
    "    \"Documentary\", \"Drama\", \"Fantasy\", \"Film-Noir\", \"Horror\", \"Musical\",\n",
    "    \"Mystery\", \"Romance\", \"Sci-Fi\", \"Thriller\", \"War\", \"Western\"\n",
    "]\n",
    "\n",
    "for genre in genres:\n",
    "    v = g.add_vertex_by_id(genre)\n",
    "    v[\"name\"] = genre\n",
    "    v[\"color\"] = 0xFF0000\n",
    "\n",
    "for movie_id in set(df[\"movie_id\"]):\n",
    "    list_genres_temp = []\n",
    "    g.add_vertex_by_id(movie_id)\n",
    "    \n",
    "    genres_by_movie = df.loc[df[\"movie_id\"] == movie_id, :].values.tolist()[0][7].split(\"|\")\n",
    "\n",
    "    for genre in genres_by_movie:\n",
    "        g.add_edge_by_ids(movie_id, genre)\n",
    "        list_genres_temp.append(genre)\n",
    "\n",
    "    # for i in range(len(list_genres_temp)):\n",
    "    #     for j in range(i + 1, len(list_genres_temp)):\n",
    "    #         g.add_edge_by_ids(list_genres_temp[i], list_genres_temp[j])\n",
    "        \n",
    "    # for pair, count in filtered_pair_counts.items():\n",
    "    #     genre1, genre2 = pair\n",
    "    #     g.add_edge_by_ids(genre1, genre2)\n",
    "\n",
    "g"
   ]
  },
  {
   "cell_type": "markdown",
   "id": "794e8851-3d4f-48f1-ab9e-cf2ebb6ce836",
   "metadata": {},
   "source": [
    "## Iteração e acesso a vértices"
   ]
  },
  {
   "cell_type": "markdown",
   "id": "4dfa4c83-be7c-49f1-b7b9-69346b75585d",
   "metadata": {},
   "source": [
    "Para iterar sobre os vértices de um grafo, basta chamar o método `vertices`.\n",
    "\n",
    "Para acessar o identificador de um vértice, basta chamar o método `id`."
   ]
  },
  {
   "cell_type": "code",
   "execution_count": 86,
   "id": "4f7292ac-8ee2-494f-b1be-de8cf0c87c43",
   "metadata": {
    "execution": {
     "iopub.execute_input": "2025-03-24T14:40:00.571966Z",
     "iopub.status.busy": "2025-03-24T14:40:00.571406Z",
     "iopub.status.idle": "2025-03-24T14:40:00.584576Z",
     "shell.execute_reply": "2025-03-24T14:40:00.584065Z",
     "shell.execute_reply.started": "2025-03-24T14:40:00.571926Z"
    }
   },
   "outputs": [
    {
     "data": {
      "text/html": [
       "<div>\n",
       "<style scoped>\n",
       "    .dataframe tbody tr th:only-of-type {\n",
       "        vertical-align: middle;\n",
       "    }\n",
       "\n",
       "    .dataframe tbody tr th {\n",
       "        vertical-align: top;\n",
       "    }\n",
       "\n",
       "    .dataframe thead th {\n",
       "        text-align: right;\n",
       "    }\n",
       "</style>\n",
       "<table border=\"1\" class=\"dataframe\">\n",
       "  <thead>\n",
       "    <tr style=\"text-align: right;\">\n",
       "      <th></th>\n",
       "      <th>user_id</th>\n",
       "      <th>movie_id</th>\n",
       "      <th>rating</th>\n",
       "      <th>timestamp</th>\n",
       "      <th>title</th>\n",
       "      <th>release_date</th>\n",
       "      <th>IMDb_URL</th>\n",
       "      <th>genres</th>\n",
       "      <th>age</th>\n",
       "      <th>gender</th>\n",
       "      <th>occupation</th>\n",
       "      <th>zip_code</th>\n",
       "    </tr>\n",
       "  </thead>\n",
       "  <tbody>\n",
       "    <tr>\n",
       "      <th>0</th>\n",
       "      <td>196</td>\n",
       "      <td>242</td>\n",
       "      <td>3</td>\n",
       "      <td>881250949</td>\n",
       "      <td>Kolya (1996)</td>\n",
       "      <td>24-Jan-1997</td>\n",
       "      <td>http://us.imdb.com/M/title-exact?Kolya%20(1996)</td>\n",
       "      <td>Comedy</td>\n",
       "      <td>49</td>\n",
       "      <td>M</td>\n",
       "      <td>writer</td>\n",
       "      <td>55105</td>\n",
       "    </tr>\n",
       "    <tr>\n",
       "      <th>1</th>\n",
       "      <td>186</td>\n",
       "      <td>302</td>\n",
       "      <td>3</td>\n",
       "      <td>891717742</td>\n",
       "      <td>L.A. Confidential (1997)</td>\n",
       "      <td>01-Jan-1997</td>\n",
       "      <td>http://us.imdb.com/M/title-exact?L%2EA%2E+Conf...</td>\n",
       "      <td>Crime|Film-Noir|Mystery|Thriller</td>\n",
       "      <td>39</td>\n",
       "      <td>F</td>\n",
       "      <td>executive</td>\n",
       "      <td>00000</td>\n",
       "    </tr>\n",
       "    <tr>\n",
       "      <th>2</th>\n",
       "      <td>22</td>\n",
       "      <td>377</td>\n",
       "      <td>1</td>\n",
       "      <td>878887116</td>\n",
       "      <td>Heavyweights (1994)</td>\n",
       "      <td>01-Jan-1994</td>\n",
       "      <td>http://us.imdb.com/M/title-exact?Heavyweights%...</td>\n",
       "      <td>Children|Comedy</td>\n",
       "      <td>25</td>\n",
       "      <td>M</td>\n",
       "      <td>writer</td>\n",
       "      <td>40206</td>\n",
       "    </tr>\n",
       "    <tr>\n",
       "      <th>3</th>\n",
       "      <td>244</td>\n",
       "      <td>51</td>\n",
       "      <td>2</td>\n",
       "      <td>880606923</td>\n",
       "      <td>Legends of the Fall (1994)</td>\n",
       "      <td>01-Jan-1994</td>\n",
       "      <td>http://us.imdb.com/M/title-exact?Legends%20of%...</td>\n",
       "      <td>Drama|Romance|War|Western</td>\n",
       "      <td>28</td>\n",
       "      <td>M</td>\n",
       "      <td>technician</td>\n",
       "      <td>80525</td>\n",
       "    </tr>\n",
       "    <tr>\n",
       "      <th>4</th>\n",
       "      <td>166</td>\n",
       "      <td>346</td>\n",
       "      <td>1</td>\n",
       "      <td>886397596</td>\n",
       "      <td>Jackie Brown (1997)</td>\n",
       "      <td>01-Jan-1997</td>\n",
       "      <td>http://us.imdb.com/M/title-exact?imdb-title-11...</td>\n",
       "      <td>Crime|Drama</td>\n",
       "      <td>47</td>\n",
       "      <td>M</td>\n",
       "      <td>educator</td>\n",
       "      <td>55113</td>\n",
       "    </tr>\n",
       "  </tbody>\n",
       "</table>\n",
       "</div>"
      ],
      "text/plain": [
       "   user_id  movie_id  rating  timestamp                       title  \\\n",
       "0      196       242       3  881250949                Kolya (1996)   \n",
       "1      186       302       3  891717742    L.A. Confidential (1997)   \n",
       "2       22       377       1  878887116         Heavyweights (1994)   \n",
       "3      244        51       2  880606923  Legends of the Fall (1994)   \n",
       "4      166       346       1  886397596         Jackie Brown (1997)   \n",
       "\n",
       "  release_date                                           IMDb_URL  \\\n",
       "0  24-Jan-1997    http://us.imdb.com/M/title-exact?Kolya%20(1996)   \n",
       "1  01-Jan-1997  http://us.imdb.com/M/title-exact?L%2EA%2E+Conf...   \n",
       "2  01-Jan-1994  http://us.imdb.com/M/title-exact?Heavyweights%...   \n",
       "3  01-Jan-1994  http://us.imdb.com/M/title-exact?Legends%20of%...   \n",
       "4  01-Jan-1997  http://us.imdb.com/M/title-exact?imdb-title-11...   \n",
       "\n",
       "                             genres  age gender  occupation zip_code  \n",
       "0                            Comedy   49      M      writer    55105  \n",
       "1  Crime|Film-Noir|Mystery|Thriller   39      F   executive    00000  \n",
       "2                   Children|Comedy   25      M      writer    40206  \n",
       "3         Drama|Romance|War|Western   28      M  technician    80525  \n",
       "4                       Crime|Drama   47      M    educator    55113  "
      ]
     },
     "execution_count": 86,
     "metadata": {},
     "output_type": "execute_result"
    }
   ],
   "source": [
    "df.head()"
   ]
  },
  {
   "cell_type": "code",
   "execution_count": 87,
   "id": "d0b58856-8c52-45f4-a064-379557ae6989",
   "metadata": {
    "execution": {
     "iopub.execute_input": "2025-03-24T14:40:02.328564Z",
     "iopub.status.busy": "2025-03-24T14:40:02.328374Z",
     "iopub.status.idle": "2025-03-24T14:40:02.333647Z",
     "shell.execute_reply": "2025-03-24T14:40:02.333074Z",
     "shell.execute_reply.started": "2025-03-24T14:40:02.328552Z"
    }
   },
   "outputs": [
    {
     "data": {
      "text/plain": [
       "[916,\n",
       " 1682,\n",
       " 3,\n",
       " 880845755,\n",
       " 'Scream of Stone (Schrei aus Stein) (1991)',\n",
       " '08-Mar-1996',\n",
       " 'http://us.imdb.com/M/title-exact?Schrei%20aus%20Stein%20(1991)',\n",
       " 'Drama',\n",
       " 27,\n",
       " 'M',\n",
       " 'engineer',\n",
       " 'N2L5N']"
      ]
     },
     "execution_count": 87,
     "metadata": {},
     "output_type": "execute_result"
    }
   ],
   "source": [
    "genres_by_movie = df.loc[df[\"movie_id\"] == movie_id, :].values.tolist()[0]\n",
    "genres_by_movie"
   ]
  },
  {
   "cell_type": "code",
   "execution_count": 12,
   "id": "642c743d-47a9-4011-81d2-2b32f4cf2fff",
   "metadata": {
    "execution": {
     "iopub.execute_input": "2025-02-26T12:52:22.937213Z",
     "iopub.status.busy": "2025-02-26T12:52:22.937010Z",
     "iopub.status.idle": "2025-02-26T12:52:22.941304Z",
     "shell.execute_reply": "2025-02-26T12:52:22.940889Z",
     "shell.execute_reply.started": "2025-02-26T12:52:22.937199Z"
    }
   },
   "outputs": [
    {
     "name": "stdout",
     "output_type": "stream",
     "text": [
      "a\n",
      "b\n",
      "c\n",
      "d\n"
     ]
    }
   ],
   "source": [
    "for u in g.vertices():\n",
    "    print(u.id())"
   ]
  },
  {
   "cell_type": "code",
   "execution_count": null,
   "id": "284fc42a-45fe-4df5-94d7-934ec35ac448",
   "metadata": {},
   "outputs": [],
   "source": []
  },
  {
   "cell_type": "code",
   "execution_count": null,
   "id": "fa651954-fa6a-4efb-a610-be7758202939",
   "metadata": {},
   "outputs": [],
   "source": []
  },
  {
   "cell_type": "code",
   "execution_count": null,
   "id": "9a2bb2c3-c589-419e-b76b-71e9e46f2e50",
   "metadata": {},
   "outputs": [],
   "source": []
  },
  {
   "cell_type": "markdown",
   "id": "b88eed25-d4c9-4e46-a961-071411009922",
   "metadata": {},
   "source": [
    "Para acessar um vértice específico, basta chamar o método `vertex_by_id`, passando o identificador desse vértice."
   ]
  },
  {
   "cell_type": "code",
   "execution_count": 13,
   "id": "ea943bcf-0a05-4d66-aeb0-b92e432caf29",
   "metadata": {
    "execution": {
     "iopub.execute_input": "2025-02-26T12:52:29.134284Z",
     "iopub.status.busy": "2025-02-26T12:52:29.134084Z",
     "iopub.status.idle": "2025-02-26T12:52:29.137306Z",
     "shell.execute_reply": "2025-02-26T12:52:29.136898Z",
     "shell.execute_reply.started": "2025-02-26T12:52:29.134271Z"
    }
   },
   "outputs": [],
   "source": [
    "u = g.vertex_by_id('a')"
   ]
  },
  {
   "cell_type": "markdown",
   "id": "6d53cc47-769e-4905-8ce0-bf489504de3b",
   "metadata": {},
   "source": [
    "Para iterar sobre as arestas de um grafo, basta chamar o método `edges`.\n",
    "\n",
    "Para acessar a origem de uma aresta, basta chamar o método `source`.\n",
    "\n",
    "Para acessar o destino de uma aresta, basta chamar o método `target`."
   ]
  },
  {
   "cell_type": "code",
   "execution_count": 14,
   "id": "c377c048-632e-4173-9d54-ed3198bc9335",
   "metadata": {
    "execution": {
     "iopub.execute_input": "2025-02-26T12:52:39.541723Z",
     "iopub.status.busy": "2025-02-26T12:52:39.541378Z",
     "iopub.status.idle": "2025-02-26T12:52:39.546520Z",
     "shell.execute_reply": "2025-02-26T12:52:39.545908Z",
     "shell.execute_reply.started": "2025-02-26T12:52:39.541697Z"
    }
   },
   "outputs": [
    {
     "name": "stdout",
     "output_type": "stream",
     "text": [
      "a b\n",
      "a c\n",
      "b c\n",
      "b d\n",
      "c b\n",
      "c d\n"
     ]
    }
   ],
   "source": [
    "for e in g.edges():\n",
    "    print(e.source().id(), e.target().id())"
   ]
  },
  {
   "cell_type": "markdown",
   "id": "31a78f03-b9d7-43f0-bfca-a7d2611af094",
   "metadata": {
    "execution": {
     "iopub.execute_input": "2023-07-31T20:32:23.176735Z",
     "iopub.status.busy": "2023-07-31T20:32:23.175660Z",
     "iopub.status.idle": "2023-07-31T20:32:23.191286Z",
     "shell.execute_reply": "2023-07-31T20:32:23.189189Z",
     "shell.execute_reply.started": "2023-07-31T20:32:23.176647Z"
    }
   },
   "source": [
    "Para acessar uma aresta específica, basta chamar o método `edge_by_ids`, passando os identificadores da origem e do destino."
   ]
  },
  {
   "cell_type": "code",
   "execution_count": 15,
   "id": "93a0bb9d-e0fd-42b7-bfe7-1fba9a2c1d8a",
   "metadata": {
    "execution": {
     "iopub.execute_input": "2025-02-26T12:52:43.226238Z",
     "iopub.status.busy": "2025-02-26T12:52:43.225851Z",
     "iopub.status.idle": "2025-02-26T12:52:43.229375Z",
     "shell.execute_reply": "2025-02-26T12:52:43.228935Z",
     "shell.execute_reply.started": "2025-02-26T12:52:43.226223Z"
    }
   },
   "outputs": [],
   "source": [
    "e = g.edge_by_ids('a', 'b')"
   ]
  },
  {
   "cell_type": "markdown",
   "id": "10ab9bba-97d7-4ece-adfa-522a4dcb4990",
   "metadata": {},
   "source": [
    "## Armazenamento de valores"
   ]
  },
  {
   "cell_type": "markdown",
   "id": "8993a33b-5bcf-439a-b2fe-ca5659efcf0f",
   "metadata": {},
   "source": [
    "A plataforma permite armazenar valores em cada vértice, em cada aresta e no próprio grafo. Esses valores podem ser qualquer coisa: inteiros, strings, listas, dicionários..."
   ]
  },
  {
   "cell_type": "markdown",
   "id": "8e8dcb58-3143-4472-addc-10d5dc304659",
   "metadata": {},
   "source": [
    "### Propriedades de vértice"
   ]
  },
  {
   "cell_type": "markdown",
   "id": "dc315228-ed8f-425f-a609-6ed28c7d9253",
   "metadata": {},
   "source": [
    "Um vértice é mais ou menos como um dicionário: para armazenar um valor nele, devemos associar esse valor a uma chave.\n",
    "\n",
    "A atribuição abaixo, por exemplo, associa o inteiro `1` à chave `'x'` do vértice `u`.\n",
    "\n",
    "``` python\n",
    "u['x'] = 1\n",
    "```\n",
    "\n",
    "Porém, para evitar problemas de consistência, não é permitido que um vértice tenha uma chave e outro não. No exemplo acima, há somente duas possibilidades: ou *nenhum* vértice tem a chave `'x'` (ou seja, a atribuição com certeza daria erro), ou *todos* têm (ou seja, a atribuição com certeza iria funcionar). Nesse caso, dizemos que o grafo tem uma **propriedade de vértice** *(vertex property)* chamada `'x'`.\n",
    "\n",
    "Para adicionar essa propriedade de vértice ao grafo, devemos chamar o método `add_vp`, passando sua chave."
   ]
  },
  {
   "cell_type": "code",
   "execution_count": 16,
   "id": "77126bd2-12d6-4b57-9680-070e43422f0e",
   "metadata": {
    "execution": {
     "iopub.execute_input": "2025-02-26T12:54:30.829473Z",
     "iopub.status.busy": "2025-02-26T12:54:30.829247Z",
     "iopub.status.idle": "2025-02-26T12:54:30.832447Z",
     "shell.execute_reply": "2025-02-26T12:54:30.832037Z",
     "shell.execute_reply.started": "2025-02-26T12:54:30.829459Z"
    }
   },
   "outputs": [],
   "source": [
    "g.add_vp('x')"
   ]
  },
  {
   "cell_type": "markdown",
   "id": "828fb3e9-d2a3-40d5-9ece-68e547fba458",
   "metadata": {},
   "source": [
    "Se a propriedade existe, tanto a leitura quanto a escrita de valores são análogas às de um dicionário."
   ]
  },
  {
   "cell_type": "code",
   "execution_count": 17,
   "id": "23578b0d-2f1a-4b4e-a3b3-09fa06d294ae",
   "metadata": {
    "execution": {
     "iopub.execute_input": "2025-02-26T12:54:45.635179Z",
     "iopub.status.busy": "2025-02-26T12:54:45.634773Z",
     "iopub.status.idle": "2025-02-26T12:54:45.638746Z",
     "shell.execute_reply": "2025-02-26T12:54:45.638256Z",
     "shell.execute_reply.started": "2025-02-26T12:54:45.635163Z"
    }
   },
   "outputs": [
    {
     "data": {
      "text/plain": [
       "1"
      ]
     },
     "execution_count": 17,
     "metadata": {},
     "output_type": "execute_result"
    }
   ],
   "source": [
    "u['x'] = 1\n",
    "\n",
    "u['x']"
   ]
  },
  {
   "cell_type": "markdown",
   "id": "9230c117-69e4-42de-8dff-a452982e1fe7",
   "metadata": {},
   "source": [
    "### Propriedades de aresta"
   ]
  },
  {
   "cell_type": "markdown",
   "id": "165b4a54-b112-40ae-ac86-eaae90286986",
   "metadata": {},
   "source": [
    "Assim como um grafo pode ter uma propriedade de vértice, ele também pode ter uma **propriedade de aresta** *(edge property).* Para adicioná-la, basta chamar o método `add_ep`."
   ]
  },
  {
   "cell_type": "code",
   "execution_count": 18,
   "id": "9925b00c-5e75-4084-8178-fbab31b787c5",
   "metadata": {
    "execution": {
     "iopub.execute_input": "2025-02-26T12:54:52.935840Z",
     "iopub.status.busy": "2025-02-26T12:54:52.935460Z",
     "iopub.status.idle": "2025-02-26T12:54:52.938980Z",
     "shell.execute_reply": "2025-02-26T12:54:52.938307Z",
     "shell.execute_reply.started": "2025-02-26T12:54:52.935824Z"
    }
   },
   "outputs": [],
   "source": [
    "g.add_ep('y')"
   ]
  },
  {
   "cell_type": "markdown",
   "id": "6ec0d8d8-f25a-46e4-a395-c3d061a37b26",
   "metadata": {},
   "source": [
    "Novamente, se a propriedade existe, tanto a leitura quanto a escrita de valores são análogas às de um dicionário.\n",
    "\n",
    "A atribuição abaixo associa a string `'s'` à chave `'y'` da aresta `e`."
   ]
  },
  {
   "cell_type": "code",
   "execution_count": 19,
   "id": "c93dc417-1872-4296-a9a4-f451356258ee",
   "metadata": {
    "execution": {
     "iopub.execute_input": "2025-02-26T12:54:57.092563Z",
     "iopub.status.busy": "2025-02-26T12:54:57.092352Z",
     "iopub.status.idle": "2025-02-26T12:54:57.096675Z",
     "shell.execute_reply": "2025-02-26T12:54:57.096276Z",
     "shell.execute_reply.started": "2025-02-26T12:54:57.092549Z"
    }
   },
   "outputs": [
    {
     "data": {
      "text/plain": [
       "'s'"
      ]
     },
     "execution_count": 19,
     "metadata": {},
     "output_type": "execute_result"
    }
   ],
   "source": [
    "e['y'] = 's'\n",
    "\n",
    "e['y']"
   ]
  },
  {
   "cell_type": "markdown",
   "id": "5fec4b5c-ec32-4338-97da-3d317d033ffe",
   "metadata": {},
   "source": [
    "### Propriedades de grafo"
   ]
  },
  {
   "cell_type": "markdown",
   "id": "47faaeeb-d176-4648-b988-0a98a4e5f748",
   "metadata": {},
   "source": [
    "Por fim, um grafo pode ter uma propriedade dele próprio, ou seja, uma **propriedade de grafo** *(graph property).* Para adicionar, basta chamar `add_gp`."
   ]
  },
  {
   "cell_type": "code",
   "execution_count": 20,
   "id": "12d2b09c-96d5-495c-8eee-5bfeacbf089e",
   "metadata": {
    "execution": {
     "iopub.execute_input": "2025-02-26T12:55:03.831863Z",
     "iopub.status.busy": "2025-02-26T12:55:03.831648Z",
     "iopub.status.idle": "2025-02-26T12:55:03.834961Z",
     "shell.execute_reply": "2025-02-26T12:55:03.834367Z",
     "shell.execute_reply.started": "2025-02-26T12:55:03.831850Z"
    }
   },
   "outputs": [],
   "source": [
    "g.add_gp('z')"
   ]
  },
  {
   "cell_type": "markdown",
   "id": "84976a52-21db-47f2-b952-020f39521c89",
   "metadata": {},
   "source": [
    "A atribuição abaixo associa a lista `[1, 's']` à chave `'z'` do grafo `g`."
   ]
  },
  {
   "cell_type": "code",
   "execution_count": 21,
   "id": "f4bfa011-b20d-4e9f-b7ba-5533752ccbc7",
   "metadata": {
    "execution": {
     "iopub.execute_input": "2025-02-26T12:55:04.503390Z",
     "iopub.status.busy": "2025-02-26T12:55:04.503066Z",
     "iopub.status.idle": "2025-02-26T12:55:04.507920Z",
     "shell.execute_reply": "2025-02-26T12:55:04.507304Z",
     "shell.execute_reply.started": "2025-02-26T12:55:04.503375Z"
    }
   },
   "outputs": [
    {
     "data": {
      "text/plain": [
       "[1, 's']"
      ]
     },
     "execution_count": 21,
     "metadata": {},
     "output_type": "execute_result"
    }
   ],
   "source": [
    "g['z'] = [1, 's']\n",
    "\n",
    "g['z']"
   ]
  },
  {
   "cell_type": "markdown",
   "id": "9628352f-6356-4527-9bb4-be96d3c515b6",
   "metadata": {},
   "source": [
    "## Salvamento de grafo em arquivo"
   ]
  },
  {
   "cell_type": "markdown",
   "id": "0608b9a4-b744-42af-8cd5-3efe3dac450e",
   "metadata": {},
   "source": [
    "Para salvar um grafo em um arquivo, basta chamar a função `gte.save`, passando o grafo e o caminho do arquivo.\n",
    "\n",
    "Se o grafo tem propriedades de vértice, aresta ou dele próprio, elas também são salvas."
   ]
  },
  {
   "cell_type": "code",
   "execution_count": 88,
   "id": "c1d8046c-31fa-4d93-9f52-a1d726050de4",
   "metadata": {
    "execution": {
     "iopub.execute_input": "2025-03-24T14:40:08.943498Z",
     "iopub.status.busy": "2025-03-24T14:40:08.942888Z",
     "iopub.status.idle": "2025-03-24T14:40:09.062615Z",
     "shell.execute_reply": "2025-03-24T14:40:09.062127Z",
     "shell.execute_reply.started": "2025-03-24T14:40:08.943451Z"
    }
   },
   "outputs": [],
   "source": [
    "gte.save(g, 'movies4.net.gz')"
   ]
  },
  {
   "cell_type": "code",
   "execution_count": 89,
   "id": "050a6125-47a0-4234-b31e-aa03517100d6",
   "metadata": {
    "execution": {
     "iopub.execute_input": "2025-03-24T14:40:09.703611Z",
     "iopub.status.busy": "2025-03-24T14:40:09.703380Z",
     "iopub.status.idle": "2025-03-24T14:40:09.707660Z",
     "shell.execute_reply": "2025-03-24T14:40:09.707132Z",
     "shell.execute_reply.started": "2025-03-24T14:40:09.703596Z"
    }
   },
   "outputs": [],
   "source": [
    "import netpixi\n",
    "\n",
    "from graph_tool import draw"
   ]
  },
  {
   "cell_type": "code",
   "execution_count": 90,
   "id": "80734f70-57d9-48eb-8c6c-f86dc11cb42c",
   "metadata": {
    "execution": {
     "iopub.execute_input": "2025-03-24T14:40:10.799626Z",
     "iopub.status.busy": "2025-03-24T14:40:10.799035Z",
     "iopub.status.idle": "2025-03-24T14:40:13.406507Z",
     "shell.execute_reply": "2025-03-24T14:40:13.406137Z",
     "shell.execute_reply.started": "2025-03-24T14:40:10.799585Z"
    }
   },
   "outputs": [],
   "source": [
    "g = gte.load(\"movies4.net.gz\")\n",
    "\n",
    "layout = draw.sfdp_layout(g)\n",
    "\n",
    "gte.move(g, layout)\n",
    "\n",
    "gte.save(g, \"movies_reposicionado4.net.gz\")"
   ]
  },
  {
   "cell_type": "code",
   "execution_count": 93,
   "id": "5d1d5a02-ce27-4bed-920e-1ef6d7eca98b",
   "metadata": {
    "execution": {
     "iopub.execute_input": "2025-03-24T14:45:29.864127Z",
     "iopub.status.busy": "2025-03-24T14:45:29.863338Z",
     "iopub.status.idle": "2025-03-24T14:45:29.870322Z",
     "shell.execute_reply": "2025-03-24T14:45:29.869032Z",
     "shell.execute_reply.started": "2025-03-24T14:45:29.864092Z"
    },
    "scrolled": true
   },
   "outputs": [
    {
     "data": {
      "text/html": [
       "\n",
       "        <div id=\"gzahKQHexyXsz6y5h4E7MM\"></div>\n",
       "        <script>netpixi.render('gzahKQHexyXsz6y5h4E7MM', '/static/__shared__/movies_reposicionado4.net.gz', 1.7777777777777777, true, true, false, true);</script>\n",
       "    "
      ],
      "text/plain": [
       "<IPython.core.display.HTML object>"
      ]
     },
     "metadata": {},
     "output_type": "display_data"
    }
   ],
   "source": [
    "r =  netpixi.render(\"movies_reposicionado4.net.gz\", infinite=True)"
   ]
  },
  {
   "cell_type": "code",
   "execution_count": 95,
   "id": "dbb6dff3-fd1f-4665-bab4-c3243b70d0c9",
   "metadata": {
    "execution": {
     "iopub.execute_input": "2025-03-24T14:46:28.467465Z",
     "iopub.status.busy": "2025-03-24T14:46:28.466851Z",
     "iopub.status.idle": "2025-03-24T14:46:28.471830Z",
     "shell.execute_reply": "2025-03-24T14:46:28.471221Z",
     "shell.execute_reply.started": "2025-03-24T14:46:28.467435Z"
    }
   },
   "outputs": [
    {
     "data": {
      "text/html": [
       "\n",
       "        <div id=\"nBVbrjYuMrVBzVwt7tQyLt\"></div>\n",
       "        <script>netpixi.call('nBVbrjYuMrVBzVwt7tQyLt', 'gzahKQHexyXsz6y5h4E7MM', 'setGraph', 'eyJ0eXBlIjogInZlcnRleCIsICJwcm9wcyI6IHsic3JjIjogIm5hbWUiLCAiZHN0IjogIl9rZXkifX0K');</script>\n",
       "    "
      ],
      "text/plain": [
       "<IPython.core.display.HTML object>"
      ]
     },
     "metadata": {},
     "output_type": "display_data"
    }
   ],
   "source": [
    "r.vertex_set_key(\"name\")"
   ]
  },
  {
   "cell_type": "code",
   "execution_count": null,
   "id": "e9320771-fa59-4ba3-bcab-bc82c741da6f",
   "metadata": {},
   "outputs": [],
   "source": [
    "g = gte.load(\"movies_reposicionado4.net.gz\")"
   ]
  },
  {
   "cell_type": "markdown",
   "id": "8176aa79-2be2-4f81-8d2e-4ee430f1202b",
   "metadata": {},
   "source": [
    "## Conclusão"
   ]
  },
  {
   "cell_type": "markdown",
   "id": "ff0a24e4-74a1-4523-9fe4-266bd0a3e0a5",
   "metadata": {},
   "source": [
    "Vamos usar as seções anteriores para construir a seguinte rede:\n",
    "\n",
    "* os vértices são os times que participaram do campeonato de um ano específico; *(os identificadores são os nomes desses times)*\n",
    "* uma aresta de A a B indica que o time A ganhou do time B em pelo menos uma partida desse campeonato.\n",
    "\n",
    "Como a relação \"A ganhou de B\" não é simétrica, devemos criar uma rede dirigida."
   ]
  },
  {
   "cell_type": "code",
   "execution_count": 23,
   "id": "833d649a-5c43-4531-b449-67ee202906ed",
   "metadata": {
    "execution": {
     "iopub.execute_input": "2025-02-26T12:55:54.054733Z",
     "iopub.status.busy": "2025-02-26T12:55:54.054355Z",
     "iopub.status.idle": "2025-02-26T12:55:54.058309Z",
     "shell.execute_reply": "2025-02-26T12:55:54.057841Z",
     "shell.execute_reply.started": "2025-02-26T12:55:54.054704Z"
    }
   },
   "outputs": [],
   "source": [
    "g = gte.Graph(directed=True)"
   ]
  },
  {
   "cell_type": "markdown",
   "id": "91155385-cac1-4eb4-9bde-3a5dcf492490",
   "metadata": {},
   "source": [
    "Usando propriedades, vamos armazenar três informações adicionais na rede:\n",
    "\n",
    "* saldo de gols de cada time; *(propriedade de vértice)*\n",
    "* total de vitórias de cada um dos times sobre cada um dos outros; *(propriedade de aresta)*\n",
    "* ano escolhido. *(propriedade de grafo)*"
   ]
  },
  {
   "cell_type": "code",
   "execution_count": 24,
   "id": "426cafa9-9b2b-43c8-a395-10491e7d66d6",
   "metadata": {
    "execution": {
     "iopub.execute_input": "2025-02-26T12:55:57.934155Z",
     "iopub.status.busy": "2025-02-26T12:55:57.933907Z",
     "iopub.status.idle": "2025-02-26T12:55:57.937268Z",
     "shell.execute_reply": "2025-02-26T12:55:57.936854Z",
     "shell.execute_reply.started": "2025-02-26T12:55:57.934140Z"
    }
   },
   "outputs": [],
   "source": [
    "g.add_vp('saldo')\n",
    "g.add_ep('total')\n",
    "g.add_gp('ano')"
   ]
  },
  {
   "cell_type": "markdown",
   "id": "0b22841a-777a-4d58-9749-7d86de6d9098",
   "metadata": {},
   "source": [
    "Para usar dados específicos, vamos escolher o ano de 2022."
   ]
  },
  {
   "cell_type": "code",
   "execution_count": 25,
   "id": "bd37a2cd-29de-4580-8373-10d0ec7e31dc",
   "metadata": {
    "execution": {
     "iopub.execute_input": "2025-02-26T12:55:59.318886Z",
     "iopub.status.busy": "2025-02-26T12:55:59.318391Z",
     "iopub.status.idle": "2025-02-26T12:55:59.322334Z",
     "shell.execute_reply": "2025-02-26T12:55:59.321871Z",
     "shell.execute_reply.started": "2025-02-26T12:55:59.318867Z"
    }
   },
   "outputs": [],
   "source": [
    "YEAR = 2022\n",
    "\n",
    "g['ano'] = YEAR"
   ]
  },
  {
   "cell_type": "markdown",
   "id": "fcdf1bc5-ec8a-4e05-a2a9-4d10a614d154",
   "metadata": {},
   "source": [
    "Antes de ler o arquivo, vamos definir uma função auxiliar que recebe um grafo e um identificador e:\n",
    "\n",
    "* se um vértice com esse identificador já existe no grafo, simplesmente devolve esse vértice;\n",
    "\n",
    "* senão, adiciona um vértice com esse identificador ao grafo, inicializa o saldo desse vértice e o devolve.\n",
    "\n",
    "Para isso, vamos usar dois fatos úteis:\n",
    "\n",
    "1. se um vértice com o identificador não existe, o método `vertex_by_id` devolve `None`;\n",
    "\n",
    "2. o método `add_vertex_by_id` devolve o vértice adicionado."
   ]
  },
  {
   "cell_type": "code",
   "execution_count": 26,
   "id": "bf2c1324-a953-4620-8a57-c3856233421e",
   "metadata": {
    "execution": {
     "iopub.execute_input": "2025-02-26T12:56:02.171774Z",
     "iopub.status.busy": "2025-02-26T12:56:02.171337Z",
     "iopub.status.idle": "2025-02-26T12:56:02.175463Z",
     "shell.execute_reply": "2025-02-26T12:56:02.174870Z",
     "shell.execute_reply.started": "2025-02-26T12:56:02.171757Z"
    }
   },
   "outputs": [],
   "source": [
    "def get_or_add_vertex(g, id):\n",
    "    u = g.vertex_by_id(id)\n",
    "    if u is None:\n",
    "        u = g.add_vertex_by_id(id)\n",
    "        u['saldo'] = 0\n",
    "    return u"
   ]
  },
  {
   "cell_type": "markdown",
   "id": "65890d04-bf14-4c29-8821-18da226b0993",
   "metadata": {},
   "source": [
    "Vamos definir também uma função auxiliar que recebe um grafo e dois identificadores e:\n",
    "\n",
    "* se os vértices com esses identificadores já estão conectados no grafo, simplesmente devolve a aresta correspondente a eles;\n",
    "\n",
    "* senão, adiciona uma aresta correspondente a esses identificadores ao grafo, inicializa o total dessa aresta e a devolve.\n",
    "\n",
    "Vamos usar dois fatos análogos aos da função anterior:\n",
    "\n",
    "1. se uma aresta correspondente aos identificadores não existe, o método `edge_by_ids` devolve `None`;\n",
    "\n",
    "2. o método `add_edge_by_ids` devolve a aresta adicionada."
   ]
  },
  {
   "cell_type": "code",
   "execution_count": 27,
   "id": "546ef3a4-aa2d-4894-907d-3038f4026c41",
   "metadata": {
    "execution": {
     "iopub.execute_input": "2025-02-26T12:56:03.518747Z",
     "iopub.status.busy": "2025-02-26T12:56:03.518503Z",
     "iopub.status.idle": "2025-02-26T12:56:03.522256Z",
     "shell.execute_reply": "2025-02-26T12:56:03.521825Z",
     "shell.execute_reply.started": "2025-02-26T12:56:03.518733Z"
    }
   },
   "outputs": [],
   "source": [
    "def get_or_add_edge(g, winner, loser):\n",
    "    e = g.edge_by_ids(winner, loser)\n",
    "    if e is None:\n",
    "        e = g.add_edge_by_ids(winner, loser)\n",
    "        e['total'] = 0\n",
    "    return e"
   ]
  },
  {
   "cell_type": "markdown",
   "id": "4cc0d016-f6f3-49c4-902e-a63d4809d13e",
   "metadata": {},
   "source": [
    "Agora estamos prontos para ler o arquivo e construir a rede."
   ]
  },
  {
   "cell_type": "code",
   "execution_count": 28,
   "id": "1d1b1a04-b536-4bb7-a186-f1491b1a8a59",
   "metadata": {
    "execution": {
     "iopub.execute_input": "2025-02-26T12:56:06.831498Z",
     "iopub.status.busy": "2025-02-26T12:56:06.831054Z",
     "iopub.status.idle": "2025-02-26T12:56:06.859495Z",
     "shell.execute_reply": "2025-02-26T12:56:06.858883Z",
     "shell.execute_reply.started": "2025-02-26T12:56:06.831483Z"
    }
   },
   "outputs": [],
   "source": [
    "with open(PATH) as file:\n",
    "    reader = csv.reader(file)\n",
    "\n",
    "    # Ignora a primeira linha, pois ela é o cabeçalho.\n",
    "    next(reader)\n",
    "\n",
    "    # Lê o arquivo linha por linha, sem carregá-lo inteiro na memória.\n",
    "    for line in reader:\n",
    "\n",
    "        # Considera apenas partidas de 2022.\n",
    "        date = line[2]\n",
    "        index = date.rfind('/')\n",
    "        year = int(date[(index + 1):])\n",
    "        if year == YEAR:\n",
    "\n",
    "            # Lê os nomes dos times mandante e visitante.\n",
    "            home = line[4]\n",
    "            guest = line[5]\n",
    "\n",
    "            # Lê os placares dos times mandante e visitante.\n",
    "            score_home = int(line[12])\n",
    "            score_guest = int(line[13])\n",
    "\n",
    "            # Obtém vértices, adicionando se não existirem.\n",
    "            u = get_or_add_vertex(g, home)\n",
    "            v = get_or_add_vertex(g, guest)\n",
    "\n",
    "            # Atualiza saldos dos vértices.\n",
    "            u['saldo'] += score_home\n",
    "            v['saldo'] += score_guest\n",
    "\n",
    "            # Considera apenas partidas em que não houve empate.\n",
    "            if score_home != score_guest:\n",
    "\n",
    "                # Obtém aresta, adicionando se não existir.\n",
    "                if score_home < score_guest:\n",
    "                    e = get_or_add_edge(g, guest, home)\n",
    "                else:\n",
    "                    e = get_or_add_edge(g, home, guest)\n",
    "\n",
    "                # Atualiza total da aresta.\n",
    "                e['total'] += 1"
   ]
  },
  {
   "cell_type": "markdown",
   "id": "a0009ca1-5621-4265-8c3f-5169d2300c55",
   "metadata": {},
   "source": [
    "Para concluir, basta salvar a rede em um arquivo."
   ]
  },
  {
   "cell_type": "code",
   "execution_count": 8,
   "id": "d5ab8100",
   "metadata": {
    "execution": {
     "iopub.execute_input": "2025-02-26T14:14:00.992097Z",
     "iopub.status.busy": "2025-02-26T14:14:00.991613Z",
     "iopub.status.idle": "2025-02-26T14:14:01.085713Z",
     "shell.execute_reply": "2025-02-26T14:14:01.085248Z",
     "shell.execute_reply.started": "2025-02-26T14:14:00.992072Z"
    }
   },
   "outputs": [],
   "source": [
    "gte.save(g, 'movies.net.gz')"
   ]
  },
  {
   "attachments": {
    "20cd3d92-3cca-4d4c-a4f2-1f2a61958c34.png": {
     "image/png": "[encoded data removed]"
    }
   },
   "cell_type": "markdown",
   "id": "83a89b4c",
   "metadata": {},
   "source": [
    "<div class=\"alert alert-block alert-info\">\n",
    "   <strong>DICA:</strong> Você pode clicar na aba\n",
    "   <img style=\"vertical-align: middle\" src=\"attachment:20cd3d92-3cca-4d4c-a4f2-1f2a61958c34.png\" alt\"toc.png\">\n",
    "   à esquerda para navegar por seção.\n",
    "</div>"
   ]
  },
  {
   "cell_type": "code",
   "execution_count": null,
   "id": "f341be48-77b0-458f-9227-093b72102f96",
   "metadata": {},
   "outputs": [],
   "source": []
  },
  {
   "cell_type": "code",
   "execution_count": 16,
   "id": "a97a154a-78fd-490d-9c73-b0450b30c7b1",
   "metadata": {
    "execution": {
     "iopub.execute_input": "2025-03-19T13:22:40.082567Z",
     "iopub.status.busy": "2025-03-19T13:22:40.081289Z",
     "iopub.status.idle": "2025-03-19T13:22:40.089844Z",
     "shell.execute_reply": "2025-03-19T13:22:40.088750Z",
     "shell.execute_reply.started": "2025-03-19T13:22:40.082498Z"
    }
   },
   "outputs": [],
   "source": [
    "import netpixi\n",
    "\n",
    "from graph_tool import draw"
   ]
  },
  {
   "cell_type": "code",
   "execution_count": 17,
   "id": "6b9d4c58-6613-42d6-b3c9-e515c1e7c550",
   "metadata": {
    "execution": {
     "iopub.execute_input": "2025-03-19T13:22:43.364804Z",
     "iopub.status.busy": "2025-03-19T13:22:43.364263Z",
     "iopub.status.idle": "2025-03-19T13:22:45.614116Z",
     "shell.execute_reply": "2025-03-19T13:22:45.613670Z",
     "shell.execute_reply.started": "2025-03-19T13:22:43.364764Z"
    }
   },
   "outputs": [],
   "source": [
    "g = gte.load(\"movies.net.gz\")\n",
    "\n",
    "layout = draw.sfdp_layout(g)\n",
    "\n",
    "gte.move(g, layout)\n",
    "\n",
    "gte.save(g, \"movies_reposicionado.net.gz\")"
   ]
  },
  {
   "cell_type": "code",
   "execution_count": 18,
   "id": "26283897-079a-447e-8645-bdd3864513af",
   "metadata": {
    "execution": {
     "iopub.execute_input": "2025-03-19T13:22:46.557559Z",
     "iopub.status.busy": "2025-03-19T13:22:46.557053Z",
     "iopub.status.idle": "2025-03-19T13:22:46.570234Z",
     "shell.execute_reply": "2025-03-19T13:22:46.569745Z",
     "shell.execute_reply.started": "2025-03-19T13:22:46.557520Z"
    }
   },
   "outputs": [
    {
     "data": {
      "text/html": [
       "\n",
       "        <div id=\"Tj9ZKT3bnZoefy63qGMspw\"></div>\n",
       "        <script>netpixi.render('Tj9ZKT3bnZoefy63qGMspw', '/static/__shared__/movies_reposicionado.net.gz', 1.7777777777777777, true, false, false, true);</script>\n",
       "    "
      ],
      "text/plain": [
       "<IPython.core.display.HTML object>"
      ]
     },
     "metadata": {},
     "output_type": "display_data"
    },
    {
     "data": {
      "text/plain": [
       "<netpixi.Render at 0x7f0653f90830>"
      ]
     },
     "execution_count": 18,
     "metadata": {},
     "output_type": "execute_result"
    }
   ],
   "source": [
    "netpixi.render(\"movies_reposicionado.net.gz\")"
   ]
  },
  {
   "cell_type": "code",
   "execution_count": 19,
   "id": "5ad5c2db-ed27-4ebf-9ca4-6924270d86e2",
   "metadata": {
    "execution": {
     "iopub.execute_input": "2025-03-19T13:22:54.639916Z",
     "iopub.status.busy": "2025-03-19T13:22:54.639318Z",
     "iopub.status.idle": "2025-03-19T13:22:54.659357Z",
     "shell.execute_reply": "2025-03-19T13:22:54.658736Z",
     "shell.execute_reply.started": "2025-03-19T13:22:54.639854Z"
    }
   },
   "outputs": [
    {
     "data": {
      "text/plain": [
       "1698"
      ]
     },
     "execution_count": 19,
     "metadata": {},
     "output_type": "execute_result"
    }
   ],
   "source": [
    "len(genres) + len(set(df[\"movie_id\"]))"
   ]
  },
  {
   "cell_type": "code",
   "execution_count": 20,
   "id": "65b3b5a6-b0d2-40fa-bbff-b352bce01e85",
   "metadata": {
    "execution": {
     "iopub.execute_input": "2025-03-19T13:22:57.106183Z",
     "iopub.status.busy": "2025-03-19T13:22:57.105615Z",
     "iopub.status.idle": "2025-03-19T13:22:57.114524Z",
     "shell.execute_reply": "2025-03-19T13:22:57.113737Z",
     "shell.execute_reply.started": "2025-03-19T13:22:57.106143Z"
    }
   },
   "outputs": [
    {
     "data": {
      "text/plain": [
       "2891"
      ]
     },
     "execution_count": 20,
     "metadata": {},
     "output_type": "execute_result"
    }
   ],
   "source": [
    "g.num_edges()"
   ]
  },
  {
   "cell_type": "code",
   "execution_count": 21,
   "id": "524ecd3b-f456-4b9c-a05e-6d3235a1c9a1",
   "metadata": {
    "execution": {
     "iopub.execute_input": "2025-03-19T13:22:57.656526Z",
     "iopub.status.busy": "2025-03-19T13:22:57.655781Z",
     "iopub.status.idle": "2025-03-19T13:22:57.666615Z",
     "shell.execute_reply": "2025-03-19T13:22:57.665707Z",
     "shell.execute_reply.started": "2025-03-19T13:22:57.656480Z"
    }
   },
   "outputs": [
    {
     "data": {
      "text/plain": [
       "1698"
      ]
     },
     "execution_count": 21,
     "metadata": {},
     "output_type": "execute_result"
    }
   ],
   "source": [
    "g.num_vertices()"
   ]
  },
  {
   "cell_type": "code",
   "execution_count": null,
   "id": "de54f039-d561-45b3-a767-7b943adb6ee7",
   "metadata": {},
   "outputs": [],
   "source": []
  }
 ],
 "metadata": {
  "kernelspec": {
   "display_name": "Python 3 (ipykernel)",
   "language": "python",
   "name": "python3"
  },
  "language_info": {
   "codemirror_mode": {
    "name": "ipython",
    "version": 3
   },
   "file_extension": ".py",
   "mimetype": "text/x-python",
   "name": "python",
   "nbconvert_exporter": "python",
   "pygments_lexer": "ipython3",
   "version": "3.13.1"
  }
 },
 "nbformat": 4,
 "nbformat_minor": 5
}
