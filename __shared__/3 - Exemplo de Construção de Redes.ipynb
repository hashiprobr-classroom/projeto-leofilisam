{
 "cells": [
  {
   "cell_type": "markdown",
   "id": "118a1114-874f-4d58-8f28-c8ffa70c3d26",
   "metadata": {},
   "source": [
    "# 3 - Exemplo de Construção de Redes"
   ]
  },
  {
   "cell_type": "code",
   "execution_count": 3,
   "id": "15aa2641-b0de-4e45-aba8-764d69c65ce5",
   "metadata": {
    "execution": {
     "iopub.execute_input": "2025-05-05T14:10:37.638384Z",
     "iopub.status.busy": "2025-05-05T14:10:37.638005Z",
     "iopub.status.idle": "2025-05-05T14:10:38.695312Z",
     "shell.execute_reply": "2025-05-05T14:10:38.694885Z",
     "shell.execute_reply.started": "2025-05-05T14:10:37.638358Z"
    }
   },
   "outputs": [],
   "source": [
    "import graph_tool_extras as gte\n",
    "import pandas as pd\n",
    "import csv"
   ]
  },
  {
   "cell_type": "markdown",
   "id": "f03f43c5-fb24-4a55-96a4-f18471c63aa5",
   "metadata": {},
   "source": [
    "## Introdução"
   ]
  },
  {
   "cell_type": "markdown",
   "id": "d597472b-884c-40c7-8751-9302a57b2cd4",
   "metadata": {},
   "source": [
    "Para conduzir este notebook, vamos considerar o objetivo de construir uma rede baseada em partidas do *Campeonato Brasileiro de Futebol.*\n",
    "\n",
    "Em particular, vamos considerar o arquivo abaixo, que pertence ao dataset [Campeonato Brasileiro de futebol](https://www.kaggle.com/datasets/adaoduque/campeonato-brasileiro-de-futebol), disponível no [Kaggle](https://www.kaggle.com/)."
   ]
  },
  {
   "cell_type": "code",
   "execution_count": 4,
   "id": "113e55fa-d6cd-44e3-ba05-e0c06dfbb966",
   "metadata": {
    "execution": {
     "iopub.execute_input": "2025-05-05T14:10:38.696520Z",
     "iopub.status.busy": "2025-05-05T14:10:38.696012Z",
     "iopub.status.idle": "2025-05-05T14:10:38.699496Z",
     "shell.execute_reply": "2025-05-05T14:10:38.698865Z",
     "shell.execute_reply.started": "2025-05-05T14:10:38.696502Z"
    }
   },
   "outputs": [],
   "source": [
    "PATH = 'df_final.csv'"
   ]
  },
  {
   "cell_type": "markdown",
   "id": "bd65cc91-e28e-43f7-9d7b-0d0559dc1a15",
   "metadata": {},
   "source": [
    "## Leitura dos dados em memória"
   ]
  },
  {
   "cell_type": "markdown",
   "id": "a783c854-2537-44bd-96d9-3de979f94197",
   "metadata": {
    "execution": {
     "iopub.execute_input": "2023-07-31T17:27:33.396597Z",
     "iopub.status.busy": "2023-07-31T17:27:33.395874Z",
     "iopub.status.idle": "2023-07-31T17:27:33.410028Z",
     "shell.execute_reply": "2023-07-31T17:27:33.406720Z",
     "shell.execute_reply.started": "2023-07-31T17:27:33.396552Z"
    }
   },
   "source": [
    "Na melhor das situações, o arquivo é pequeno o suficiente para caber em memória e está em um formato suportado pelo [pandas](https://pandas.pydata.org/), como é justamente o caso do CSV."
   ]
  },
  {
   "cell_type": "code",
   "execution_count": 5,
   "id": "c5222841-fb43-4f52-9dbe-717edf099060",
   "metadata": {
    "execution": {
     "iopub.execute_input": "2025-05-05T14:10:39.673837Z",
     "iopub.status.busy": "2025-05-05T14:10:39.673586Z",
     "iopub.status.idle": "2025-05-05T14:10:39.873318Z",
     "shell.execute_reply": "2025-05-05T14:10:39.872869Z",
     "shell.execute_reply.started": "2025-05-05T14:10:39.673801Z"
    }
   },
   "outputs": [],
   "source": [
    "df = pd.read_csv(PATH)"
   ]
  },
  {
   "cell_type": "markdown",
   "id": "efc35fd7-7164-4e77-947d-993834e01236",
   "metadata": {
    "execution": {
     "iopub.execute_input": "2023-07-31T17:35:16.113932Z",
     "iopub.status.busy": "2023-07-31T17:35:16.113379Z",
     "iopub.status.idle": "2023-07-31T17:35:16.128196Z",
     "shell.execute_reply": "2023-07-31T17:35:16.125535Z",
     "shell.execute_reply.started": "2023-07-31T17:35:16.113890Z"
    }
   },
   "source": [
    "Nesse caso, podemos usar o método `head` para examinar as primeiras linhas e entender a organização dos dados."
   ]
  },
  {
   "cell_type": "code",
   "execution_count": 6,
   "id": "c90bf9a0-a7df-4262-bc14-aba426b983cc",
   "metadata": {
    "execution": {
     "iopub.execute_input": "2025-05-05T14:10:40.709465Z",
     "iopub.status.busy": "2025-05-05T14:10:40.709095Z",
     "iopub.status.idle": "2025-05-05T14:10:40.728351Z",
     "shell.execute_reply": "2025-05-05T14:10:40.727872Z",
     "shell.execute_reply.started": "2025-05-05T14:10:40.709431Z"
    }
   },
   "outputs": [
    {
     "data": {
      "text/html": [
       "<div>\n",
       "<style scoped>\n",
       "    .dataframe tbody tr th:only-of-type {\n",
       "        vertical-align: middle;\n",
       "    }\n",
       "\n",
       "    .dataframe tbody tr th {\n",
       "        vertical-align: top;\n",
       "    }\n",
       "\n",
       "    .dataframe thead th {\n",
       "        text-align: right;\n",
       "    }\n",
       "</style>\n",
       "<table border=\"1\" class=\"dataframe\">\n",
       "  <thead>\n",
       "    <tr style=\"text-align: right;\">\n",
       "      <th></th>\n",
       "      <th>user_id</th>\n",
       "      <th>movie_id</th>\n",
       "      <th>rating</th>\n",
       "      <th>timestamp</th>\n",
       "      <th>title</th>\n",
       "      <th>release_date</th>\n",
       "      <th>IMDb_URL</th>\n",
       "      <th>genres</th>\n",
       "      <th>age</th>\n",
       "      <th>gender</th>\n",
       "      <th>occupation</th>\n",
       "      <th>zip_code</th>\n",
       "    </tr>\n",
       "  </thead>\n",
       "  <tbody>\n",
       "    <tr>\n",
       "      <th>0</th>\n",
       "      <td>196</td>\n",
       "      <td>242</td>\n",
       "      <td>3</td>\n",
       "      <td>881250949</td>\n",
       "      <td>Kolya (1996)</td>\n",
       "      <td>24-Jan-1997</td>\n",
       "      <td>http://us.imdb.com/M/title-exact?Kolya%20(1996)</td>\n",
       "      <td>Comedy</td>\n",
       "      <td>49</td>\n",
       "      <td>M</td>\n",
       "      <td>writer</td>\n",
       "      <td>55105</td>\n",
       "    </tr>\n",
       "    <tr>\n",
       "      <th>1</th>\n",
       "      <td>186</td>\n",
       "      <td>302</td>\n",
       "      <td>3</td>\n",
       "      <td>891717742</td>\n",
       "      <td>L.A. Confidential (1997)</td>\n",
       "      <td>01-Jan-1997</td>\n",
       "      <td>http://us.imdb.com/M/title-exact?L%2EA%2E+Conf...</td>\n",
       "      <td>Crime|Film-Noir|Mystery|Thriller</td>\n",
       "      <td>39</td>\n",
       "      <td>F</td>\n",
       "      <td>executive</td>\n",
       "      <td>00000</td>\n",
       "    </tr>\n",
       "    <tr>\n",
       "      <th>2</th>\n",
       "      <td>22</td>\n",
       "      <td>377</td>\n",
       "      <td>1</td>\n",
       "      <td>878887116</td>\n",
       "      <td>Heavyweights (1994)</td>\n",
       "      <td>01-Jan-1994</td>\n",
       "      <td>http://us.imdb.com/M/title-exact?Heavyweights%...</td>\n",
       "      <td>Children|Comedy</td>\n",
       "      <td>25</td>\n",
       "      <td>M</td>\n",
       "      <td>writer</td>\n",
       "      <td>40206</td>\n",
       "    </tr>\n",
       "    <tr>\n",
       "      <th>3</th>\n",
       "      <td>244</td>\n",
       "      <td>51</td>\n",
       "      <td>2</td>\n",
       "      <td>880606923</td>\n",
       "      <td>Legends of the Fall (1994)</td>\n",
       "      <td>01-Jan-1994</td>\n",
       "      <td>http://us.imdb.com/M/title-exact?Legends%20of%...</td>\n",
       "      <td>Drama|Romance|War|Western</td>\n",
       "      <td>28</td>\n",
       "      <td>M</td>\n",
       "      <td>technician</td>\n",
       "      <td>80525</td>\n",
       "    </tr>\n",
       "    <tr>\n",
       "      <th>4</th>\n",
       "      <td>166</td>\n",
       "      <td>346</td>\n",
       "      <td>1</td>\n",
       "      <td>886397596</td>\n",
       "      <td>Jackie Brown (1997)</td>\n",
       "      <td>01-Jan-1997</td>\n",
       "      <td>http://us.imdb.com/M/title-exact?imdb-title-11...</td>\n",
       "      <td>Crime|Drama</td>\n",
       "      <td>47</td>\n",
       "      <td>M</td>\n",
       "      <td>educator</td>\n",
       "      <td>55113</td>\n",
       "    </tr>\n",
       "  </tbody>\n",
       "</table>\n",
       "</div>"
      ],
      "text/plain": [
       "   user_id  movie_id  rating  timestamp                       title  \\\n",
       "0      196       242       3  881250949                Kolya (1996)   \n",
       "1      186       302       3  891717742    L.A. Confidential (1997)   \n",
       "2       22       377       1  878887116         Heavyweights (1994)   \n",
       "3      244        51       2  880606923  Legends of the Fall (1994)   \n",
       "4      166       346       1  886397596         Jackie Brown (1997)   \n",
       "\n",
       "  release_date                                           IMDb_URL  \\\n",
       "0  24-Jan-1997    http://us.imdb.com/M/title-exact?Kolya%20(1996)   \n",
       "1  01-Jan-1997  http://us.imdb.com/M/title-exact?L%2EA%2E+Conf...   \n",
       "2  01-Jan-1994  http://us.imdb.com/M/title-exact?Heavyweights%...   \n",
       "3  01-Jan-1994  http://us.imdb.com/M/title-exact?Legends%20of%...   \n",
       "4  01-Jan-1997  http://us.imdb.com/M/title-exact?imdb-title-11...   \n",
       "\n",
       "                             genres  age gender  occupation zip_code  \n",
       "0                            Comedy   49      M      writer    55105  \n",
       "1  Crime|Film-Noir|Mystery|Thriller   39      F   executive    00000  \n",
       "2                   Children|Comedy   25      M      writer    40206  \n",
       "3         Drama|Romance|War|Western   28      M  technician    80525  \n",
       "4                       Crime|Drama   47      M    educator    55113  "
      ]
     },
     "execution_count": 6,
     "metadata": {},
     "output_type": "execute_result"
    }
   ],
   "source": [
    "df.drop(columns=[\"Unnamed: 0\"], inplace=True)\n",
    "df.head()"
   ]
  },
  {
   "cell_type": "code",
   "execution_count": 7,
   "id": "953f1210-138a-4735-b6c8-995c1f4625d9",
   "metadata": {
    "execution": {
     "iopub.execute_input": "2025-05-05T14:10:45.058753Z",
     "iopub.status.busy": "2025-05-05T14:10:45.058177Z",
     "iopub.status.idle": "2025-05-05T14:10:45.073327Z",
     "shell.execute_reply": "2025-05-05T14:10:45.072858Z",
     "shell.execute_reply.started": "2025-05-05T14:10:45.058712Z"
    }
   },
   "outputs": [],
   "source": [
    "df = df.loc[df[\"genres\"] != \"unknown\", :]"
   ]
  },
  {
   "cell_type": "code",
   "execution_count": 8,
   "id": "41ba7d08-d276-4a6d-b3ee-282abad4a606",
   "metadata": {
    "execution": {
     "iopub.execute_input": "2025-05-05T14:10:50.286946Z",
     "iopub.status.busy": "2025-05-05T14:10:50.286597Z",
     "iopub.status.idle": "2025-05-05T14:10:50.295262Z",
     "shell.execute_reply": "2025-05-05T14:10:50.294867Z",
     "shell.execute_reply.started": "2025-05-05T14:10:50.286929Z"
    }
   },
   "outputs": [
    {
     "data": {
      "text/html": [
       "<div>\n",
       "<style scoped>\n",
       "    .dataframe tbody tr th:only-of-type {\n",
       "        vertical-align: middle;\n",
       "    }\n",
       "\n",
       "    .dataframe tbody tr th {\n",
       "        vertical-align: top;\n",
       "    }\n",
       "\n",
       "    .dataframe thead th {\n",
       "        text-align: right;\n",
       "    }\n",
       "</style>\n",
       "<table border=\"1\" class=\"dataframe\">\n",
       "  <thead>\n",
       "    <tr style=\"text-align: right;\">\n",
       "      <th></th>\n",
       "      <th>user_id</th>\n",
       "      <th>movie_id</th>\n",
       "      <th>rating</th>\n",
       "      <th>timestamp</th>\n",
       "      <th>title</th>\n",
       "      <th>release_date</th>\n",
       "      <th>IMDb_URL</th>\n",
       "      <th>genres</th>\n",
       "      <th>age</th>\n",
       "      <th>gender</th>\n",
       "      <th>occupation</th>\n",
       "      <th>zip_code</th>\n",
       "    </tr>\n",
       "  </thead>\n",
       "  <tbody>\n",
       "    <tr>\n",
       "      <th>0</th>\n",
       "      <td>196</td>\n",
       "      <td>242</td>\n",
       "      <td>3</td>\n",
       "      <td>881250949</td>\n",
       "      <td>Kolya (1996)</td>\n",
       "      <td>24-Jan-1997</td>\n",
       "      <td>http://us.imdb.com/M/title-exact?Kolya%20(1996)</td>\n",
       "      <td>Comedy</td>\n",
       "      <td>49</td>\n",
       "      <td>M</td>\n",
       "      <td>writer</td>\n",
       "      <td>55105</td>\n",
       "    </tr>\n",
       "    <tr>\n",
       "      <th>1</th>\n",
       "      <td>186</td>\n",
       "      <td>302</td>\n",
       "      <td>3</td>\n",
       "      <td>891717742</td>\n",
       "      <td>L.A. Confidential (1997)</td>\n",
       "      <td>01-Jan-1997</td>\n",
       "      <td>http://us.imdb.com/M/title-exact?L%2EA%2E+Conf...</td>\n",
       "      <td>Crime|Film-Noir|Mystery|Thriller</td>\n",
       "      <td>39</td>\n",
       "      <td>F</td>\n",
       "      <td>executive</td>\n",
       "      <td>00000</td>\n",
       "    </tr>\n",
       "    <tr>\n",
       "      <th>2</th>\n",
       "      <td>22</td>\n",
       "      <td>377</td>\n",
       "      <td>1</td>\n",
       "      <td>878887116</td>\n",
       "      <td>Heavyweights (1994)</td>\n",
       "      <td>01-Jan-1994</td>\n",
       "      <td>http://us.imdb.com/M/title-exact?Heavyweights%...</td>\n",
       "      <td>Children|Comedy</td>\n",
       "      <td>25</td>\n",
       "      <td>M</td>\n",
       "      <td>writer</td>\n",
       "      <td>40206</td>\n",
       "    </tr>\n",
       "    <tr>\n",
       "      <th>3</th>\n",
       "      <td>244</td>\n",
       "      <td>51</td>\n",
       "      <td>2</td>\n",
       "      <td>880606923</td>\n",
       "      <td>Legends of the Fall (1994)</td>\n",
       "      <td>01-Jan-1994</td>\n",
       "      <td>http://us.imdb.com/M/title-exact?Legends%20of%...</td>\n",
       "      <td>Drama|Romance|War|Western</td>\n",
       "      <td>28</td>\n",
       "      <td>M</td>\n",
       "      <td>technician</td>\n",
       "      <td>80525</td>\n",
       "    </tr>\n",
       "    <tr>\n",
       "      <th>4</th>\n",
       "      <td>166</td>\n",
       "      <td>346</td>\n",
       "      <td>1</td>\n",
       "      <td>886397596</td>\n",
       "      <td>Jackie Brown (1997)</td>\n",
       "      <td>01-Jan-1997</td>\n",
       "      <td>http://us.imdb.com/M/title-exact?imdb-title-11...</td>\n",
       "      <td>Crime|Drama</td>\n",
       "      <td>47</td>\n",
       "      <td>M</td>\n",
       "      <td>educator</td>\n",
       "      <td>55113</td>\n",
       "    </tr>\n",
       "  </tbody>\n",
       "</table>\n",
       "</div>"
      ],
      "text/plain": [
       "   user_id  movie_id  rating  timestamp                       title  \\\n",
       "0      196       242       3  881250949                Kolya (1996)   \n",
       "1      186       302       3  891717742    L.A. Confidential (1997)   \n",
       "2       22       377       1  878887116         Heavyweights (1994)   \n",
       "3      244        51       2  880606923  Legends of the Fall (1994)   \n",
       "4      166       346       1  886397596         Jackie Brown (1997)   \n",
       "\n",
       "  release_date                                           IMDb_URL  \\\n",
       "0  24-Jan-1997    http://us.imdb.com/M/title-exact?Kolya%20(1996)   \n",
       "1  01-Jan-1997  http://us.imdb.com/M/title-exact?L%2EA%2E+Conf...   \n",
       "2  01-Jan-1994  http://us.imdb.com/M/title-exact?Heavyweights%...   \n",
       "3  01-Jan-1994  http://us.imdb.com/M/title-exact?Legends%20of%...   \n",
       "4  01-Jan-1997  http://us.imdb.com/M/title-exact?imdb-title-11...   \n",
       "\n",
       "                             genres  age gender  occupation zip_code  \n",
       "0                            Comedy   49      M      writer    55105  \n",
       "1  Crime|Film-Noir|Mystery|Thriller   39      F   executive    00000  \n",
       "2                   Children|Comedy   25      M      writer    40206  \n",
       "3         Drama|Romance|War|Western   28      M  technician    80525  \n",
       "4                       Crime|Drama   47      M    educator    55113  "
      ]
     },
     "execution_count": 8,
     "metadata": {},
     "output_type": "execute_result"
    }
   ],
   "source": [
    "df.head()"
   ]
  },
  {
   "cell_type": "markdown",
   "id": "62ccef99-1467-4b6d-b276-49cb95f2e44c",
   "metadata": {},
   "source": [
    "É possível, no entanto, que o arquivo esteja em um formato que nenhuma biblioteca suporta. Nesse caso, podemos usar os métodos `readline` e `readlines` do Python..."
   ]
  },
  {
   "cell_type": "code",
   "execution_count": 16,
   "id": "b0472b17-5e68-4a33-ad51-aa7a3b98ea6f",
   "metadata": {
    "execution": {
     "iopub.execute_input": "2025-02-26T13:41:20.757190Z",
     "iopub.status.busy": "2025-02-26T13:41:20.756963Z",
     "iopub.status.idle": "2025-02-26T13:41:20.781246Z",
     "shell.execute_reply": "2025-02-26T13:41:20.780618Z",
     "shell.execute_reply.started": "2025-02-26T13:41:20.757178Z"
    }
   },
   "outputs": [],
   "source": [
    "with open(PATH) as file:\n",
    "\n",
    "    # Ignora a primeira linha, pois ela é o cabeçalho.\n",
    "    file.readline()\n",
    "\n",
    "    # Armazena as linhas seguintes como lista de strings.\n",
    "    lines = file.readlines()"
   ]
  },
  {
   "cell_type": "markdown",
   "id": "3b47f4fd-8604-4334-bda4-dc74c3dcca49",
   "metadata": {},
   "source": [
    "...mas isso apenas separa o arquivo em linhas. "
   ]
  },
  {
   "cell_type": "code",
   "execution_count": 17,
   "id": "e63422a2-3473-427b-8008-fecf6b112e2a",
   "metadata": {
    "execution": {
     "iopub.execute_input": "2025-02-26T13:41:21.080930Z",
     "iopub.status.busy": "2025-02-26T13:41:21.080442Z",
     "iopub.status.idle": "2025-02-26T13:41:21.084232Z",
     "shell.execute_reply": "2025-02-26T13:41:21.083620Z",
     "shell.execute_reply.started": "2025-02-26T13:41:21.080908Z"
    }
   },
   "outputs": [
    {
     "name": "stdout",
     "output_type": "stream",
     "text": [
      "0,196,242,3,881250949,Kolya (1996),24-Jan-1997,http://us.imdb.com/M/title-exact?Kolya%20(1996),Comedy,49,M,writer,55105\n",
      "\n",
      "1,186,302,3,891717742,L.A. Confidential (1997),01-Jan-1997,http://us.imdb.com/M/title-exact?L%2EA%2E+Confidential+(1997),Crime|Film-Noir|Mystery|Thriller,39,F,executive,00000\n",
      "\n",
      "2,22,377,1,878887116,Heavyweights (1994),01-Jan-1994,http://us.imdb.com/M/title-exact?Heavyweights%20(1994),Children|Comedy,25,M,writer,40206\n",
      "\n",
      "3,244,51,2,880606923,Legends of the Fall (1994),01-Jan-1994,http://us.imdb.com/M/title-exact?Legends%20of%20the%20Fall%20(1994),Drama|Romance|War|Western,28,M,technician,80525\n",
      "\n",
      "4,166,346,1,886397596,Jackie Brown (1997),01-Jan-1997,http://us.imdb.com/M/title-exact?imdb-title-119396,Crime|Drama,47,M,educator,55113\n",
      "\n"
     ]
    }
   ],
   "source": [
    "# Para não sobrecarregar este notebook, vamos usar um\n",
    "# slice para imprimir apenas as cinco primeiras linhas.\n",
    "for line in lines[:5]:\n",
    "    print(line)"
   ]
  },
  {
   "cell_type": "markdown",
   "id": "c2e022ea-6d66-41be-9140-615fc5f7b9d7",
   "metadata": {},
   "source": [
    "Para extrair dados dessas linhas, devemos entender o formato delas e implementar um *parsing* do zero."
   ]
  },
  {
   "cell_type": "code",
   "execution_count": 18,
   "id": "77bfdc6c-6206-4df0-9157-ed54b90a9368",
   "metadata": {
    "execution": {
     "iopub.execute_input": "2025-02-26T13:41:21.636636Z",
     "iopub.status.busy": "2025-02-26T13:41:21.636395Z",
     "iopub.status.idle": "2025-02-26T13:41:21.641139Z",
     "shell.execute_reply": "2025-02-26T13:41:21.640621Z",
     "shell.execute_reply.started": "2025-02-26T13:41:21.636623Z"
    }
   },
   "outputs": [
    {
     "name": "stdout",
     "output_type": "stream",
     "text": [
      "4 8125094 olya (1996\n",
      "0 9171774 .A. Confidential (1997\n",
      "7 7888711 eavyweights (1994\n",
      " 8060692 egends of the Fall (1994\n",
      "4 8639759 ackie Brown (1997\n"
     ]
    }
   ],
   "source": [
    "# Para não sobrecarregar este notebook, vamos usar um\n",
    "# slice para imprimir apenas as cinco primeiras linhas.\n",
    "for line in lines[:5]:\n",
    "\n",
    "    # Separa a linha em partes, usando\n",
    "    # o caractere ',' como separador.\n",
    "    parts = line.split(',')\n",
    "\n",
    "    # Ignora o primeiro e último caracteres\n",
    "    # de cada parte, para eliminar as aspas.\n",
    "    parts = [part[1:-1] for part in parts]\n",
    "\n",
    "    # Imprime a data, o mandante e o visitante.\n",
    "    print(parts[2], parts[4], parts[5])"
   ]
  },
  {
   "cell_type": "markdown",
   "id": "efa3f118-e7f3-451e-b429-14c567a9025f",
   "metadata": {},
   "source": [
    "## Leitura dos dados em disco"
   ]
  },
  {
   "cell_type": "markdown",
   "id": "31c540be-6dc2-438c-8581-d95006602bd9",
   "metadata": {},
   "source": [
    "Em muitas situações, por outro lado, o arquivo é grande demais para caber em memória. Nesses casos, é necessário processar esse arquivo linha por linha, sem nunca carregá-lo inteiro.\n",
    "\n",
    "Dependendo do formato, o *parsing* dessas linhas pode ser feito por uma biblioteca. Novamente, esse é justamente o caso do CSV: podemos usar a função `reader` do módulo [csv](https://docs.python.org/3/library/csv.html)."
   ]
  },
  {
   "cell_type": "code",
   "execution_count": 19,
   "id": "715b9d98-50c1-4522-956a-2650f8792a31",
   "metadata": {
    "execution": {
     "iopub.execute_input": "2025-02-26T13:41:22.940275Z",
     "iopub.status.busy": "2025-02-26T13:41:22.940036Z",
     "iopub.status.idle": "2025-02-26T13:41:22.946157Z",
     "shell.execute_reply": "2025-02-26T13:41:22.945623Z",
     "shell.execute_reply.started": "2025-02-26T13:41:22.940252Z"
    }
   },
   "outputs": [
    {
     "name": "stdout",
     "output_type": "stream",
     "text": [
      "242 881250949 Kolya (1996)\n",
      "302 891717742 L.A. Confidential (1997)\n",
      "377 878887116 Heavyweights (1994)\n",
      "51 880606923 Legends of the Fall (1994)\n",
      "346 886397596 Jackie Brown (1997)\n"
     ]
    }
   ],
   "source": [
    "with open(PATH) as file:\n",
    "    reader = csv.reader(file)\n",
    "\n",
    "    # Para não sobrecarregar este notebook, vamos usar um contador\n",
    "    # e um break para imprimir apenas as cinco primeiras linhas.\n",
    "    i = 0\n",
    "\n",
    "    # Ignora a primeira linha, pois ela é o cabeçalho.\n",
    "    next(reader)\n",
    "\n",
    "    # Lê o arquivo linha por linha, sem carregá-lo inteiro na memória.\n",
    "    for line in reader:\n",
    "\n",
    "        # Imprime a data, o mandante e o visitante.\n",
    "        print(line[2], line[4], line[5])\n",
    "\n",
    "        # Para não sobrecarregar este notebook, vamos usar um contador\n",
    "        # e um break para imprimir apenas as cinco primeiras linhas.\n",
    "        i += 1\n",
    "        if i == 5:\n",
    "            break"
   ]
  },
  {
   "cell_type": "markdown",
   "id": "444656bf-6060-4265-b781-8abeb567d0f2",
   "metadata": {},
   "source": [
    "Na pior das situações, o arquivo é grande e está em um formato não suportado. Nessa situação, infelizmente, devemos implementar praticamente tudo do zero."
   ]
  },
  {
   "cell_type": "code",
   "execution_count": 20,
   "id": "2a34c6d8-99f4-48ec-b7ed-b90577630a20",
   "metadata": {
    "execution": {
     "iopub.execute_input": "2025-02-26T13:41:23.587229Z",
     "iopub.status.busy": "2025-02-26T13:41:23.586696Z",
     "iopub.status.idle": "2025-02-26T13:41:23.594395Z",
     "shell.execute_reply": "2025-02-26T13:41:23.593640Z",
     "shell.execute_reply.started": "2025-02-26T13:41:23.587209Z"
    }
   },
   "outputs": [
    {
     "name": "stdout",
     "output_type": "stream",
     "text": [
      "4 8125094 olya (1996\n",
      "0 9171774 .A. Confidential (1997\n",
      "7 7888711 eavyweights (1994\n",
      " 8060692 egends of the Fall (1994\n",
      "4 8639759 ackie Brown (1997\n"
     ]
    }
   ],
   "source": [
    "with open(PATH) as file:\n",
    "\n",
    "    # Para não sobrecarregar este notebook, vamos usar um contador\n",
    "    # e um break para imprimir apenas as cinco primeiras linhas.\n",
    "    i = 0\n",
    "\n",
    "    # Ignora a primeira linha, pois ela é o cabeçalho.\n",
    "    next(file)\n",
    "\n",
    "    # Lê o arquivo linha por linha, sem carregá-lo inteiro na memória.\n",
    "    for line in file:\n",
    "\n",
    "        # Transforma a linha em uma lista de partes,\n",
    "        # considerando o caractere ',' como separador.\n",
    "        parts = line.split(',')\n",
    "\n",
    "        # Ignora o primeiro e último caracteres\n",
    "        # de cada parte, para eliminar as aspas.\n",
    "        parts = [part[1:-1] for part in parts]\n",
    "\n",
    "        # Imprime a data, o mandante e o visitante.\n",
    "        print(parts[2], parts[4], parts[5])\n",
    "\n",
    "        # Para não sobrecarregar este notebook, vamos usar um contador\n",
    "        # e um break para imprimir apenas as cinco primeiras linhas.\n",
    "        i += 1\n",
    "        if i == 5:\n",
    "            break"
   ]
  },
  {
   "cell_type": "markdown",
   "id": "6da8d7d0-9df7-47f4-bfe2-fe981d1c8449",
   "metadata": {},
   "source": [
    "## Construção de um novo grafo"
   ]
  },
  {
   "cell_type": "markdown",
   "id": "e32a6cc0",
   "metadata": {},
   "source": [
    "Para construir e analisar grafos, vamos usar a biblioteca [graph-tool](https://graph-tool.skewed.de/), com alguns adicionais disponíveis no módulo `graph_tool_extras`.\n",
    "\n",
    "O uso básico dessa plataforma é simples:\n",
    "\n",
    "* para criar um grafo, basta chamar a classe `gte.Graph`; *(o parâmetro booleano `directed`, que é falso por padrão, define se ele é dirigido)*\n",
    " \n",
    "* para adicionar um vértice a esse grafo, basta chamar o método `add_vertex_by_id`, passando o identificador desse vértice; *(inteiro ou string)*\n",
    "\n",
    "* para adicionar uma aresta, basta chamar o método `add_edge_by_ids`, passando os identificadores da origem e do destino."
   ]
  },
  {
   "cell_type": "markdown",
   "id": "df057e7b-0818-4ba6-ad8f-b0c93c236bb2",
   "metadata": {},
   "source": [
    "Ou seja, para construir o primeiro exemplo do primeiro notebook, basta rodar o código abaixo."
   ]
  },
  {
   "cell_type": "code",
   "execution_count": 7,
   "id": "d9176659",
   "metadata": {
    "execution": {
     "iopub.execute_input": "2025-02-26T14:13:16.126405Z",
     "iopub.status.busy": "2025-02-26T14:13:16.126169Z",
     "iopub.status.idle": "2025-02-26T14:13:16.615134Z",
     "shell.execute_reply": "2025-02-26T14:13:16.614680Z",
     "shell.execute_reply.started": "2025-02-26T14:13:16.126390Z"
    }
   },
   "outputs": [],
   "source": [
    "g = gte.Graph(directed=False) # igual a gte.Graph(), pois directed é falso por padrão\n",
    "\n",
    "genres = [\n",
    "    \"Action\", \"Adventure\", \"Animation\", \"Children\", \"Comedy\", \"Crime\",\n",
    "    \"Documentary\", \"Drama\", \"Fantasy\", \"Film-Noir\", \"Horror\", \"Musical\",\n",
    "    \"Mystery\", \"Romance\", \"Sci-Fi\", \"Thriller\", \"War\", \"Western\"\n",
    "]\n",
    "\n",
    "for genre in genres:\n",
    "    g.add_vertex_by_id(genre)\n",
    "\n",
    "for movie_id in set(df[\"movie_id\"]):\n",
    "    g.add_vertex_by_id(movie_id)\n",
    "\n",
    "    genres_by_movie = df.loc[df[\"movie_id\"] == movie_id, :].values.tolist()[0][7].split(\"|\")\n",
    "\n",
    "    for genre in genres_by_movie:\n",
    "        g.add_edge_by_ids(movie_id, genre)\n"
   ]
  },
  {
   "cell_type": "markdown",
   "id": "794e8851-3d4f-48f1-ab9e-cf2ebb6ce836",
   "metadata": {},
   "source": [
    "## Iteração e acesso a vértices"
   ]
  },
  {
   "cell_type": "markdown",
   "id": "4dfa4c83-be7c-49f1-b7b9-69346b75585d",
   "metadata": {},
   "source": [
    "Para iterar sobre os vértices de um grafo, basta chamar o método `vertices`.\n",
    "\n",
    "Para acessar o identificador de um vértice, basta chamar o método `id`."
   ]
  },
  {
   "cell_type": "code",
   "execution_count": 12,
   "id": "642c743d-47a9-4011-81d2-2b32f4cf2fff",
   "metadata": {
    "execution": {
     "iopub.execute_input": "2025-02-26T12:52:22.937213Z",
     "iopub.status.busy": "2025-02-26T12:52:22.937010Z",
     "iopub.status.idle": "2025-02-26T12:52:22.941304Z",
     "shell.execute_reply": "2025-02-26T12:52:22.940889Z",
     "shell.execute_reply.started": "2025-02-26T12:52:22.937199Z"
    }
   },
   "outputs": [
    {
     "name": "stdout",
     "output_type": "stream",
     "text": [
      "a\n",
      "b\n",
      "c\n",
      "d\n"
     ]
    }
   ],
   "source": [
    "for u in g.vertices():\n",
    "    print(u.id())"
   ]
  },
  {
   "cell_type": "markdown",
   "id": "b88eed25-d4c9-4e46-a961-071411009922",
   "metadata": {},
   "source": [
    "Para acessar um vértice específico, basta chamar o método `vertex_by_id`, passando o identificador desse vértice."
   ]
  },
  {
   "cell_type": "code",
   "execution_count": 13,
   "id": "ea943bcf-0a05-4d66-aeb0-b92e432caf29",
   "metadata": {
    "execution": {
     "iopub.execute_input": "2025-02-26T12:52:29.134284Z",
     "iopub.status.busy": "2025-02-26T12:52:29.134084Z",
     "iopub.status.idle": "2025-02-26T12:52:29.137306Z",
     "shell.execute_reply": "2025-02-26T12:52:29.136898Z",
     "shell.execute_reply.started": "2025-02-26T12:52:29.134271Z"
    }
   },
   "outputs": [],
   "source": [
    "u = g.vertex_by_id('a')"
   ]
  },
  {
   "cell_type": "markdown",
   "id": "3e524c8d-d51b-44da-833c-2425c28e170e",
   "metadata": {},
   "source": [
    "## Iteração e acesso a arestas"
   ]
  },
  {
   "cell_type": "markdown",
   "id": "6d53cc47-769e-4905-8ce0-bf489504de3b",
   "metadata": {},
   "source": [
    "Para iterar sobre as arestas de um grafo, basta chamar o método `edges`.\n",
    "\n",
    "Para acessar a origem de uma aresta, basta chamar o método `source`.\n",
    "\n",
    "Para acessar o destino de uma aresta, basta chamar o método `target`."
   ]
  },
  {
   "cell_type": "code",
   "execution_count": 14,
   "id": "c377c048-632e-4173-9d54-ed3198bc9335",
   "metadata": {
    "execution": {
     "iopub.execute_input": "2025-02-26T12:52:39.541723Z",
     "iopub.status.busy": "2025-02-26T12:52:39.541378Z",
     "iopub.status.idle": "2025-02-26T12:52:39.546520Z",
     "shell.execute_reply": "2025-02-26T12:52:39.545908Z",
     "shell.execute_reply.started": "2025-02-26T12:52:39.541697Z"
    }
   },
   "outputs": [
    {
     "name": "stdout",
     "output_type": "stream",
     "text": [
      "a b\n",
      "a c\n",
      "b c\n",
      "b d\n",
      "c b\n",
      "c d\n"
     ]
    }
   ],
   "source": [
    "for e in g.edges():\n",
    "    print(e.source().id(), e.target().id())"
   ]
  },
  {
   "cell_type": "markdown",
   "id": "31a78f03-b9d7-43f0-bfca-a7d2611af094",
   "metadata": {
    "execution": {
     "iopub.execute_input": "2023-07-31T20:32:23.176735Z",
     "iopub.status.busy": "2023-07-31T20:32:23.175660Z",
     "iopub.status.idle": "2023-07-31T20:32:23.191286Z",
     "shell.execute_reply": "2023-07-31T20:32:23.189189Z",
     "shell.execute_reply.started": "2023-07-31T20:32:23.176647Z"
    }
   },
   "source": [
    "Para acessar uma aresta específica, basta chamar o método `edge_by_ids`, passando os identificadores da origem e do destino."
   ]
  },
  {
   "cell_type": "code",
   "execution_count": 15,
   "id": "93a0bb9d-e0fd-42b7-bfe7-1fba9a2c1d8a",
   "metadata": {
    "execution": {
     "iopub.execute_input": "2025-02-26T12:52:43.226238Z",
     "iopub.status.busy": "2025-02-26T12:52:43.225851Z",
     "iopub.status.idle": "2025-02-26T12:52:43.229375Z",
     "shell.execute_reply": "2025-02-26T12:52:43.228935Z",
     "shell.execute_reply.started": "2025-02-26T12:52:43.226223Z"
    }
   },
   "outputs": [],
   "source": [
    "e = g.edge_by_ids('a', 'b')"
   ]
  },
  {
   "cell_type": "markdown",
   "id": "10ab9bba-97d7-4ece-adfa-522a4dcb4990",
   "metadata": {},
   "source": [
    "## Armazenamento de valores"
   ]
  },
  {
   "cell_type": "markdown",
   "id": "8993a33b-5bcf-439a-b2fe-ca5659efcf0f",
   "metadata": {},
   "source": [
    "A plataforma permite armazenar valores em cada vértice, em cada aresta e no próprio grafo. Esses valores podem ser qualquer coisa: inteiros, strings, listas, dicionários..."
   ]
  },
  {
   "cell_type": "markdown",
   "id": "8e8dcb58-3143-4472-addc-10d5dc304659",
   "metadata": {},
   "source": [
    "### Propriedades de vértice"
   ]
  },
  {
   "cell_type": "markdown",
   "id": "dc315228-ed8f-425f-a609-6ed28c7d9253",
   "metadata": {},
   "source": [
    "Um vértice é mais ou menos como um dicionário: para armazenar um valor nele, devemos associar esse valor a uma chave.\n",
    "\n",
    "A atribuição abaixo, por exemplo, associa o inteiro `1` à chave `'x'` do vértice `u`.\n",
    "\n",
    "``` python\n",
    "u['x'] = 1\n",
    "```\n",
    "\n",
    "Porém, para evitar problemas de consistência, não é permitido que um vértice tenha uma chave e outro não. No exemplo acima, há somente duas possibilidades: ou *nenhum* vértice tem a chave `'x'` (ou seja, a atribuição com certeza daria erro), ou *todos* têm (ou seja, a atribuição com certeza iria funcionar). Nesse caso, dizemos que o grafo tem uma **propriedade de vértice** *(vertex property)* chamada `'x'`.\n",
    "\n",
    "Para adicionar essa propriedade de vértice ao grafo, devemos chamar o método `add_vp`, passando sua chave."
   ]
  },
  {
   "cell_type": "code",
   "execution_count": 16,
   "id": "77126bd2-12d6-4b57-9680-070e43422f0e",
   "metadata": {
    "execution": {
     "iopub.execute_input": "2025-02-26T12:54:30.829473Z",
     "iopub.status.busy": "2025-02-26T12:54:30.829247Z",
     "iopub.status.idle": "2025-02-26T12:54:30.832447Z",
     "shell.execute_reply": "2025-02-26T12:54:30.832037Z",
     "shell.execute_reply.started": "2025-02-26T12:54:30.829459Z"
    }
   },
   "outputs": [],
   "source": [
    "g.add_vp('x')"
   ]
  },
  {
   "cell_type": "markdown",
   "id": "828fb3e9-d2a3-40d5-9ece-68e547fba458",
   "metadata": {},
   "source": [
    "Se a propriedade existe, tanto a leitura quanto a escrita de valores são análogas às de um dicionário."
   ]
  },
  {
   "cell_type": "code",
   "execution_count": 17,
   "id": "23578b0d-2f1a-4b4e-a3b3-09fa06d294ae",
   "metadata": {
    "execution": {
     "iopub.execute_input": "2025-02-26T12:54:45.635179Z",
     "iopub.status.busy": "2025-02-26T12:54:45.634773Z",
     "iopub.status.idle": "2025-02-26T12:54:45.638746Z",
     "shell.execute_reply": "2025-02-26T12:54:45.638256Z",
     "shell.execute_reply.started": "2025-02-26T12:54:45.635163Z"
    }
   },
   "outputs": [
    {
     "data": {
      "text/plain": [
       "1"
      ]
     },
     "execution_count": 17,
     "metadata": {},
     "output_type": "execute_result"
    }
   ],
   "source": [
    "u['x'] = 1\n",
    "\n",
    "u['x']"
   ]
  },
  {
   "cell_type": "markdown",
   "id": "9230c117-69e4-42de-8dff-a452982e1fe7",
   "metadata": {},
   "source": [
    "### Propriedades de aresta"
   ]
  },
  {
   "cell_type": "markdown",
   "id": "165b4a54-b112-40ae-ac86-eaae90286986",
   "metadata": {},
   "source": [
    "Assim como um grafo pode ter uma propriedade de vértice, ele também pode ter uma **propriedade de aresta** *(edge property).* Para adicioná-la, basta chamar o método `add_ep`."
   ]
  },
  {
   "cell_type": "code",
   "execution_count": 18,
   "id": "9925b00c-5e75-4084-8178-fbab31b787c5",
   "metadata": {
    "execution": {
     "iopub.execute_input": "2025-02-26T12:54:52.935840Z",
     "iopub.status.busy": "2025-02-26T12:54:52.935460Z",
     "iopub.status.idle": "2025-02-26T12:54:52.938980Z",
     "shell.execute_reply": "2025-02-26T12:54:52.938307Z",
     "shell.execute_reply.started": "2025-02-26T12:54:52.935824Z"
    }
   },
   "outputs": [],
   "source": [
    "g.add_ep('y')"
   ]
  },
  {
   "cell_type": "markdown",
   "id": "6ec0d8d8-f25a-46e4-a395-c3d061a37b26",
   "metadata": {},
   "source": [
    "Novamente, se a propriedade existe, tanto a leitura quanto a escrita de valores são análogas às de um dicionário.\n",
    "\n",
    "A atribuição abaixo associa a string `'s'` à chave `'y'` da aresta `e`."
   ]
  },
  {
   "cell_type": "code",
   "execution_count": 19,
   "id": "c93dc417-1872-4296-a9a4-f451356258ee",
   "metadata": {
    "execution": {
     "iopub.execute_input": "2025-02-26T12:54:57.092563Z",
     "iopub.status.busy": "2025-02-26T12:54:57.092352Z",
     "iopub.status.idle": "2025-02-26T12:54:57.096675Z",
     "shell.execute_reply": "2025-02-26T12:54:57.096276Z",
     "shell.execute_reply.started": "2025-02-26T12:54:57.092549Z"
    }
   },
   "outputs": [
    {
     "data": {
      "text/plain": [
       "'s'"
      ]
     },
     "execution_count": 19,
     "metadata": {},
     "output_type": "execute_result"
    }
   ],
   "source": [
    "e['y'] = 's'\n",
    "\n",
    "e['y']"
   ]
  },
  {
   "cell_type": "markdown",
   "id": "5fec4b5c-ec32-4338-97da-3d317d033ffe",
   "metadata": {},
   "source": [
    "### Propriedades de grafo"
   ]
  },
  {
   "cell_type": "markdown",
   "id": "47faaeeb-d176-4648-b988-0a98a4e5f748",
   "metadata": {},
   "source": [
    "Por fim, um grafo pode ter uma propriedade dele próprio, ou seja, uma **propriedade de grafo** *(graph property).* Para adicionar, basta chamar `add_gp`."
   ]
  },
  {
   "cell_type": "code",
   "execution_count": 20,
   "id": "12d2b09c-96d5-495c-8eee-5bfeacbf089e",
   "metadata": {
    "execution": {
     "iopub.execute_input": "2025-02-26T12:55:03.831863Z",
     "iopub.status.busy": "2025-02-26T12:55:03.831648Z",
     "iopub.status.idle": "2025-02-26T12:55:03.834961Z",
     "shell.execute_reply": "2025-02-26T12:55:03.834367Z",
     "shell.execute_reply.started": "2025-02-26T12:55:03.831850Z"
    }
   },
   "outputs": [],
   "source": [
    "g.add_gp('z')"
   ]
  },
  {
   "cell_type": "markdown",
   "id": "84976a52-21db-47f2-b952-020f39521c89",
   "metadata": {},
   "source": [
    "A atribuição abaixo associa a lista `[1, 's']` à chave `'z'` do grafo `g`."
   ]
  },
  {
   "cell_type": "code",
   "execution_count": 21,
   "id": "f4bfa011-b20d-4e9f-b7ba-5533752ccbc7",
   "metadata": {
    "execution": {
     "iopub.execute_input": "2025-02-26T12:55:04.503390Z",
     "iopub.status.busy": "2025-02-26T12:55:04.503066Z",
     "iopub.status.idle": "2025-02-26T12:55:04.507920Z",
     "shell.execute_reply": "2025-02-26T12:55:04.507304Z",
     "shell.execute_reply.started": "2025-02-26T12:55:04.503375Z"
    }
   },
   "outputs": [
    {
     "data": {
      "text/plain": [
       "[1, 's']"
      ]
     },
     "execution_count": 21,
     "metadata": {},
     "output_type": "execute_result"
    }
   ],
   "source": [
    "g['z'] = [1, 's']\n",
    "\n",
    "g['z']"
   ]
  },
  {
   "cell_type": "markdown",
   "id": "9628352f-6356-4527-9bb4-be96d3c515b6",
   "metadata": {},
   "source": [
    "## Salvamento de grafo em arquivo"
   ]
  },
  {
   "cell_type": "markdown",
   "id": "0608b9a4-b744-42af-8cd5-3efe3dac450e",
   "metadata": {},
   "source": [
    "Para salvar um grafo em um arquivo, basta chamar a função `gte.save`, passando o grafo e o caminho do arquivo.\n",
    "\n",
    "Se o grafo tem propriedades de vértice, aresta ou dele próprio, elas também são salvas."
   ]
  },
  {
   "cell_type": "code",
   "execution_count": 22,
   "id": "c1d8046c-31fa-4d93-9f52-a1d726050de4",
   "metadata": {
    "execution": {
     "iopub.execute_input": "2025-02-26T12:55:06.593415Z",
     "iopub.status.busy": "2025-02-26T12:55:06.593056Z",
     "iopub.status.idle": "2025-02-26T12:55:06.597732Z",
     "shell.execute_reply": "2025-02-26T12:55:06.597268Z",
     "shell.execute_reply.started": "2025-02-26T12:55:06.593398Z"
    }
   },
   "outputs": [],
   "source": [
    "gte.save(g, 'grafo.net.gz')"
   ]
  },
  {
   "cell_type": "markdown",
   "id": "8176aa79-2be2-4f81-8d2e-4ee430f1202b",
   "metadata": {},
   "source": [
    "## Conclusão"
   ]
  },
  {
   "cell_type": "markdown",
   "id": "ff0a24e4-74a1-4523-9fe4-266bd0a3e0a5",
   "metadata": {},
   "source": [
    "Vamos usar as seções anteriores para construir a seguinte rede:\n",
    "\n",
    "* os vértices são os times que participaram do campeonato de um ano específico; *(os identificadores são os nomes desses times)*\n",
    "* uma aresta de A a B indica que o time A ganhou do time B em pelo menos uma partida desse campeonato.\n",
    "\n",
    "Como a relação \"A ganhou de B\" não é simétrica, devemos criar uma rede dirigida."
   ]
  },
  {
   "cell_type": "code",
   "execution_count": 23,
   "id": "833d649a-5c43-4531-b449-67ee202906ed",
   "metadata": {
    "execution": {
     "iopub.execute_input": "2025-02-26T12:55:54.054733Z",
     "iopub.status.busy": "2025-02-26T12:55:54.054355Z",
     "iopub.status.idle": "2025-02-26T12:55:54.058309Z",
     "shell.execute_reply": "2025-02-26T12:55:54.057841Z",
     "shell.execute_reply.started": "2025-02-26T12:55:54.054704Z"
    }
   },
   "outputs": [],
   "source": [
    "g = gte.Graph(directed=True)"
   ]
  },
  {
   "cell_type": "markdown",
   "id": "91155385-cac1-4eb4-9bde-3a5dcf492490",
   "metadata": {},
   "source": [
    "Usando propriedades, vamos armazenar três informações adicionais na rede:\n",
    "\n",
    "* saldo de gols de cada time; *(propriedade de vértice)*\n",
    "* total de vitórias de cada um dos times sobre cada um dos outros; *(propriedade de aresta)*\n",
    "* ano escolhido. *(propriedade de grafo)*"
   ]
  },
  {
   "cell_type": "code",
   "execution_count": 24,
   "id": "426cafa9-9b2b-43c8-a395-10491e7d66d6",
   "metadata": {
    "execution": {
     "iopub.execute_input": "2025-02-26T12:55:57.934155Z",
     "iopub.status.busy": "2025-02-26T12:55:57.933907Z",
     "iopub.status.idle": "2025-02-26T12:55:57.937268Z",
     "shell.execute_reply": "2025-02-26T12:55:57.936854Z",
     "shell.execute_reply.started": "2025-02-26T12:55:57.934140Z"
    }
   },
   "outputs": [],
   "source": [
    "g.add_vp('saldo')\n",
    "g.add_ep('total')\n",
    "g.add_gp('ano')"
   ]
  },
  {
   "cell_type": "markdown",
   "id": "0b22841a-777a-4d58-9749-7d86de6d9098",
   "metadata": {},
   "source": [
    "Para usar dados específicos, vamos escolher o ano de 2022."
   ]
  },
  {
   "cell_type": "code",
   "execution_count": 25,
   "id": "bd37a2cd-29de-4580-8373-10d0ec7e31dc",
   "metadata": {
    "execution": {
     "iopub.execute_input": "2025-02-26T12:55:59.318886Z",
     "iopub.status.busy": "2025-02-26T12:55:59.318391Z",
     "iopub.status.idle": "2025-02-26T12:55:59.322334Z",
     "shell.execute_reply": "2025-02-26T12:55:59.321871Z",
     "shell.execute_reply.started": "2025-02-26T12:55:59.318867Z"
    }
   },
   "outputs": [],
   "source": [
    "YEAR = 2022\n",
    "\n",
    "g['ano'] = YEAR"
   ]
  },
  {
   "cell_type": "markdown",
   "id": "fcdf1bc5-ec8a-4e05-a2a9-4d10a614d154",
   "metadata": {},
   "source": [
    "Antes de ler o arquivo, vamos definir uma função auxiliar que recebe um grafo e um identificador e:\n",
    "\n",
    "* se um vértice com esse identificador já existe no grafo, simplesmente devolve esse vértice;\n",
    "\n",
    "* senão, adiciona um vértice com esse identificador ao grafo, inicializa o saldo desse vértice e o devolve.\n",
    "\n",
    "Para isso, vamos usar dois fatos úteis:\n",
    "\n",
    "1. se um vértice com o identificador não existe, o método `vertex_by_id` devolve `None`;\n",
    "\n",
    "2. o método `add_vertex_by_id` devolve o vértice adicionado."
   ]
  },
  {
   "cell_type": "code",
   "execution_count": 26,
   "id": "bf2c1324-a953-4620-8a57-c3856233421e",
   "metadata": {
    "execution": {
     "iopub.execute_input": "2025-02-26T12:56:02.171774Z",
     "iopub.status.busy": "2025-02-26T12:56:02.171337Z",
     "iopub.status.idle": "2025-02-26T12:56:02.175463Z",
     "shell.execute_reply": "2025-02-26T12:56:02.174870Z",
     "shell.execute_reply.started": "2025-02-26T12:56:02.171757Z"
    }
   },
   "outputs": [],
   "source": [
    "def get_or_add_vertex(g, id):\n",
    "    u = g.vertex_by_id(id)\n",
    "    if u is None:\n",
    "        u = g.add_vertex_by_id(id)\n",
    "        u['saldo'] = 0\n",
    "    return u"
   ]
  },
  {
   "cell_type": "markdown",
   "id": "65890d04-bf14-4c29-8821-18da226b0993",
   "metadata": {},
   "source": [
    "Vamos definir também uma função auxiliar que recebe um grafo e dois identificadores e:\n",
    "\n",
    "* se os vértices com esses identificadores já estão conectados no grafo, simplesmente devolve a aresta correspondente a eles;\n",
    "\n",
    "* senão, adiciona uma aresta correspondente a esses identificadores ao grafo, inicializa o total dessa aresta e a devolve.\n",
    "\n",
    "Vamos usar dois fatos análogos aos da função anterior:\n",
    "\n",
    "1. se uma aresta correspondente aos identificadores não existe, o método `edge_by_ids` devolve `None`;\n",
    "\n",
    "2. o método `add_edge_by_ids` devolve a aresta adicionada."
   ]
  },
  {
   "cell_type": "code",
   "execution_count": 27,
   "id": "546ef3a4-aa2d-4894-907d-3038f4026c41",
   "metadata": {
    "execution": {
     "iopub.execute_input": "2025-02-26T12:56:03.518747Z",
     "iopub.status.busy": "2025-02-26T12:56:03.518503Z",
     "iopub.status.idle": "2025-02-26T12:56:03.522256Z",
     "shell.execute_reply": "2025-02-26T12:56:03.521825Z",
     "shell.execute_reply.started": "2025-02-26T12:56:03.518733Z"
    }
   },
   "outputs": [],
   "source": [
    "def get_or_add_edge(g, winner, loser):\n",
    "    e = g.edge_by_ids(winner, loser)\n",
    "    if e is None:\n",
    "        e = g.add_edge_by_ids(winner, loser)\n",
    "        e['total'] = 0\n",
    "    return e"
   ]
  },
  {
   "cell_type": "markdown",
   "id": "4cc0d016-f6f3-49c4-902e-a63d4809d13e",
   "metadata": {},
   "source": [
    "Agora estamos prontos para ler o arquivo e construir a rede."
   ]
  },
  {
   "cell_type": "code",
   "execution_count": 28,
   "id": "1d1b1a04-b536-4bb7-a186-f1491b1a8a59",
   "metadata": {
    "execution": {
     "iopub.execute_input": "2025-02-26T12:56:06.831498Z",
     "iopub.status.busy": "2025-02-26T12:56:06.831054Z",
     "iopub.status.idle": "2025-02-26T12:56:06.859495Z",
     "shell.execute_reply": "2025-02-26T12:56:06.858883Z",
     "shell.execute_reply.started": "2025-02-26T12:56:06.831483Z"
    }
   },
   "outputs": [],
   "source": [
    "with open(PATH) as file:\n",
    "    reader = csv.reader(file)\n",
    "\n",
    "    # Ignora a primeira linha, pois ela é o cabeçalho.\n",
    "    next(reader)\n",
    "\n",
    "    # Lê o arquivo linha por linha, sem carregá-lo inteiro na memória.\n",
    "    for line in reader:\n",
    "\n",
    "        # Considera apenas partidas de 2022.\n",
    "        date = line[2]\n",
    "        index = date.rfind('/')\n",
    "        year = int(date[(index + 1):])\n",
    "        if year == YEAR:\n",
    "\n",
    "            # Lê os nomes dos times mandante e visitante.\n",
    "            home = line[4]\n",
    "            guest = line[5]\n",
    "\n",
    "            # Lê os placares dos times mandante e visitante.\n",
    "            score_home = int(line[12])\n",
    "            score_guest = int(line[13])\n",
    "\n",
    "            # Obtém vértices, adicionando se não existirem.\n",
    "            u = get_or_add_vertex(g, home)\n",
    "            v = get_or_add_vertex(g, guest)\n",
    "\n",
    "            # Atualiza saldos dos vértices.\n",
    "            u['saldo'] += score_home\n",
    "            v['saldo'] += score_guest\n",
    "\n",
    "            # Considera apenas partidas em que não houve empate.\n",
    "            if score_home != score_guest:\n",
    "\n",
    "                # Obtém aresta, adicionando se não existir.\n",
    "                if score_home < score_guest:\n",
    "                    e = get_or_add_edge(g, guest, home)\n",
    "                else:\n",
    "                    e = get_or_add_edge(g, home, guest)\n",
    "\n",
    "                # Atualiza total da aresta.\n",
    "                e['total'] += 1"
   ]
  },
  {
   "cell_type": "markdown",
   "id": "a0009ca1-5621-4265-8c3f-5169d2300c55",
   "metadata": {},
   "source": [
    "Para concluir, basta salvar a rede em um arquivo."
   ]
  },
  {
   "cell_type": "code",
   "execution_count": 8,
   "id": "d5ab8100",
   "metadata": {
    "execution": {
     "iopub.execute_input": "2025-02-26T14:14:00.992097Z",
     "iopub.status.busy": "2025-02-26T14:14:00.991613Z",
     "iopub.status.idle": "2025-02-26T14:14:01.085713Z",
     "shell.execute_reply": "2025-02-26T14:14:01.085248Z",
     "shell.execute_reply.started": "2025-02-26T14:14:00.992072Z"
    }
   },
   "outputs": [],
   "source": [
    "gte.save(g, 'movies.net.gz')"
   ]
  },
  {
   "attachments": {
    "20cd3d92-3cca-4d4c-a4f2-1f2a61958c34.png": {
     "image/png": "[encoded data removed]"
    }
   },
   "cell_type": "markdown",
   "id": "83a89b4c",
   "metadata": {},
   "source": [
    "<div class=\"alert alert-block alert-info\">\n",
    "   <strong>DICA:</strong> Você pode clicar na aba\n",
    "   <img style=\"vertical-align: middle\" src=\"attachment:20cd3d92-3cca-4d4c-a4f2-1f2a61958c34.png\" alt\"toc.png\">\n",
    "   à esquerda para navegar por seção.\n",
    "</div>"
   ]
  },
  {
   "cell_type": "code",
   "execution_count": null,
   "id": "f341be48-77b0-458f-9227-093b72102f96",
   "metadata": {},
   "outputs": [],
   "source": []
  },
  {
   "cell_type": "code",
   "execution_count": 10,
   "id": "a97a154a-78fd-490d-9c73-b0450b30c7b1",
   "metadata": {
    "execution": {
     "iopub.execute_input": "2025-02-26T14:15:13.166161Z",
     "iopub.status.busy": "2025-02-26T14:15:13.165920Z",
     "iopub.status.idle": "2025-02-26T14:15:13.518473Z",
     "shell.execute_reply": "2025-02-26T14:15:13.517873Z",
     "shell.execute_reply.started": "2025-02-26T14:15:13.166146Z"
    }
   },
   "outputs": [
    {
     "data": {
      "text/html": [
       "\n",
       "    <script src=\"/static/.hidden/netpixi.min.js\"></script>\n"
      ],
      "text/plain": [
       "<IPython.core.display.HTML object>"
      ]
     },
     "metadata": {},
     "output_type": "display_data"
    }
   ],
   "source": [
    "import netpixi\n",
    "\n",
    "from graph_tool import draw"
   ]
  },
  {
   "cell_type": "code",
   "execution_count": 12,
   "id": "6b9d4c58-6613-42d6-b3c9-e515c1e7c550",
   "metadata": {
    "execution": {
     "iopub.execute_input": "2025-02-26T14:18:46.404237Z",
     "iopub.status.busy": "2025-02-26T14:18:46.403598Z",
     "iopub.status.idle": "2025-02-26T14:18:49.175012Z",
     "shell.execute_reply": "2025-02-26T14:18:49.174229Z",
     "shell.execute_reply.started": "2025-02-26T14:18:46.404211Z"
    }
   },
   "outputs": [],
   "source": [
    "g = gte.load(\"movies.net.gz\")\n",
    "\n",
    "layout = draw.sfdp_layout(g)\n",
    "\n",
    "gte.move(g, layout)\n",
    "\n",
    "gte.save(g, \"movies_reposicionado.net.gz\")"
   ]
  },
  {
   "cell_type": "code",
   "execution_count": null,
   "id": "26283897-079a-447e-8645-bdd3864513af",
   "metadata": {},
   "outputs": [],
   "source": [
    "netpixi.render(\"movies_reposicionado.net.gz\")"
   ]
  },
  {
   "cell_type": "code",
   "execution_count": 15,
   "id": "5ad5c2db-ed27-4ebf-9ca4-6924270d86e2",
   "metadata": {
    "execution": {
     "iopub.execute_input": "2025-02-26T14:36:35.130649Z",
     "iopub.status.busy": "2025-02-26T14:36:35.130216Z",
     "iopub.status.idle": "2025-02-26T14:36:35.141452Z",
     "shell.execute_reply": "2025-02-26T14:36:35.140927Z",
     "shell.execute_reply.started": "2025-02-26T14:36:35.130625Z"
    }
   },
   "outputs": [
    {
     "data": {
      "text/plain": [
       "1698"
      ]
     },
     "execution_count": 15,
     "metadata": {},
     "output_type": "execute_result"
    }
   ],
   "source": [
    "len(genres) + len(set(df[\"movie_id\"]))"
   ]
  },
  {
   "cell_type": "code",
   "execution_count": null,
   "id": "72078df5-9660-4940-b808-ff9038e1a660",
   "metadata": {},
   "outputs": [],
   "source": [
    "len"
   ]
  },
  {
   "cell_type": "code",
   "execution_count": null,
   "id": "2386bfad-9f54-4641-aeff-3c0851d668d8",
   "metadata": {},
   "outputs": [],
   "source": []
  },
  {
   "cell_type": "code",
   "execution_count": 16,
   "id": "65b3b5a6-b0d2-40fa-bbff-b352bce01e85",
   "metadata": {
    "execution": {
     "iopub.execute_input": "2025-02-26T14:38:41.748112Z",
     "iopub.status.busy": "2025-02-26T14:38:41.747878Z",
     "iopub.status.idle": "2025-02-26T14:38:41.752310Z",
     "shell.execute_reply": "2025-02-26T14:38:41.751823Z",
     "shell.execute_reply.started": "2025-02-26T14:38:41.748098Z"
    }
   },
   "outputs": [
    {
     "data": {
      "text/plain": [
       "2891"
      ]
     },
     "execution_count": 16,
     "metadata": {},
     "output_type": "execute_result"
    }
   ],
   "source": [
    "g.num_edges()"
   ]
  },
  {
   "cell_type": "code",
   "execution_count": 18,
   "id": "524ecd3b-f456-4b9c-a05e-6d3235a1c9a1",
   "metadata": {
    "execution": {
     "iopub.execute_input": "2025-02-26T14:39:42.433689Z",
     "iopub.status.busy": "2025-02-26T14:39:42.433423Z",
     "iopub.status.idle": "2025-02-26T14:39:42.436962Z",
     "shell.execute_reply": "2025-02-26T14:39:42.436589Z",
     "shell.execute_reply.started": "2025-02-26T14:39:42.433663Z"
    }
   },
   "outputs": [
    {
     "data": {
      "text/plain": [
       "1698"
      ]
     },
     "execution_count": 18,
     "metadata": {},
     "output_type": "execute_result"
    }
   ],
   "source": [
    "g.num_vertices()"
   ]
  },
  {
   "cell_type": "code",
   "execution_count": null,
   "id": "de54f039-d561-45b3-a767-7b943adb6ee7",
   "metadata": {},
   "outputs": [],
   "source": []
  }
 ],
 "metadata": {
  "kernelspec": {
   "display_name": "Python 3 (ipykernel)",
   "language": "python",
   "name": "python3"
  },
  "language_info": {
   "codemirror_mode": {
    "name": "ipython",
    "version": 3
   },
   "file_extension": ".py",
   "mimetype": "text/x-python",
   "name": "python",
   "nbconvert_exporter": "python",
   "pygments_lexer": "ipython3",
   "version": "3.13.1"
  }
 },
 "nbformat": 4,
 "nbformat_minor": 5
}
