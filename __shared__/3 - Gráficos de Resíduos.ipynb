{
 "cells": [
  {
   "cell_type": "markdown",
   "id": "35729533-812b-4c76-a904-f6b37aaef3f5",
   "metadata": {},
   "source": [
    "# 3 - Gráficos de Resíduos"
   ]
  },
  {
   "cell_type": "code",
   "execution_count": null,
   "id": "7dc4507c",
   "metadata": {},
   "outputs": [],
   "source": [
    "import regression as reg\n",
    "import pandas as pd\n",
    "import numpy as np"
   ]
  },
  {
   "cell_type": "markdown",
   "id": "5bf25e79-6f84-43e6-99b6-c0331550e429",
   "metadata": {},
   "source": [
    "## Regressões lineares"
   ]
  },
  {
   "cell_type": "markdown",
   "id": "314c3d8a",
   "metadata": {},
   "source": [
    "Vamos considerar uma parte do dataset [100,000 UK Used Car Data set](https://www.kaggle.com/datasets/adityadesai13/used-car-dataset-ford-and-mercedes). Cada item desse dataset representa um carro usado vendido no Reino Unido. Ele pode ser usado, por exemplo, para descobrir relações entre o preço e outras características."
   ]
  },
  {
   "cell_type": "code",
   "execution_count": null,
   "id": "a3f86cbc",
   "metadata": {},
   "outputs": [],
   "source": [
    "data = pd.read_csv('../../Datasets/audi.csv')\n",
    "data.head()"
   ]
  },
  {
   "cell_type": "markdown",
   "id": "0b2ab371",
   "metadata": {},
   "source": [
    "A regressão abaixo sugere que o preço tem relação com todas as variáveis quantitativas."
   ]
  },
  {
   "cell_type": "code",
   "execution_count": null,
   "id": "11147f99",
   "metadata": {},
   "outputs": [],
   "source": [
    "result = reg.linear(data=data, formula='price ~ year + mileage + tax + mpg + engineSize')\n",
    "result.micro_summary()"
   ]
  },
  {
   "cell_type": "markdown",
   "id": "4358bdb6",
   "metadata": {},
   "source": [
    "No entanto, isso não significa que esse modelo seja adequado. Para verificá-lo, podemos plotar o gráfico de resíduos. Nesse gráfico, o eixo horizontal representa os valores previstos pelo modelo, enquanto o eixo vertical representa os erros, ou seja, a diferença\n",
    "\n",
    "$$y_{\\mathrm{esperado}} - y_{\\mathrm{previsto}}.$$"
   ]
  },
  {
   "cell_type": "code",
   "execution_count": null,
   "id": "dd824b6d",
   "metadata": {},
   "outputs": [],
   "source": [
    "result.plot_residuals()"
   ]
  },
  {
   "cell_type": "markdown",
   "id": "b1ce8586",
   "metadata": {},
   "source": [
    "Quando o modelo é adequado, espera-se que esses erros tenham comportamento aleatório, ou seja:\n",
    "\n",
    "1. a distribuição deles deve ser próxima de uma normal;\n",
    "\n",
    "2. nenhum padrão deve ser evidente.\n",
    "\n",
    "Podemos observar acima que (1) não parece tão ruim, mas (2) definitivamente parece. O erro tende a aumentar conforme o preço fica mais alto. Isso sugere que a relação verdadeira pode ser exponencial ou polinomial, não linear. Para verificar, vamos considerar o logaritmo do preço."
   ]
  },
  {
   "cell_type": "code",
   "execution_count": null,
   "id": "3519dcb9",
   "metadata": {},
   "outputs": [],
   "source": [
    "result = reg.linear(data=data, formula='np.log(price) ~ year + mileage + tax + mpg + engineSize')\n",
    "result.micro_summary()"
   ]
  },
  {
   "cell_type": "markdown",
   "id": "81636cd9-3b2b-45e8-8e01-fd9fef2bf1df",
   "metadata": {},
   "source": [
    "Note que os valores-p continuam baixos e os erros padrão estão menores. "
   ]
  },
  {
   "cell_type": "code",
   "execution_count": null,
   "id": "a4ec7712-4e91-47a9-bac9-0eb995e44e50",
   "metadata": {},
   "outputs": [],
   "source": [
    "result.plot_residuals()"
   ]
  },
  {
   "cell_type": "markdown",
   "id": "cbfcba2d",
   "metadata": {},
   "source": [
    "De acordo com (1) e (2), o modelo parece estar mais adequado.\n",
    "\n",
    "Isso, claro, não significa que esse modelo é perfeito ou mesmo bom. Mas indica, pelo menos, que ele não está incoerente com as premissas adotadas."
   ]
  },
  {
   "cell_type": "markdown",
   "id": "fa2d114b-221c-4a3f-8ffb-8dffe8971d28",
   "metadata": {},
   "source": [
    "## Regressões lineares"
   ]
  },
  {
   "cell_type": "markdown",
   "id": "9c4cd4c8",
   "metadata": {},
   "source": [
    "Também podemos plotar o gráfico de resíduos para uma regressão logística.\n",
    "\n",
    "Vamos considerar o [Income Dataset](https://www.kaggle.com/datasets/mastmustu/income). Cada item desse dataset corrresponde a uma pessoa dos Estados Unidos e contém uma variável binária que indica se essa pessoa tem renda superior a 50 mil."
   ]
  },
  {
   "cell_type": "code",
   "execution_count": null,
   "id": "c0bd2478",
   "metadata": {},
   "outputs": [],
   "source": [
    "data = pd.read_csv('../../Datasets/income.csv')\n",
    "data.head()"
   ]
  },
  {
   "cell_type": "markdown",
   "id": "470cc597",
   "metadata": {},
   "source": [
    "A regressão abaixo sugere que a renda tem relação com idade e nível educacional.\n",
    "\n",
    "*(o uso de Q na fórmula é necessário quando o nome da coluna tem caracteres inválidos)*"
   ]
  },
  {
   "cell_type": "code",
   "execution_count": null,
   "id": "f607b4f5-8cd6-4728-95d2-6a3314a0070a",
   "metadata": {},
   "outputs": [],
   "source": [
    "result = reg.logistic(data=data, formula='Q(\"income_>50K\") ~ age + Q(\"educational-num\")')\n",
    "result.micro_summary()"
   ]
  },
  {
   "cell_type": "markdown",
   "id": "bbb19150",
   "metadata": {},
   "source": [
    "No gráfico de resíduos de uma regressão logística, queremos duas propriedades:\n",
    "\n",
    "1. pelo menos 95% dos pontos devem estar entre as linhas;\n",
    "\n",
    "2. nenhum padrão deve ser evidente.\n",
    "\n",
    "Podemos observar que tanto (1) quanto (2) não parecem ser verdade."
   ]
  },
  {
   "cell_type": "code",
   "execution_count": null,
   "id": "81de9f9d",
   "metadata": {},
   "outputs": [],
   "source": [
    "result.plot_residuals()"
   ]
  },
  {
   "cell_type": "markdown",
   "id": "412c1e16",
   "metadata": {},
   "source": [
    "Como a variável dependente é binária, não podemos considerar um cálculo sobre ela. Porém, tanto no gráfico de resíduos da regressão linear quanto no gráfico de resíduos da regressão logística, podemos usar uma das variáveis independentes como eixo horizontal. Isso é particularmente útil para visualizar a relação entre cada uma delas e o erro."
   ]
  },
  {
   "cell_type": "code",
   "execution_count": null,
   "id": "fea33e86",
   "metadata": {},
   "outputs": [],
   "source": [
    "result.plot_residuals(data['age'])"
   ]
  },
  {
   "cell_type": "code",
   "execution_count": null,
   "id": "b2f139ac",
   "metadata": {},
   "outputs": [],
   "source": [
    "result.plot_residuals(data['educational-num'])"
   ]
  },
  {
   "cell_type": "markdown",
   "id": "861816f2",
   "metadata": {},
   "source": [
    "Note que o modelo parece errar mais para idades abaixo de 30, idades acima de 60 e níveis educacionais mais altos."
   ]
  },
  {
   "attachments": {
    "5a5268fc-95d3-4655-8915-c5a1488e8e99.png": {
     "image/png": "[encoded data removed]"
    }
   },
   "cell_type": "markdown",
   "id": "813a4d58",
   "metadata": {},
   "source": [
    "<div class=\"alert alert-block alert-info\">\n",
    "   <strong>DICA:</strong> Você pode clicar na aba\n",
    "   <img style=\"vertical-align: middle\" src=\"attachment:5a5268fc-95d3-4655-8915-c5a1488e8e99.png\" alt\"toc.png\">\n",
    "   à esquerda para navegar por seção.\n",
    "</div>"
   ]
  }
 ],
 "metadata": {
  "kernelspec": {
   "display_name": "Python 3 (ipykernel)",
   "language": "python",
   "name": "python3"
  },
  "language_info": {
   "codemirror_mode": {
    "name": "ipython",
    "version": 3
   },
   "file_extension": ".py",
   "mimetype": "text/x-python",
   "name": "python",
   "nbconvert_exporter": "python",
   "pygments_lexer": "ipython3",
   "version": "3.13.1"
  }
 },
 "nbformat": 4,
 "nbformat_minor": 5
}
