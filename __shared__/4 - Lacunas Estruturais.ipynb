{
 "cells": [
  {
   "cell_type": "markdown",
   "id": "e00385ea-fd6a-4a19-8766-6fd74e6b28cc",
   "metadata": {},
   "source": [
    "# 4 - Lacunas Estruturais"
   ]
  },
  {
   "cell_type": "code",
   "execution_count": 1,
   "id": "5625da2a",
   "metadata": {
    "execution": {
     "iopub.execute_input": "2025-03-24T14:09:03.048653Z",
     "iopub.status.busy": "2025-03-24T14:09:03.048061Z",
     "iopub.status.idle": "2025-03-24T14:09:04.227284Z",
     "shell.execute_reply": "2025-03-24T14:09:04.226781Z",
     "shell.execute_reply.started": "2025-03-24T14:09:03.048604Z"
    }
   },
   "outputs": [
    {
     "data": {
      "text/html": [
       "\n",
       "    <script src=\"/static/.hidden/netpixi.min.js\"></script>\n"
      ],
      "text/plain": [
       "<IPython.core.display.HTML object>"
      ]
     },
     "metadata": {},
     "output_type": "display_data"
    }
   ],
   "source": [
    "import netpixi\n",
    "import graph_tool_extras as gte"
   ]
  },
  {
   "cell_type": "markdown",
   "id": "2546a91b-45a6-41ef-a9ae-02779efaf593",
   "metadata": {},
   "source": [
    "## Motivação"
   ]
  },
  {
   "cell_type": "markdown",
   "id": "c5fe07a9-5f0d-415d-8881-dd793ce47de9",
   "metadata": {},
   "source": [
    "Na rede abaixo, os vértices são famílias da elite da Florença no século XV e as arestas representam relações de casamento ou negócio [[1](#medici), [2](#duality)]."
   ]
  },
  {
   "cell_type": "code",
   "execution_count": null,
   "id": "f665b2d5-e4d9-4602-be14-fe43ef503f3d",
   "metadata": {},
   "outputs": [],
   "source": [
    "netpixi.render('../../../Datasets/florentine-families-clean.net.gz');"
   ]
  },
  {
   "cell_type": "markdown",
   "id": "fe7feadc-2aad-47dc-b48b-6cbe7f091551",
   "metadata": {},
   "source": [
    "Particularmente no tutorial de betweenness, vimos que algumas famílias eram *intermediadoras,* ou seja, necessárias para que uma informação chegasse de uma família a outra.\n",
    "\n",
    "No entanto, o cálculo do betweenness é *global,* ou seja, considera toda a rede. Dependendo do contexto, esse cálculo pode ser inadequado, pois:\n",
    "\n",
    "* em muitas redes, uma informação não anda mais do que um ou dois passos;\n",
    "\n",
    "* nem sempre temos informação sobre toda a rede.\n",
    "\n",
    "Este tutorial, em particular, busca responder à seguinte pergunta: *como estimar a intermediação de um vértice considerando apenas os vizinhos desse vértice?*"
   ]
  },
  {
   "cell_type": "markdown",
   "id": "df926197-d789-4cde-a358-0ab41b7f8422",
   "metadata": {},
   "source": [
    "## Intuição"
   ]
  },
  {
   "cell_type": "markdown",
   "id": "f2d23268-afd5-41fa-b65a-a862aebee3e7",
   "metadata": {},
   "source": [
    "Na teoria de **lacunas estruturais** *(structural holes),* uma relação entre uma pessoa A e outra pessoa B é *redundante* para A se existe um terceira pessoa C tal que existe uma relação entre A e C e existe uma relação entre C e B. A ideia é que, como A tem acesso aos recursos de B *através* de C, não precisa manter uma relação com B.\n",
    "\n",
    "Isso é relevante quando consideramos que manter uma relação exige, no mínimo, um investimento de tempo. Como não é possível manter *infinitas* relações, precisamos manter *boas* relações.\n",
    "\n",
    "A partir dessas observações, vamos considerar a seguinte ideia: *calcular uma métrica que representa, ao mesmo tempo, muitas conexões e pouca redundância.*"
   ]
  },
  {
   "cell_type": "markdown",
   "id": "424e40a0-234c-4a85-ab0e-9cbd27530fe9",
   "metadata": {},
   "source": [
    "## Definições"
   ]
  },
  {
   "cell_type": "markdown",
   "id": "26f672c3-10b3-4188-8599-a604e9ce696d",
   "metadata": {},
   "source": [
    "Dado um vértice $u$, seja $N(u)$ o conjunto de sucessores de $u$.\n",
    "\n",
    "Dados dois vértices, $u$ e $w$, seja $p_{uw}$ o *investimento* que $u$ faz para manter a relação com $w$. Por simplicidade, vamos estabelecer que\n",
    "\n",
    "$$p_{uw} = \\frac{1}{\\delta(u)},$$\n",
    "\n",
    "onde $\\delta(u)$ é o número de sucessores de $u$. Ou seja, quanto maior o número de relações, menor o investimento em cada uma."
   ]
  },
  {
   "cell_type": "markdown",
   "id": "e885e87c",
   "metadata": {},
   "source": [
    "A **restrição de Burt** *(Burt constraint)* de $u$ é dada por:\n",
    "\n",
    "$$\\sum_{v \\in N(u)} \\left(p_{uv} + \\sum_{w \\in N(u) \\cap N(v)} p_{uw} p_{wv}\\right)^2.$$\n",
    "\n",
    "Ou seja, é um valor que *diminui* quando há muitas conexões e pouca redundância."
   ]
  },
  {
   "cell_type": "markdown",
   "id": "69f49abc-84b6-4f91-a90d-9d6d72c751f1",
   "metadata": {},
   "source": [
    "## Cálculo"
   ]
  },
  {
   "cell_type": "markdown",
   "id": "61466f5c",
   "metadata": {},
   "source": [
    "Para calcular a restrição de Burt, podemos chamar a função `constraint`.\n",
    "\n",
    "Essa função devolve uma propriedade de vértice. Podemos adicionar essa propriedade ao grafo passando ela como segundo parâmetro do método `add_vp`."
   ]
  },
  {
   "cell_type": "code",
   "execution_count": 12,
   "id": "1e457ceb",
   "metadata": {
    "execution": {
     "iopub.execute_input": "2025-03-24T14:58:33.874744Z",
     "iopub.status.busy": "2025-03-24T14:58:33.874503Z",
     "iopub.status.idle": "2025-03-24T14:58:35.933337Z",
     "shell.execute_reply": "2025-03-24T14:58:35.932415Z",
     "shell.execute_reply.started": "2025-03-24T14:58:33.874726Z"
    }
   },
   "outputs": [],
   "source": [
    "g = gte.load('movies_reposicionado3.net.gz')\n",
    "\n",
    "c = gte.burt_constraint(g)\n",
    "d = gte.total_degree(g)\n",
    "\n",
    "g.add_vp('burt_constraint', c)"
   ]
  },
  {
   "cell_type": "code",
   "execution_count": 13,
   "id": "ec87180f-a232-4c6a-af21-a3121c3147c4",
   "metadata": {
    "execution": {
     "iopub.execute_input": "2025-03-24T14:58:35.934324Z",
     "iopub.status.busy": "2025-03-24T14:58:35.934120Z",
     "iopub.status.idle": "2025-03-24T14:58:35.943097Z",
     "shell.execute_reply": "2025-03-24T14:58:35.942427Z",
     "shell.execute_reply.started": "2025-03-24T14:58:35.934306Z"
    }
   },
   "outputs": [],
   "source": [
    "dicio = {\"restricao\": c, \"degree\": d}\n",
    "import pandas as pd\n",
    "df = pd.DataFrame(dicio)"
   ]
  },
  {
   "cell_type": "code",
   "execution_count": 11,
   "id": "965113e3-995e-40d4-87bb-c1622d87fa0e",
   "metadata": {
    "execution": {
     "iopub.execute_input": "2025-03-24T14:56:31.242467Z",
     "iopub.status.busy": "2025-03-24T14:56:31.241895Z",
     "iopub.status.idle": "2025-03-24T14:56:31.611407Z",
     "shell.execute_reply": "2025-03-24T14:56:31.610898Z",
     "shell.execute_reply.started": "2025-03-24T14:56:31.242440Z"
    }
   },
   "outputs": [
    {
     "data": {
      "image/png": "[encoded data removed]",
      "text/plain": [
       "<Figure size 640x480 with 1 Axes>"
      ]
     },
     "metadata": {},
     "output_type": "display_data"
    }
   ],
   "source": [
    "import matplotlib.pyplot as plt\n",
    "\n",
    "plt.hist(df[\"restricao\"], bins=30, log=True) # Aumente o número de bins\n",
    "plt.xlabel(\"Valores\")\n",
    "plt.ylabel(\"Frequência\")\n",
    "plt.title(\"Histograma da Coluna 'restricao'\")\n",
    "plt.show()\n"
   ]
  },
  {
   "cell_type": "code",
   "execution_count": 15,
   "id": "1db9f963-eff8-47c7-8beb-088441903099",
   "metadata": {
    "execution": {
     "iopub.execute_input": "2025-03-24T14:59:16.115388Z",
     "iopub.status.busy": "2025-03-24T14:59:16.115095Z",
     "iopub.status.idle": "2025-03-24T14:59:16.221282Z",
     "shell.execute_reply": "2025-03-24T14:59:16.220645Z",
     "shell.execute_reply.started": "2025-03-24T14:59:16.115367Z"
    }
   },
   "outputs": [
    {
     "data": {
      "image/png": "[encoded data removed]",
      "text/plain": [
       "<Figure size 640x480 with 1 Axes>"
      ]
     },
     "metadata": {},
     "output_type": "display_data"
    }
   ],
   "source": [
    "plt.scatter(df[\"degree\"], df[\"restricao\"], alpha=0.5)\n",
    "plt.xlabel(\"Degree\")\n",
    "plt.ylabel(\"Restrição\")\n",
    "plt.title(\"Scatter Plot da Coluna 'Restrição'\")\n",
    "plt.show()\n"
   ]
  },
  {
   "cell_type": "markdown",
   "id": "6e40f02b-3a06-4b7a-8f8a-9d464b5a3d54",
   "metadata": {},
   "source": [
    "## Visualização"
   ]
  },
  {
   "cell_type": "markdown",
   "id": "04b60647",
   "metadata": {},
   "source": [
    "Lembre que, para visualizar a rede modificada, precisamos salvar ela em um novo arquivo."
   ]
  },
  {
   "cell_type": "code",
   "execution_count": 3,
   "id": "33ea990b",
   "metadata": {
    "execution": {
     "iopub.execute_input": "2025-03-24T14:09:33.620976Z",
     "iopub.status.busy": "2025-03-24T14:09:33.620387Z",
     "iopub.status.idle": "2025-03-24T14:09:33.824075Z",
     "shell.execute_reply": "2025-03-24T14:09:33.823524Z",
     "shell.execute_reply.started": "2025-03-24T14:09:33.620945Z"
    }
   },
   "outputs": [],
   "source": [
    "gte.save(g, 'structural_holes.net.gz')"
   ]
  },
  {
   "cell_type": "markdown",
   "id": "0243e098",
   "metadata": {},
   "source": [
    "Como a rede não é muito grande, vamos desconsiderar o tutorial de visualização em larga escala e rodar uma segunda visualização."
   ]
  },
  {
   "cell_type": "code",
   "execution_count": null,
   "id": "f811158b",
   "metadata": {},
   "outputs": [],
   "source": [
    "r = netpixi.render('structural_holes.net.gz')"
   ]
  },
  {
   "cell_type": "markdown",
   "id": "6235c5a8",
   "metadata": {},
   "source": [
    "Nessa visualização, podemos chamar o método `vertex_scale` para usar a restrição de Burt como tamanho dos vértices.\n",
    "\n",
    "Esse método recebe três parâmetros: o primeiro é o nome da propriedade, o segundo é o tamanho mínimo e o terceiro é o tamanho máximo."
   ]
  },
  {
   "cell_type": "code",
   "execution_count": 5,
   "id": "c2ae4564",
   "metadata": {
    "execution": {
     "iopub.execute_input": "2025-03-24T14:09:34.982165Z",
     "iopub.status.busy": "2025-03-24T14:09:34.981640Z",
     "iopub.status.idle": "2025-03-24T14:09:34.993818Z",
     "shell.execute_reply": "2025-03-24T14:09:34.992568Z",
     "shell.execute_reply.started": "2025-03-24T14:09:34.982127Z"
    }
   },
   "outputs": [
    {
     "data": {
      "text/html": [
       "\n",
       "        <div id=\"7UmxdZDnxPKCsVhi5j3zYd\"></div>\n",
       "        <script>netpixi.call('7UmxdZDnxPKCsVhi5j3zYd', 'bnPSwTszVpU4vEoULA6mXK', 'normalizeGraph', 'eyJ0eXBlIjogInZlcnRleCIsICJwcm9wcyI6IHsic3JjIjogImJ1cnRfY29uc3RyYWludCIsICJtaW4iOiAxMCwgIm1heCI6IDMwfX0K');</script>\n",
       "    "
      ],
      "text/plain": [
       "<IPython.core.display.HTML object>"
      ]
     },
     "metadata": {},
     "output_type": "display_data"
    }
   ],
   "source": [
    "r.vertex_scale('burt_constraint', 10, 30)"
   ]
  },
  {
   "cell_type": "markdown",
   "id": "2d449faa-5739-49bb-ad0c-58d3ac892671",
   "metadata": {},
   "source": [
    "## Referências\n",
    "\n",
    "[<a name=\"medici\">1</a>] J. F. Padgett e C. K. Ansell. *Robust action and the rise of the Medici, 1400-1434.* American Journal of Sociology, 98(6), 1993.\n",
    "\n",
    "[<a name=\"duality\">2</a>] R. L. Breiger e P. E. Pattison. *Cumulated social roles: the duality of persons and their algebras.* Social Networks, 8(3), 1986."
   ]
  },
  {
   "attachments": {
    "c8c936fe-b677-4dfe-966a-3dbde73e3635.png": {
     "image/png": "[encoded data removed]"
    }
   },
   "cell_type": "markdown",
   "id": "74827ee7",
   "metadata": {},
   "source": [
    "<div class=\"alert alert-block alert-info\">\n",
    "   <strong>DICA:</strong> Você pode clicar na aba\n",
    "   <img style=\"vertical-align: middle\" src=\"attachment:c8c936fe-b677-4dfe-966a-3dbde73e3635.png\" alt\"toc.png\">\n",
    "   à esquerda para navegar por seção.\n",
    "</div>"
   ]
  }
 ],
 "metadata": {
  "kernelspec": {
   "display_name": "Python 3 (ipykernel)",
   "language": "python",
   "name": "python3"
  },
  "language_info": {
   "codemirror_mode": {
    "name": "ipython",
    "version": 3
   },
   "file_extension": ".py",
   "mimetype": "text/x-python",
   "name": "python",
   "nbconvert_exporter": "python",
   "pygments_lexer": "ipython3",
   "version": "3.13.1"
  }
 },
 "nbformat": 4,
 "nbformat_minor": 5
}
